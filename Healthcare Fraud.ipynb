{
 "cells": [
  {
   "cell_type": "code",
   "execution_count": 1,
   "id": "077ef886",
   "metadata": {},
   "outputs": [],
   "source": [
    "import numpy as np\n",
    "import pandas as pd"
   ]
  },
  {
   "cell_type": "code",
   "execution_count": 167,
   "id": "820f61a3",
   "metadata": {},
   "outputs": [],
   "source": [
    "# inpatient= pd.read_csv('inpatient.csv')\n",
    "# outpatient= pd.read_csv('outpatient.csv')\n",
    "# bene = pd.read_csv('bene.csv')"
   ]
  },
  {
   "cell_type": "code",
   "execution_count": 69,
   "id": "95392886",
   "metadata": {},
   "outputs": [
    {
     "data": {
      "text/html": [
       "<div>\n",
       "<style scoped>\n",
       "    .dataframe tbody tr th:only-of-type {\n",
       "        vertical-align: middle;\n",
       "    }\n",
       "\n",
       "    .dataframe tbody tr th {\n",
       "        vertical-align: top;\n",
       "    }\n",
       "\n",
       "    .dataframe thead th {\n",
       "        text-align: right;\n",
       "    }\n",
       "</style>\n",
       "<table border=\"1\" class=\"dataframe\">\n",
       "  <thead>\n",
       "    <tr style=\"text-align: right;\">\n",
       "      <th></th>\n",
       "      <th>BeneID</th>\n",
       "      <th>ClaimID</th>\n",
       "      <th>ClaimStartDt</th>\n",
       "      <th>ClaimEndDt</th>\n",
       "      <th>Provider</th>\n",
       "      <th>InscClaimAmtReimbursed</th>\n",
       "      <th>AttendingPhysician</th>\n",
       "      <th>OperatingPhysician</th>\n",
       "      <th>OtherPhysician</th>\n",
       "      <th>ClmDiagnosisCode_1</th>\n",
       "      <th>...</th>\n",
       "      <th>ClmProcedureCode_3</th>\n",
       "      <th>ClmProcedureCode_4</th>\n",
       "      <th>ClmProcedureCode_5</th>\n",
       "      <th>ClmProcedureCode_6</th>\n",
       "      <th>DeductibleAmtPaid</th>\n",
       "      <th>ClmAdmitDiagnosisCode</th>\n",
       "      <th>total_chronic</th>\n",
       "      <th>DOB</th>\n",
       "      <th>Age</th>\n",
       "      <th>PotentialFraud</th>\n",
       "    </tr>\n",
       "  </thead>\n",
       "  <tbody>\n",
       "    <tr>\n",
       "      <th>0</th>\n",
       "      <td>BENE11002</td>\n",
       "      <td>CLM624349</td>\n",
       "      <td>2009-10-11</td>\n",
       "      <td>2009-10-11</td>\n",
       "      <td>PRV56011</td>\n",
       "      <td>30</td>\n",
       "      <td>PHY326117</td>\n",
       "      <td>NaN</td>\n",
       "      <td>NaN</td>\n",
       "      <td>78943</td>\n",
       "      <td>...</td>\n",
       "      <td>NaN</td>\n",
       "      <td>NaN</td>\n",
       "      <td>NaN</td>\n",
       "      <td>NaN</td>\n",
       "      <td>0</td>\n",
       "      <td>56409</td>\n",
       "      <td>0</td>\n",
       "      <td>1936-09-01</td>\n",
       "      <td>73</td>\n",
       "      <td>Yes</td>\n",
       "    </tr>\n",
       "    <tr>\n",
       "      <th>1</th>\n",
       "      <td>BENE11003</td>\n",
       "      <td>CLM189947</td>\n",
       "      <td>2009-02-12</td>\n",
       "      <td>2009-02-12</td>\n",
       "      <td>PRV57610</td>\n",
       "      <td>80</td>\n",
       "      <td>PHY362868</td>\n",
       "      <td>NaN</td>\n",
       "      <td>NaN</td>\n",
       "      <td>6115</td>\n",
       "      <td>...</td>\n",
       "      <td>NaN</td>\n",
       "      <td>NaN</td>\n",
       "      <td>NaN</td>\n",
       "      <td>NaN</td>\n",
       "      <td>0</td>\n",
       "      <td>79380</td>\n",
       "      <td>2</td>\n",
       "      <td>1936-08-01</td>\n",
       "      <td>73</td>\n",
       "      <td>No</td>\n",
       "    </tr>\n",
       "    <tr>\n",
       "      <th>2</th>\n",
       "      <td>BENE11003</td>\n",
       "      <td>CLM438021</td>\n",
       "      <td>2009-06-27</td>\n",
       "      <td>2009-06-27</td>\n",
       "      <td>PRV57595</td>\n",
       "      <td>10</td>\n",
       "      <td>PHY328821</td>\n",
       "      <td>NaN</td>\n",
       "      <td>NaN</td>\n",
       "      <td>2723</td>\n",
       "      <td>...</td>\n",
       "      <td>NaN</td>\n",
       "      <td>NaN</td>\n",
       "      <td>NaN</td>\n",
       "      <td>NaN</td>\n",
       "      <td>0</td>\n",
       "      <td>NaN</td>\n",
       "      <td>2</td>\n",
       "      <td>1936-08-01</td>\n",
       "      <td>73</td>\n",
       "      <td>No</td>\n",
       "    </tr>\n",
       "    <tr>\n",
       "      <th>3</th>\n",
       "      <td>BENE11004</td>\n",
       "      <td>CLM121801</td>\n",
       "      <td>2009-01-06</td>\n",
       "      <td>2009-01-06</td>\n",
       "      <td>PRV56011</td>\n",
       "      <td>40</td>\n",
       "      <td>PHY334319</td>\n",
       "      <td>NaN</td>\n",
       "      <td>NaN</td>\n",
       "      <td>71988</td>\n",
       "      <td>...</td>\n",
       "      <td>NaN</td>\n",
       "      <td>NaN</td>\n",
       "      <td>NaN</td>\n",
       "      <td>NaN</td>\n",
       "      <td>0</td>\n",
       "      <td>NaN</td>\n",
       "      <td>6</td>\n",
       "      <td>1922-07-01</td>\n",
       "      <td>87</td>\n",
       "      <td>Yes</td>\n",
       "    </tr>\n",
       "    <tr>\n",
       "      <th>4</th>\n",
       "      <td>BENE11004</td>\n",
       "      <td>CLM150998</td>\n",
       "      <td>2009-01-22</td>\n",
       "      <td>2009-01-22</td>\n",
       "      <td>PRV56011</td>\n",
       "      <td>200</td>\n",
       "      <td>PHY403831</td>\n",
       "      <td>NaN</td>\n",
       "      <td>NaN</td>\n",
       "      <td>82382</td>\n",
       "      <td>...</td>\n",
       "      <td>NaN</td>\n",
       "      <td>NaN</td>\n",
       "      <td>NaN</td>\n",
       "      <td>NaN</td>\n",
       "      <td>0</td>\n",
       "      <td>71947</td>\n",
       "      <td>6</td>\n",
       "      <td>1922-07-01</td>\n",
       "      <td>87</td>\n",
       "      <td>Yes</td>\n",
       "    </tr>\n",
       "  </tbody>\n",
       "</table>\n",
       "<p>5 rows × 31 columns</p>\n",
       "</div>"
      ],
      "text/plain": [
       "      BeneID    ClaimID ClaimStartDt  ClaimEndDt  Provider  \\\n",
       "0  BENE11002  CLM624349   2009-10-11  2009-10-11  PRV56011   \n",
       "1  BENE11003  CLM189947   2009-02-12  2009-02-12  PRV57610   \n",
       "2  BENE11003  CLM438021   2009-06-27  2009-06-27  PRV57595   \n",
       "3  BENE11004  CLM121801   2009-01-06  2009-01-06  PRV56011   \n",
       "4  BENE11004  CLM150998   2009-01-22  2009-01-22  PRV56011   \n",
       "\n",
       "   InscClaimAmtReimbursed AttendingPhysician OperatingPhysician  \\\n",
       "0                      30          PHY326117                NaN   \n",
       "1                      80          PHY362868                NaN   \n",
       "2                      10          PHY328821                NaN   \n",
       "3                      40          PHY334319                NaN   \n",
       "4                     200          PHY403831                NaN   \n",
       "\n",
       "  OtherPhysician ClmDiagnosisCode_1  ... ClmProcedureCode_3  \\\n",
       "0            NaN              78943  ...                NaN   \n",
       "1            NaN               6115  ...                NaN   \n",
       "2            NaN               2723  ...                NaN   \n",
       "3            NaN              71988  ...                NaN   \n",
       "4            NaN              82382  ...                NaN   \n",
       "\n",
       "  ClmProcedureCode_4 ClmProcedureCode_5 ClmProcedureCode_6 DeductibleAmtPaid  \\\n",
       "0                NaN                NaN                NaN                 0   \n",
       "1                NaN                NaN                NaN                 0   \n",
       "2                NaN                NaN                NaN                 0   \n",
       "3                NaN                NaN                NaN                 0   \n",
       "4                NaN                NaN                NaN                 0   \n",
       "\n",
       "  ClmAdmitDiagnosisCode total_chronic         DOB Age  PotentialFraud  \n",
       "0                 56409             0  1936-09-01  73             Yes  \n",
       "1                 79380             2  1936-08-01  73              No  \n",
       "2                   NaN             2  1936-08-01  73              No  \n",
       "3                   NaN             6  1922-07-01  87             Yes  \n",
       "4                 71947             6  1922-07-01  87             Yes  \n",
       "\n",
       "[5 rows x 31 columns]"
      ]
     },
     "execution_count": 69,
     "metadata": {},
     "output_type": "execute_result"
    }
   ],
   "source": [
    "outpatient.head()"
   ]
  },
  {
   "cell_type": "code",
   "execution_count": 70,
   "id": "7c86cf93",
   "metadata": {},
   "outputs": [
    {
     "data": {
      "text/html": [
       "<div>\n",
       "<style scoped>\n",
       "    .dataframe tbody tr th:only-of-type {\n",
       "        vertical-align: middle;\n",
       "    }\n",
       "\n",
       "    .dataframe tbody tr th {\n",
       "        vertical-align: top;\n",
       "    }\n",
       "\n",
       "    .dataframe thead th {\n",
       "        text-align: right;\n",
       "    }\n",
       "</style>\n",
       "<table border=\"1\" class=\"dataframe\">\n",
       "  <thead>\n",
       "    <tr style=\"text-align: right;\">\n",
       "      <th></th>\n",
       "      <th>BeneID</th>\n",
       "      <th>ClaimID</th>\n",
       "      <th>ClaimStartDt</th>\n",
       "      <th>ClaimEndDt</th>\n",
       "      <th>Provider</th>\n",
       "      <th>InscClaimAmtReimbursed</th>\n",
       "      <th>AttendingPhysician</th>\n",
       "      <th>OperatingPhysician</th>\n",
       "      <th>OtherPhysician</th>\n",
       "      <th>AdmissionDt</th>\n",
       "      <th>...</th>\n",
       "      <th>ClmProcedureCode_2</th>\n",
       "      <th>ClmProcedureCode_3</th>\n",
       "      <th>ClmProcedureCode_4</th>\n",
       "      <th>ClmProcedureCode_5</th>\n",
       "      <th>ClmProcedureCode_6</th>\n",
       "      <th>total_chronic</th>\n",
       "      <th>DOB</th>\n",
       "      <th>Age</th>\n",
       "      <th>PotentialFraud</th>\n",
       "      <th>days_admitted</th>\n",
       "    </tr>\n",
       "  </thead>\n",
       "  <tbody>\n",
       "    <tr>\n",
       "      <th>0</th>\n",
       "      <td>BENE11001</td>\n",
       "      <td>CLM46614</td>\n",
       "      <td>2009-04-12</td>\n",
       "      <td>2009-04-18</td>\n",
       "      <td>PRV55912</td>\n",
       "      <td>26000</td>\n",
       "      <td>PHY390922</td>\n",
       "      <td>NaN</td>\n",
       "      <td>NaN</td>\n",
       "      <td>2009-04-12</td>\n",
       "      <td>...</td>\n",
       "      <td>NaN</td>\n",
       "      <td>NaN</td>\n",
       "      <td>NaN</td>\n",
       "      <td>NaN</td>\n",
       "      <td>NaN</td>\n",
       "      <td>7</td>\n",
       "      <td>1943-01-01</td>\n",
       "      <td>66</td>\n",
       "      <td>Yes</td>\n",
       "      <td>6</td>\n",
       "    </tr>\n",
       "    <tr>\n",
       "      <th>1</th>\n",
       "      <td>BENE11001</td>\n",
       "      <td>CLM66048</td>\n",
       "      <td>2009-08-31</td>\n",
       "      <td>2009-09-02</td>\n",
       "      <td>PRV55907</td>\n",
       "      <td>5000</td>\n",
       "      <td>PHY318495</td>\n",
       "      <td>PHY318495</td>\n",
       "      <td>NaN</td>\n",
       "      <td>2009-08-31</td>\n",
       "      <td>...</td>\n",
       "      <td>NaN</td>\n",
       "      <td>NaN</td>\n",
       "      <td>NaN</td>\n",
       "      <td>NaN</td>\n",
       "      <td>NaN</td>\n",
       "      <td>7</td>\n",
       "      <td>1943-01-01</td>\n",
       "      <td>67</td>\n",
       "      <td>No</td>\n",
       "      <td>2</td>\n",
       "    </tr>\n",
       "    <tr>\n",
       "      <th>2</th>\n",
       "      <td>BENE11001</td>\n",
       "      <td>CLM68358</td>\n",
       "      <td>2009-09-17</td>\n",
       "      <td>2009-09-20</td>\n",
       "      <td>PRV56046</td>\n",
       "      <td>5000</td>\n",
       "      <td>PHY372395</td>\n",
       "      <td>NaN</td>\n",
       "      <td>PHY324689</td>\n",
       "      <td>2009-09-17</td>\n",
       "      <td>...</td>\n",
       "      <td>NaN</td>\n",
       "      <td>NaN</td>\n",
       "      <td>NaN</td>\n",
       "      <td>NaN</td>\n",
       "      <td>NaN</td>\n",
       "      <td>7</td>\n",
       "      <td>1943-01-01</td>\n",
       "      <td>67</td>\n",
       "      <td>No</td>\n",
       "      <td>3</td>\n",
       "    </tr>\n",
       "    <tr>\n",
       "      <th>3</th>\n",
       "      <td>BENE11011</td>\n",
       "      <td>CLM38412</td>\n",
       "      <td>2009-02-14</td>\n",
       "      <td>2009-02-22</td>\n",
       "      <td>PRV52405</td>\n",
       "      <td>5000</td>\n",
       "      <td>PHY369659</td>\n",
       "      <td>PHY392961</td>\n",
       "      <td>PHY349768</td>\n",
       "      <td>2009-02-14</td>\n",
       "      <td>...</td>\n",
       "      <td>NaN</td>\n",
       "      <td>NaN</td>\n",
       "      <td>NaN</td>\n",
       "      <td>NaN</td>\n",
       "      <td>NaN</td>\n",
       "      <td>6</td>\n",
       "      <td>1914-03-01</td>\n",
       "      <td>95</td>\n",
       "      <td>No</td>\n",
       "      <td>8</td>\n",
       "    </tr>\n",
       "    <tr>\n",
       "      <th>4</th>\n",
       "      <td>BENE11014</td>\n",
       "      <td>CLM63689</td>\n",
       "      <td>2009-08-13</td>\n",
       "      <td>2009-08-30</td>\n",
       "      <td>PRV56614</td>\n",
       "      <td>10000</td>\n",
       "      <td>PHY379376</td>\n",
       "      <td>PHY398258</td>\n",
       "      <td>NaN</td>\n",
       "      <td>2009-08-13</td>\n",
       "      <td>...</td>\n",
       "      <td>NaN</td>\n",
       "      <td>NaN</td>\n",
       "      <td>NaN</td>\n",
       "      <td>NaN</td>\n",
       "      <td>NaN</td>\n",
       "      <td>5</td>\n",
       "      <td>1938-04-01</td>\n",
       "      <td>71</td>\n",
       "      <td>No</td>\n",
       "      <td>17</td>\n",
       "    </tr>\n",
       "  </tbody>\n",
       "</table>\n",
       "<p>5 rows × 35 columns</p>\n",
       "</div>"
      ],
      "text/plain": [
       "      BeneID   ClaimID ClaimStartDt  ClaimEndDt  Provider  \\\n",
       "0  BENE11001  CLM46614   2009-04-12  2009-04-18  PRV55912   \n",
       "1  BENE11001  CLM66048   2009-08-31  2009-09-02  PRV55907   \n",
       "2  BENE11001  CLM68358   2009-09-17  2009-09-20  PRV56046   \n",
       "3  BENE11011  CLM38412   2009-02-14  2009-02-22  PRV52405   \n",
       "4  BENE11014  CLM63689   2009-08-13  2009-08-30  PRV56614   \n",
       "\n",
       "   InscClaimAmtReimbursed AttendingPhysician OperatingPhysician  \\\n",
       "0                   26000          PHY390922                NaN   \n",
       "1                    5000          PHY318495          PHY318495   \n",
       "2                    5000          PHY372395                NaN   \n",
       "3                    5000          PHY369659          PHY392961   \n",
       "4                   10000          PHY379376          PHY398258   \n",
       "\n",
       "  OtherPhysician AdmissionDt  ... ClmProcedureCode_2  ClmProcedureCode_3  \\\n",
       "0            NaN  2009-04-12  ...                NaN                 NaN   \n",
       "1            NaN  2009-08-31  ...                NaN                 NaN   \n",
       "2      PHY324689  2009-09-17  ...                NaN                 NaN   \n",
       "3      PHY349768  2009-02-14  ...                NaN                 NaN   \n",
       "4            NaN  2009-08-13  ...                NaN                 NaN   \n",
       "\n",
       "  ClmProcedureCode_4 ClmProcedureCode_5 ClmProcedureCode_6 total_chronic  \\\n",
       "0                NaN                NaN                NaN             7   \n",
       "1                NaN                NaN                NaN             7   \n",
       "2                NaN                NaN                NaN             7   \n",
       "3                NaN                NaN                NaN             6   \n",
       "4                NaN                NaN                NaN             5   \n",
       "\n",
       "          DOB Age PotentialFraud days_admitted  \n",
       "0  1943-01-01  66            Yes             6  \n",
       "1  1943-01-01  67             No             2  \n",
       "2  1943-01-01  67             No             3  \n",
       "3  1914-03-01  95             No             8  \n",
       "4  1938-04-01  71             No            17  \n",
       "\n",
       "[5 rows x 35 columns]"
      ]
     },
     "execution_count": 70,
     "metadata": {},
     "output_type": "execute_result"
    }
   ],
   "source": [
    "inpatient.head()"
   ]
  },
  {
   "cell_type": "code",
   "execution_count": 71,
   "id": "198c06c9",
   "metadata": {},
   "outputs": [
    {
     "data": {
      "text/html": [
       "<div>\n",
       "<style scoped>\n",
       "    .dataframe tbody tr th:only-of-type {\n",
       "        vertical-align: middle;\n",
       "    }\n",
       "\n",
       "    .dataframe tbody tr th {\n",
       "        vertical-align: top;\n",
       "    }\n",
       "\n",
       "    .dataframe thead th {\n",
       "        text-align: right;\n",
       "    }\n",
       "</style>\n",
       "<table border=\"1\" class=\"dataframe\">\n",
       "  <thead>\n",
       "    <tr style=\"text-align: right;\">\n",
       "      <th></th>\n",
       "      <th>BeneID</th>\n",
       "      <th>DOB</th>\n",
       "      <th>DOD</th>\n",
       "      <th>Gender</th>\n",
       "      <th>Race</th>\n",
       "      <th>RenalDiseaseIndicator</th>\n",
       "      <th>State</th>\n",
       "      <th>County</th>\n",
       "      <th>NoOfMonths_PartACov</th>\n",
       "      <th>NoOfMonths_PartBCov</th>\n",
       "      <th>...</th>\n",
       "      <th>ChronicCond_Diabetes</th>\n",
       "      <th>ChronicCond_IschemicHeart</th>\n",
       "      <th>ChronicCond_Osteoporasis</th>\n",
       "      <th>ChronicCond_rheumatoidarthritis</th>\n",
       "      <th>ChronicCond_stroke</th>\n",
       "      <th>IPAnnualReimbursementAmt</th>\n",
       "      <th>IPAnnualDeductibleAmt</th>\n",
       "      <th>OPAnnualReimbursementAmt</th>\n",
       "      <th>OPAnnualDeductibleAmt</th>\n",
       "      <th>total_chronic</th>\n",
       "    </tr>\n",
       "  </thead>\n",
       "  <tbody>\n",
       "    <tr>\n",
       "      <th>0</th>\n",
       "      <td>BENE11001</td>\n",
       "      <td>1943-01-01</td>\n",
       "      <td>NaN</td>\n",
       "      <td>1</td>\n",
       "      <td>1</td>\n",
       "      <td>0</td>\n",
       "      <td>39</td>\n",
       "      <td>230</td>\n",
       "      <td>12</td>\n",
       "      <td>12</td>\n",
       "      <td>...</td>\n",
       "      <td>1</td>\n",
       "      <td>1</td>\n",
       "      <td>0</td>\n",
       "      <td>1</td>\n",
       "      <td>1</td>\n",
       "      <td>36000</td>\n",
       "      <td>3204</td>\n",
       "      <td>60</td>\n",
       "      <td>70</td>\n",
       "      <td>7</td>\n",
       "    </tr>\n",
       "    <tr>\n",
       "      <th>1</th>\n",
       "      <td>BENE11002</td>\n",
       "      <td>1936-09-01</td>\n",
       "      <td>NaN</td>\n",
       "      <td>2</td>\n",
       "      <td>1</td>\n",
       "      <td>0</td>\n",
       "      <td>39</td>\n",
       "      <td>280</td>\n",
       "      <td>12</td>\n",
       "      <td>12</td>\n",
       "      <td>...</td>\n",
       "      <td>0</td>\n",
       "      <td>0</td>\n",
       "      <td>0</td>\n",
       "      <td>0</td>\n",
       "      <td>0</td>\n",
       "      <td>0</td>\n",
       "      <td>0</td>\n",
       "      <td>30</td>\n",
       "      <td>50</td>\n",
       "      <td>0</td>\n",
       "    </tr>\n",
       "    <tr>\n",
       "      <th>2</th>\n",
       "      <td>BENE11003</td>\n",
       "      <td>1936-08-01</td>\n",
       "      <td>NaN</td>\n",
       "      <td>1</td>\n",
       "      <td>1</td>\n",
       "      <td>0</td>\n",
       "      <td>52</td>\n",
       "      <td>590</td>\n",
       "      <td>12</td>\n",
       "      <td>12</td>\n",
       "      <td>...</td>\n",
       "      <td>0</td>\n",
       "      <td>1</td>\n",
       "      <td>0</td>\n",
       "      <td>0</td>\n",
       "      <td>0</td>\n",
       "      <td>0</td>\n",
       "      <td>0</td>\n",
       "      <td>90</td>\n",
       "      <td>40</td>\n",
       "      <td>2</td>\n",
       "    </tr>\n",
       "    <tr>\n",
       "      <th>3</th>\n",
       "      <td>BENE11004</td>\n",
       "      <td>1922-07-01</td>\n",
       "      <td>NaN</td>\n",
       "      <td>1</td>\n",
       "      <td>1</td>\n",
       "      <td>0</td>\n",
       "      <td>39</td>\n",
       "      <td>270</td>\n",
       "      <td>12</td>\n",
       "      <td>12</td>\n",
       "      <td>...</td>\n",
       "      <td>1</td>\n",
       "      <td>1</td>\n",
       "      <td>1</td>\n",
       "      <td>1</td>\n",
       "      <td>0</td>\n",
       "      <td>0</td>\n",
       "      <td>0</td>\n",
       "      <td>1810</td>\n",
       "      <td>760</td>\n",
       "      <td>6</td>\n",
       "    </tr>\n",
       "    <tr>\n",
       "      <th>4</th>\n",
       "      <td>BENE11005</td>\n",
       "      <td>1935-09-01</td>\n",
       "      <td>NaN</td>\n",
       "      <td>1</td>\n",
       "      <td>1</td>\n",
       "      <td>0</td>\n",
       "      <td>24</td>\n",
       "      <td>680</td>\n",
       "      <td>12</td>\n",
       "      <td>12</td>\n",
       "      <td>...</td>\n",
       "      <td>1</td>\n",
       "      <td>0</td>\n",
       "      <td>0</td>\n",
       "      <td>0</td>\n",
       "      <td>0</td>\n",
       "      <td>0</td>\n",
       "      <td>0</td>\n",
       "      <td>1790</td>\n",
       "      <td>1200</td>\n",
       "      <td>2</td>\n",
       "    </tr>\n",
       "  </tbody>\n",
       "</table>\n",
       "<p>5 rows × 26 columns</p>\n",
       "</div>"
      ],
      "text/plain": [
       "      BeneID         DOB  DOD  Gender  Race  RenalDiseaseIndicator  State  \\\n",
       "0  BENE11001  1943-01-01  NaN       1     1                      0     39   \n",
       "1  BENE11002  1936-09-01  NaN       2     1                      0     39   \n",
       "2  BENE11003  1936-08-01  NaN       1     1                      0     52   \n",
       "3  BENE11004  1922-07-01  NaN       1     1                      0     39   \n",
       "4  BENE11005  1935-09-01  NaN       1     1                      0     24   \n",
       "\n",
       "   County  NoOfMonths_PartACov  NoOfMonths_PartBCov  ...  \\\n",
       "0     230                   12                   12  ...   \n",
       "1     280                   12                   12  ...   \n",
       "2     590                   12                   12  ...   \n",
       "3     270                   12                   12  ...   \n",
       "4     680                   12                   12  ...   \n",
       "\n",
       "   ChronicCond_Diabetes  ChronicCond_IschemicHeart  ChronicCond_Osteoporasis  \\\n",
       "0                     1                          1                         0   \n",
       "1                     0                          0                         0   \n",
       "2                     0                          1                         0   \n",
       "3                     1                          1                         1   \n",
       "4                     1                          0                         0   \n",
       "\n",
       "   ChronicCond_rheumatoidarthritis  ChronicCond_stroke  \\\n",
       "0                                1                   1   \n",
       "1                                0                   0   \n",
       "2                                0                   0   \n",
       "3                                1                   0   \n",
       "4                                0                   0   \n",
       "\n",
       "   IPAnnualReimbursementAmt  IPAnnualDeductibleAmt  OPAnnualReimbursementAmt  \\\n",
       "0                     36000                   3204                        60   \n",
       "1                         0                      0                        30   \n",
       "2                         0                      0                        90   \n",
       "3                         0                      0                      1810   \n",
       "4                         0                      0                      1790   \n",
       "\n",
       "   OPAnnualDeductibleAmt  total_chronic  \n",
       "0                     70              7  \n",
       "1                     50              0  \n",
       "2                     40              2  \n",
       "3                    760              6  \n",
       "4                   1200              2  \n",
       "\n",
       "[5 rows x 26 columns]"
      ]
     },
     "execution_count": 71,
     "metadata": {},
     "output_type": "execute_result"
    }
   ],
   "source": [
    "bene.head()"
   ]
  },
  {
   "cell_type": "markdown",
   "id": "cf8ae520",
   "metadata": {},
   "source": [
    "Remove extra columns"
   ]
  },
  {
   "cell_type": "code",
   "execution_count": 72,
   "id": "993e76b4",
   "metadata": {},
   "outputs": [],
   "source": [
    "bene = bene.drop(['DOB','DOD','NoOfMonths_PartACov','NoOfMonths_PartBCov'], axis=1)"
   ]
  },
  {
   "cell_type": "code",
   "execution_count": 73,
   "id": "93e839cc",
   "metadata": {},
   "outputs": [],
   "source": [
    "inpatient = inpatient.drop('ClmProcedureCode_6', axis=1)"
   ]
  },
  {
   "cell_type": "code",
   "execution_count": 74,
   "id": "59b54100",
   "metadata": {},
   "outputs": [],
   "source": [
    "outpatient = outpatient.drop(['ClmProcedureCode_5','ClmProcedureCode_6'], axis=1)"
   ]
  },
  {
   "cell_type": "markdown",
   "id": "1e03c8a6",
   "metadata": {},
   "source": [
    "Consolidate Claim Diagnosis counts"
   ]
  },
  {
   "cell_type": "code",
   "execution_count": 78,
   "id": "a578bd70",
   "metadata": {},
   "outputs": [
    {
     "name": "stdout",
     "output_type": "stream",
     "text": [
      "<class 'pandas.core.frame.DataFrame'>\n",
      "RangeIndex: 40474 entries, 0 to 40473\n",
      "Data columns (total 34 columns):\n",
      " #   Column                  Non-Null Count  Dtype  \n",
      "---  ------                  --------------  -----  \n",
      " 0   BeneID                  40474 non-null  object \n",
      " 1   ClaimID                 40474 non-null  object \n",
      " 2   ClaimStartDt            40474 non-null  object \n",
      " 3   ClaimEndDt              40474 non-null  object \n",
      " 4   Provider                40474 non-null  object \n",
      " 5   InscClaimAmtReimbursed  40474 non-null  int64  \n",
      " 6   AttendingPhysician      40362 non-null  object \n",
      " 7   OperatingPhysician      23830 non-null  object \n",
      " 8   OtherPhysician          4690 non-null   object \n",
      " 9   AdmissionDt             40474 non-null  object \n",
      " 10  ClmAdmitDiagnosisCode   40474 non-null  object \n",
      " 11  DeductibleAmtPaid       39575 non-null  float64\n",
      " 12  DischargeDt             40474 non-null  object \n",
      " 13  DiagnosisGroupCode      40474 non-null  object \n",
      " 14  ClmDiagnosisCode_1      40474 non-null  object \n",
      " 15  ClmDiagnosisCode_2      40248 non-null  object \n",
      " 16  ClmDiagnosisCode_3      39798 non-null  object \n",
      " 17  ClmDiagnosisCode_4      38940 non-null  object \n",
      " 18  ClmDiagnosisCode_5      37580 non-null  object \n",
      " 19  ClmDiagnosisCode_6      35636 non-null  object \n",
      " 20  ClmDiagnosisCode_7      33216 non-null  object \n",
      " 21  ClmDiagnosisCode_8      30532 non-null  object \n",
      " 22  ClmDiagnosisCode_9      26977 non-null  object \n",
      " 23  ClmDiagnosisCode_10     3927 non-null   object \n",
      " 24  ClmProcedureCode_1      23148 non-null  float64\n",
      " 25  ClmProcedureCode_2      5454 non-null   float64\n",
      " 26  ClmProcedureCode_3      965 non-null    float64\n",
      " 27  ClmProcedureCode_4      116 non-null    float64\n",
      " 28  ClmProcedureCode_5      9 non-null      float64\n",
      " 29  total_chronic           40474 non-null  int64  \n",
      " 30  DOB                     40474 non-null  object \n",
      " 31  Age                     40474 non-null  int64  \n",
      " 32  PotentialFraud          40474 non-null  object \n",
      " 33  days_admitted           40474 non-null  int64  \n",
      "dtypes: float64(6), int64(4), object(24)\n",
      "memory usage: 10.5+ MB\n"
     ]
    }
   ],
   "source": [
    "inpatient.info()"
   ]
  },
  {
   "cell_type": "code",
   "execution_count": 88,
   "id": "1001185d",
   "metadata": {},
   "outputs": [],
   "source": [
    "inpatient['ClmDiagnosisCode_1'] = np.where(inpatient.ClmDiagnosisCode_1.isnull(), 0, 1)"
   ]
  },
  {
   "cell_type": "code",
   "execution_count": 89,
   "id": "3de27f24",
   "metadata": {},
   "outputs": [],
   "source": [
    "inpatient['ClmDiagnosisCode_2'] = np.where(inpatient.ClmDiagnosisCode_2.isnull(), 0, 1)"
   ]
  },
  {
   "cell_type": "code",
   "execution_count": 90,
   "id": "cd5efe20",
   "metadata": {},
   "outputs": [],
   "source": [
    "inpatient['ClmDiagnosisCode_3'] = np.where(inpatient.ClmDiagnosisCode_3.isnull(), 0, 1)"
   ]
  },
  {
   "cell_type": "code",
   "execution_count": 91,
   "id": "bee0c9d0",
   "metadata": {},
   "outputs": [],
   "source": [
    "inpatient['ClmDiagnosisCode_4'] = np.where(inpatient.ClmDiagnosisCode_4.isnull(), 0, 1)"
   ]
  },
  {
   "cell_type": "code",
   "execution_count": 92,
   "id": "cc508238",
   "metadata": {},
   "outputs": [],
   "source": [
    "inpatient['ClmDiagnosisCode_5'] = np.where(inpatient.ClmDiagnosisCode_5.isnull(), 0, 1)"
   ]
  },
  {
   "cell_type": "code",
   "execution_count": 93,
   "id": "90a3ed2b",
   "metadata": {},
   "outputs": [],
   "source": [
    "inpatient['ClmDiagnosisCode_6'] = np.where(inpatient.ClmDiagnosisCode_6.isnull(), 0, 1)"
   ]
  },
  {
   "cell_type": "code",
   "execution_count": 94,
   "id": "ba7cef89",
   "metadata": {},
   "outputs": [],
   "source": [
    "inpatient['ClmDiagnosisCode_7'] = np.where(inpatient.ClmDiagnosisCode_7.isnull(), 0, 1)"
   ]
  },
  {
   "cell_type": "code",
   "execution_count": 95,
   "id": "e592fba8",
   "metadata": {},
   "outputs": [],
   "source": [
    "inpatient['ClmDiagnosisCode_8'] = np.where(inpatient.ClmDiagnosisCode_8.isnull(), 0, 1)"
   ]
  },
  {
   "cell_type": "code",
   "execution_count": 96,
   "id": "52762dd0",
   "metadata": {},
   "outputs": [],
   "source": [
    "inpatient['ClmDiagnosisCode_9'] = np.where(inpatient.ClmDiagnosisCode_9.isnull(), 0, 1)"
   ]
  },
  {
   "cell_type": "code",
   "execution_count": 84,
   "id": "7321d3b6",
   "metadata": {},
   "outputs": [],
   "source": [
    "inpatient['ClmDiagnosisCode_10'] = np.where(inpatient.ClmDiagnosisCode_10.isnull(), 0, 1)"
   ]
  },
  {
   "cell_type": "code",
   "execution_count": 98,
   "id": "5a2a2e9f",
   "metadata": {},
   "outputs": [],
   "source": [
    "inpatient['Claim_Diag_Total'] = inpatient['ClmDiagnosisCode_1'] + inpatient['ClmDiagnosisCode_2'] + \\\n",
    "inpatient['ClmDiagnosisCode_3']+ inpatient['ClmDiagnosisCode_4'] + inpatient['ClmDiagnosisCode_5'] + \\\n",
    "inpatient['ClmDiagnosisCode_6']+ inpatient['ClmDiagnosisCode_7'] + inpatient['ClmDiagnosisCode_8'] + \\\n",
    "inpatient['ClmDiagnosisCode_9']+ inpatient['ClmDiagnosisCode_10']"
   ]
  },
  {
   "cell_type": "code",
   "execution_count": 100,
   "id": "233a20d4",
   "metadata": {},
   "outputs": [],
   "source": [
    "inpatient = inpatient.drop(['ClmDiagnosisCode_1', 'ClmDiagnosisCode_2', 'ClmDiagnosisCode_3', 'ClmDiagnosisCode_4', 'ClmDiagnosisCode_5',\n",
    "                           'ClmDiagnosisCode_6', 'ClmDiagnosisCode_7', 'ClmDiagnosisCode_8', 'ClmDiagnosisCode_9', 'ClmDiagnosisCode_10'], axis=1)"
   ]
  },
  {
   "cell_type": "code",
   "execution_count": 107,
   "id": "afeade27",
   "metadata": {},
   "outputs": [
    {
     "name": "stdout",
     "output_type": "stream",
     "text": [
      "<class 'pandas.core.frame.DataFrame'>\n",
      "RangeIndex: 40474 entries, 0 to 40473\n",
      "Data columns (total 24 columns):\n",
      " #   Column                 Non-Null Count  Dtype  \n",
      "---  ------                 --------------  -----  \n",
      " 0   BeneID                 40474 non-null  object \n",
      " 1   ClaimID                40474 non-null  object \n",
      " 2   ClaimStartDt           40474 non-null  object \n",
      " 3   ClaimEndDt             40474 non-null  object \n",
      " 4   Provider               40474 non-null  object \n",
      " 5   AttendingPhysician     40362 non-null  object \n",
      " 6   OperatingPhysician     23830 non-null  object \n",
      " 7   OtherPhysician         4690 non-null   object \n",
      " 8   AdmissionDt            40474 non-null  object \n",
      " 9   ClmAdmitDiagnosisCode  40474 non-null  object \n",
      " 10  DischargeDt            40474 non-null  object \n",
      " 11  DiagnosisGroupCode     40474 non-null  object \n",
      " 12  ClmProcedureCode_1     23148 non-null  float64\n",
      " 13  ClmProcedureCode_2     5454 non-null   float64\n",
      " 14  ClmProcedureCode_3     965 non-null    float64\n",
      " 15  ClmProcedureCode_4     116 non-null    float64\n",
      " 16  ClmProcedureCode_5     9 non-null      float64\n",
      " 17  total_chronic          40474 non-null  int64  \n",
      " 18  DOB                    40474 non-null  object \n",
      " 19  Age                    40474 non-null  int64  \n",
      " 20  PotentialFraud         40474 non-null  object \n",
      " 21  days_admitted          40474 non-null  int64  \n",
      " 22  Claim_Diag_Total       40474 non-null  int64  \n",
      " 23  Total_Claims_Amount    39575 non-null  float64\n",
      "dtypes: float64(6), int64(4), object(14)\n",
      "memory usage: 7.4+ MB\n"
     ]
    }
   ],
   "source": [
    "inpatient.info()"
   ]
  },
  {
   "cell_type": "code",
   "execution_count": 105,
   "id": "59d717b2",
   "metadata": {},
   "outputs": [],
   "source": [
    "inpatient['Total_Claims_Amount'] = round((inpatient['DeductibleAmtPaid'] + inpatient['InscClaimAmtReimbursed']))"
   ]
  },
  {
   "cell_type": "code",
   "execution_count": 106,
   "id": "9bfad9ee",
   "metadata": {},
   "outputs": [],
   "source": [
    "inpatient = inpatient.drop(['InscClaimAmtReimbursed', 'DeductibleAmtPaid'], axis=1)"
   ]
  },
  {
   "cell_type": "code",
   "execution_count": 108,
   "id": "da6534f9",
   "metadata": {},
   "outputs": [],
   "source": [
    "inpatient['Claim Type'] = 'Inpatient'"
   ]
  },
  {
   "cell_type": "code",
   "execution_count": 126,
   "id": "2e1aba1d",
   "metadata": {},
   "outputs": [],
   "source": [
    "inpatient['ClaimStartDt']= pd.to_datetime(inpatient['ClaimStartDt'])\n",
    "inpatient['ClaimEndDt']= pd.to_datetime(inpatient['ClaimEndDt'])"
   ]
  },
  {
   "cell_type": "code",
   "execution_count": 128,
   "id": "93d518c6",
   "metadata": {},
   "outputs": [],
   "source": [
    "inpatient['Claim Duration'] = inpatient['ClaimEndDt'] - inpatient['ClaimStartDt']"
   ]
  },
  {
   "cell_type": "code",
   "execution_count": 118,
   "id": "036151e0",
   "metadata": {},
   "outputs": [],
   "source": [
    "inpatient.groupby('ClmAdmitDiagnosisCode')['ClaimID'].count().sort_values(ascending=False)\n",
    "\n",
    "#top 5 claim diagnosis codes\n",
    "top5 = {'78650': 'Chest pain, unspecified', '78605': 'Shortness of breath', \n",
    "        '486': 'Pneumonia', '4280':'Congestive heart failure', '7802': 'Syncope and collapse'}"
   ]
  },
  {
   "cell_type": "code",
   "execution_count": 117,
   "id": "4f85ab7d",
   "metadata": {},
   "outputs": [
    {
     "data": {
      "text/plain": [
       "<AxesSubplot:xlabel='ClmAdmitDiagnosisCode'>"
      ]
     },
     "execution_count": 117,
     "metadata": {},
     "output_type": "execute_result"
    },
    {
     "data": {
      "image/png": "[encoded data removed]",
      "text/plain": [
       "<Figure size 432x288 with 1 Axes>"
      ]
     },
     "metadata": {
      "needs_background": "light"
     },
     "output_type": "display_data"
    }
   ],
   "source": [
    "inpatient.groupby('ClmAdmitDiagnosisCode')['ClaimID'].count().sort_values(ascending=False).head(5).plot.bar()\n"
   ]
  },
  {
   "cell_type": "code",
   "execution_count": 151,
   "id": "b9041c4f",
   "metadata": {},
   "outputs": [
    {
     "data": {
      "text/plain": [
       "Index(['BeneID', 'ClaimID', 'ClaimStartDt', 'ClaimEndDt', 'Provider',\n",
       "       'AttendingPhysician', 'OperatingPhysician', 'OtherPhysician',\n",
       "       'AdmissionDt', 'ClmAdmitDiagnosisCode', 'DischargeDt',\n",
       "       'DiagnosisGroupCode', 'total_chronic', 'DOB', 'Age', 'PotentialFraud',\n",
       "       'days_admitted', 'Claim_Diag_Total', 'Total_Claims_Amount',\n",
       "       'Claim Type', 'Claim Duration', 'ClmProcedureCode',\n",
       "       'Claim_Procedure_Total'],\n",
       "      dtype='object')"
      ]
     },
     "execution_count": 151,
     "metadata": {},
     "output_type": "execute_result"
    }
   ],
   "source": [
    "inpatient.columns"
   ]
  },
  {
   "cell_type": "code",
   "execution_count": 143,
   "id": "17425e71",
   "metadata": {},
   "outputs": [],
   "source": [
    "inpatient['ClmProcedureCode'] = inpatient['ClmProcedureCode_1']"
   ]
  },
  {
   "cell_type": "code",
   "execution_count": 146,
   "id": "21091ac0",
   "metadata": {},
   "outputs": [],
   "source": [
    "inpatient['ClmProcedureCode_1'] = np.where(inpatient.ClmProcedureCode_1.isnull(), 0, 1)\n",
    "inpatient['ClmProcedureCode_2'] = np.where(inpatient.ClmProcedureCode_2.isnull(), 0, 1)\n",
    "inpatient['ClmProcedureCode_3'] = np.where(inpatient.ClmProcedureCode_3.isnull(), 0, 1)\n",
    "inpatient['ClmProcedureCode_4'] = np.where(inpatient.ClmProcedureCode_4.isnull(), 0, 1)\n",
    "inpatient['ClmProcedureCode_5'] = np.where(inpatient.ClmProcedureCode_5.isnull(), 0, 1)"
   ]
  },
  {
   "cell_type": "code",
   "execution_count": 149,
   "id": "fe8c75d1",
   "metadata": {},
   "outputs": [],
   "source": [
    "inpatient['Claim_Procedure_Total'] = inpatient['ClmProcedureCode_1'] + inpatient['ClmProcedureCode_2'] + \\\n",
    "inpatient['ClmProcedureCode_3']+ inpatient['ClmProcedureCode_4'] + inpatient['ClmProcedureCode_5']"
   ]
  },
  {
   "cell_type": "code",
   "execution_count": 154,
   "id": "c937d796",
   "metadata": {},
   "outputs": [],
   "source": [
    "#inpatient = inpatient.drop(['ClmProcedureCode_1', 'ClmProcedureCode_2', 'ClmProcedureCode_3', 'ClmProcedureCode_4', 'ClmProcedureCode_5'], axis=1)"
   ]
  },
  {
   "cell_type": "code",
   "execution_count": 155,
   "id": "11151e5a",
   "metadata": {},
   "outputs": [
    {
     "data": {
      "text/plain": [
       "Index(['BeneID', 'ClaimID', 'ClaimStartDt', 'ClaimEndDt', 'Provider',\n",
       "       'AttendingPhysician', 'OperatingPhysician', 'OtherPhysician',\n",
       "       'AdmissionDt', 'ClmAdmitDiagnosisCode', 'DischargeDt',\n",
       "       'DiagnosisGroupCode', 'total_chronic', 'DOB', 'Age', 'PotentialFraud',\n",
       "       'days_admitted', 'Claim_Diag_Total', 'Total_Claims_Amount',\n",
       "       'Claim Type', 'Claim Duration', 'ClmProcedureCode',\n",
       "       'Claim_Procedure_Total'],\n",
       "      dtype='object')"
      ]
     },
     "execution_count": 155,
     "metadata": {},
     "output_type": "execute_result"
    }
   ],
   "source": [
    "inpatient.columns"
   ]
  },
  {
   "cell_type": "code",
   "execution_count": 160,
   "id": "4f324888",
   "metadata": {},
   "outputs": [],
   "source": [
    "inpatient.rename(columns = {'total_chronic':'Total_Chronic', 'days_admitted':'Days_Admitted'}, inplace = True)"
   ]
  },
  {
   "cell_type": "code",
   "execution_count": 124,
   "id": "f1b2516d",
   "metadata": {},
   "outputs": [
    {
     "data": {
      "text/html": [
       "<div>\n",
       "<style scoped>\n",
       "    .dataframe tbody tr th:only-of-type {\n",
       "        vertical-align: middle;\n",
       "    }\n",
       "\n",
       "    .dataframe tbody tr th {\n",
       "        vertical-align: top;\n",
       "    }\n",
       "\n",
       "    .dataframe thead th {\n",
       "        text-align: right;\n",
       "    }\n",
       "</style>\n",
       "<table border=\"1\" class=\"dataframe\">\n",
       "  <thead>\n",
       "    <tr style=\"text-align: right;\">\n",
       "      <th></th>\n",
       "      <th>BeneID</th>\n",
       "    </tr>\n",
       "    <tr>\n",
       "      <th>Age</th>\n",
       "      <th></th>\n",
       "    </tr>\n",
       "  </thead>\n",
       "  <tbody>\n",
       "    <tr>\n",
       "      <th>25</th>\n",
       "      <td>3</td>\n",
       "    </tr>\n",
       "    <tr>\n",
       "      <th>26</th>\n",
       "      <td>41</td>\n",
       "    </tr>\n",
       "    <tr>\n",
       "      <th>27</th>\n",
       "      <td>68</td>\n",
       "    </tr>\n",
       "    <tr>\n",
       "      <th>28</th>\n",
       "      <td>60</td>\n",
       "    </tr>\n",
       "    <tr>\n",
       "      <th>29</th>\n",
       "      <td>60</td>\n",
       "    </tr>\n",
       "    <tr>\n",
       "      <th>...</th>\n",
       "      <td>...</td>\n",
       "    </tr>\n",
       "    <tr>\n",
       "      <th>97</th>\n",
       "      <td>275</td>\n",
       "    </tr>\n",
       "    <tr>\n",
       "      <th>98</th>\n",
       "      <td>237</td>\n",
       "    </tr>\n",
       "    <tr>\n",
       "      <th>99</th>\n",
       "      <td>239</td>\n",
       "    </tr>\n",
       "    <tr>\n",
       "      <th>100</th>\n",
       "      <td>257</td>\n",
       "    </tr>\n",
       "    <tr>\n",
       "      <th>101</th>\n",
       "      <td>34</td>\n",
       "    </tr>\n",
       "  </tbody>\n",
       "</table>\n",
       "<p>77 rows × 1 columns</p>\n",
       "</div>"
      ],
      "text/plain": [
       "     BeneID\n",
       "Age        \n",
       "25        3\n",
       "26       41\n",
       "27       68\n",
       "28       60\n",
       "29       60\n",
       "..      ...\n",
       "97      275\n",
       "98      237\n",
       "99      239\n",
       "100     257\n",
       "101      34\n",
       "\n",
       "[77 rows x 1 columns]"
      ]
     },
     "execution_count": 124,
     "metadata": {},
     "output_type": "execute_result"
    }
   ],
   "source": [
    "# age of patients at date of claim\n",
    "inpatient.groupby('Age')[['BeneID']].count()"
   ]
  },
  {
   "cell_type": "code",
   "execution_count": 136,
   "id": "84065e14",
   "metadata": {},
   "outputs": [
    {
     "data": {
      "text/plain": [
       "<AxesSubplot:>"
      ]
     },
     "execution_count": 136,
     "metadata": {},
     "output_type": "execute_result"
    },
    {
     "data": {
      "image/png": "[encoded data removed]",
      "text/plain": [
       "<Figure size 432x288 with 1 Axes>"
      ]
     },
     "metadata": {
      "needs_background": "light"
     },
     "output_type": "display_data"
    }
   ],
   "source": [
    "inpatient.Claim_Diag_Total.hist()"
   ]
  },
  {
   "cell_type": "code",
   "execution_count": 137,
   "id": "6f5d2da4",
   "metadata": {},
   "outputs": [
    {
     "data": {
      "text/plain": [
       "<AxesSubplot:>"
      ]
     },
     "execution_count": 137,
     "metadata": {},
     "output_type": "execute_result"
    },
    {
     "data": {
      "image/png": "[encoded data removed]",
      "text/plain": [
       "<Figure size 432x288 with 1 Axes>"
      ]
     },
     "metadata": {
      "needs_background": "light"
     },
     "output_type": "display_data"
    }
   ],
   "source": [
    "inpatient.Age.hist()"
   ]
  },
  {
   "cell_type": "code",
   "execution_count": null,
   "id": "e2177cb5",
   "metadata": {},
   "outputs": [],
   "source": []
  },
  {
   "cell_type": "markdown",
   "id": "52cf63c3",
   "metadata": {},
   "source": [
    "### Outpatient"
   ]
  },
  {
   "cell_type": "code",
   "execution_count": 198,
   "id": "a7f294b7",
   "metadata": {},
   "outputs": [
    {
     "data": {
      "text/plain": [
       "Index(['BeneID', 'ClaimID', 'ClaimStartDt', 'ClaimEndDt', 'Provider',\n",
       "       'AttendingPhysician', 'OperatingPhysician', 'OtherPhysician',\n",
       "       'ClmAdmitDiagnosisCode', 'total_chronic', 'DOB', 'Age',\n",
       "       'PotentialFraud', 'Claim Duration', 'ClmDiagnosisCode',\n",
       "       'Claim_Diag_Total', 'ClmProcedureCode', 'Claim_Procedure_Total',\n",
       "       'Total_Claims_Amount', 'Claim Type'],\n",
       "      dtype='object')"
      ]
     },
     "execution_count": 198,
     "metadata": {},
     "output_type": "execute_result"
    }
   ],
   "source": [
    "outpatient.columns"
   ]
  },
  {
   "cell_type": "code",
   "execution_count": 197,
   "id": "3bf57f20",
   "metadata": {},
   "outputs": [
    {
     "data": {
      "text/plain": [
       "Index(['BeneID', 'ClaimID', 'ClaimStartDt', 'ClaimEndDt', 'Provider',\n",
       "       'AttendingPhysician', 'OperatingPhysician', 'OtherPhysician',\n",
       "       'AdmissionDt', 'ClmAdmitDiagnosisCode', 'DischargeDt',\n",
       "       'DiagnosisGroupCode', 'Total_Chronic', 'DOB', 'Age', 'PotentialFraud',\n",
       "       'Days_Admitted', 'Claim_Diag_Total', 'Total_Claims_Amount',\n",
       "       'Claim Type', 'Claim Duration', 'ClmProcedureCode',\n",
       "       'Claim_Procedure_Total'],\n",
       "      dtype='object')"
      ]
     },
     "execution_count": 197,
     "metadata": {},
     "output_type": "execute_result"
    }
   ],
   "source": [
    "inpatient.columns\n",
    "#AdmissionDt, DischargeDt, DiagnosisGroupCode, Days_Admitted"
   ]
  },
  {
   "cell_type": "code",
   "execution_count": 170,
   "id": "f9131d1f",
   "metadata": {},
   "outputs": [],
   "source": [
    "outpatient['ClaimStartDt']= pd.to_datetime(outpatient['ClaimStartDt'])\n",
    "outpatient['ClaimEndDt']= pd.to_datetime(outpatient['ClaimEndDt'])"
   ]
  },
  {
   "cell_type": "code",
   "execution_count": 171,
   "id": "cf1c024e",
   "metadata": {},
   "outputs": [],
   "source": [
    "outpatient['Claim Duration'] = outpatient['ClaimEndDt'] - outpatient['ClaimStartDt']"
   ]
  },
  {
   "cell_type": "code",
   "execution_count": 172,
   "id": "520034ac",
   "metadata": {},
   "outputs": [],
   "source": [
    "outpatient['ClmDiagnosisCode'] = outpatient['ClmDiagnosisCode_1']"
   ]
  },
  {
   "cell_type": "code",
   "execution_count": 173,
   "id": "e24cc9f5",
   "metadata": {},
   "outputs": [],
   "source": [
    "outpatient['ClmDiagnosisCode_1'] = np.where(outpatient.ClmDiagnosisCode_1.isnull(), 0, 1)\n",
    "outpatient['ClmDiagnosisCode_2'] = np.where(outpatient.ClmDiagnosisCode_2.isnull(), 0, 1)\n",
    "outpatient['ClmDiagnosisCode_3'] = np.where(outpatient.ClmDiagnosisCode_3.isnull(), 0, 1)\n",
    "outpatient['ClmDiagnosisCode_4'] = np.where(outpatient.ClmDiagnosisCode_4.isnull(), 0, 1)\n",
    "outpatient['ClmDiagnosisCode_5'] = np.where(outpatient.ClmDiagnosisCode_5.isnull(), 0, 1)\n",
    "outpatient['ClmDiagnosisCode_6'] = np.where(outpatient.ClmDiagnosisCode_6.isnull(), 0, 1)\n",
    "outpatient['ClmDiagnosisCode_7'] = np.where(outpatient.ClmDiagnosisCode_7.isnull(), 0, 1)\n",
    "outpatient['ClmDiagnosisCode_8'] = np.where(outpatient.ClmDiagnosisCode_8.isnull(), 0, 1)\n",
    "outpatient['ClmDiagnosisCode_9'] = np.where(outpatient.ClmDiagnosisCode_9.isnull(), 0, 1)\n",
    "outpatient['ClmDiagnosisCode_10'] = np.where(outpatient.ClmDiagnosisCode_10.isnull(), 0, 1)"
   ]
  },
  {
   "cell_type": "code",
   "execution_count": 174,
   "id": "bb29d6aa",
   "metadata": {},
   "outputs": [],
   "source": [
    "outpatient['Claim_Diag_Total'] = outpatient['ClmDiagnosisCode_1'] + outpatient['ClmDiagnosisCode_2'] + \\\n",
    "outpatient['ClmDiagnosisCode_3']+ outpatient['ClmDiagnosisCode_4'] + outpatient['ClmDiagnosisCode_5'] + \\\n",
    "outpatient['ClmDiagnosisCode_6']+ outpatient['ClmDiagnosisCode_7'] + outpatient['ClmDiagnosisCode_8'] + \\\n",
    "outpatient['ClmDiagnosisCode_9']+ outpatient['ClmDiagnosisCode_10']"
   ]
  },
  {
   "cell_type": "code",
   "execution_count": 175,
   "id": "88ce0cc4",
   "metadata": {},
   "outputs": [],
   "source": [
    "outpatient = outpatient.drop(['ClmDiagnosisCode_1', 'ClmDiagnosisCode_2', 'ClmDiagnosisCode_3', 'ClmDiagnosisCode_4', 'ClmDiagnosisCode_5',\n",
    "                           'ClmDiagnosisCode_6', 'ClmDiagnosisCode_7', 'ClmDiagnosisCode_8', 'ClmDiagnosisCode_9', 'ClmDiagnosisCode_10'], axis=1)"
   ]
  },
  {
   "cell_type": "code",
   "execution_count": 176,
   "id": "ee7479ad",
   "metadata": {},
   "outputs": [],
   "source": [
    "outpatient['ClmProcedureCode'] = outpatient['ClmProcedureCode_1']"
   ]
  },
  {
   "cell_type": "code",
   "execution_count": 177,
   "id": "7a43332c",
   "metadata": {},
   "outputs": [],
   "source": [
    "outpatient['ClmProcedureCode_1'] = np.where(outpatient.ClmProcedureCode_1.isnull(), 0, 1)\n",
    "outpatient['ClmProcedureCode_2'] = np.where(outpatient.ClmProcedureCode_2.isnull(), 0, 1)\n",
    "outpatient['ClmProcedureCode_3'] = np.where(outpatient.ClmProcedureCode_3.isnull(), 0, 1)\n",
    "outpatient['ClmProcedureCode_4'] = np.where(outpatient.ClmProcedureCode_4.isnull(), 0, 1)"
   ]
  },
  {
   "cell_type": "code",
   "execution_count": 178,
   "id": "d34adf43",
   "metadata": {},
   "outputs": [],
   "source": [
    "outpatient['Claim_Procedure_Total'] = outpatient['ClmProcedureCode_1'] + outpatient['ClmProcedureCode_2'] + \\\n",
    "outpatient['ClmProcedureCode_3'] + outpatient['ClmProcedureCode_4']"
   ]
  },
  {
   "cell_type": "code",
   "execution_count": 179,
   "id": "032eab1c",
   "metadata": {},
   "outputs": [],
   "source": [
    "outpatient = outpatient.drop(['ClmProcedureCode_1', 'ClmProcedureCode_2', 'ClmProcedureCode_3', 'ClmProcedureCode_4'], axis=1)"
   ]
  },
  {
   "cell_type": "code",
   "execution_count": 187,
   "id": "d75dd6d4",
   "metadata": {},
   "outputs": [],
   "source": [
    "outpatient = outpatient.drop(['ClmProcedureCode_5', 'ClmProcedureCode_6'], axis=1)"
   ]
  },
  {
   "cell_type": "code",
   "execution_count": 181,
   "id": "fd503e5f",
   "metadata": {},
   "outputs": [],
   "source": [
    "outpatient['Total_Claims_Amount'] = round((outpatient['DeductibleAmtPaid'] + outpatient['InscClaimAmtReimbursed']))"
   ]
  },
  {
   "cell_type": "code",
   "execution_count": 182,
   "id": "a9df3376",
   "metadata": {},
   "outputs": [],
   "source": [
    "outpatient = outpatient.drop(['DeductibleAmtPaid', 'InscClaimAmtReimbursed'], axis=1)"
   ]
  },
  {
   "cell_type": "code",
   "execution_count": 189,
   "id": "246adeff",
   "metadata": {},
   "outputs": [],
   "source": [
    "outpatient['Claim Type'] = 'Outpatient'"
   ]
  },
  {
   "cell_type": "code",
   "execution_count": null,
   "id": "680277b7",
   "metadata": {},
   "outputs": [],
   "source": []
  },
  {
   "cell_type": "code",
   "execution_count": null,
   "id": "16a00af3",
   "metadata": {},
   "outputs": [],
   "source": []
  },
  {
   "cell_type": "code",
   "execution_count": null,
   "id": "17d26f89",
   "metadata": {},
   "outputs": [],
   "source": []
  },
  {
   "cell_type": "code",
   "execution_count": null,
   "id": "36c80db4",
   "metadata": {},
   "outputs": [],
   "source": []
  },
  {
   "cell_type": "code",
   "execution_count": null,
   "id": "73088954",
   "metadata": {},
   "outputs": [],
   "source": []
  },
  {
   "cell_type": "markdown",
   "id": "05b3c7b1",
   "metadata": {},
   "source": [
    "### Beneficiary"
   ]
  },
  {
   "cell_type": "code",
   "execution_count": 122,
   "id": "a3c38762",
   "metadata": {},
   "outputs": [
    {
     "data": {
      "text/html": [
       "<div>\n",
       "<style scoped>\n",
       "    .dataframe tbody tr th:only-of-type {\n",
       "        vertical-align: middle;\n",
       "    }\n",
       "\n",
       "    .dataframe tbody tr th {\n",
       "        vertical-align: top;\n",
       "    }\n",
       "\n",
       "    .dataframe thead th {\n",
       "        text-align: right;\n",
       "    }\n",
       "</style>\n",
       "<table border=\"1\" class=\"dataframe\">\n",
       "  <thead>\n",
       "    <tr style=\"text-align: right;\">\n",
       "      <th></th>\n",
       "      <th>BeneID</th>\n",
       "      <th>Gender</th>\n",
       "      <th>Race</th>\n",
       "      <th>RenalDiseaseIndicator</th>\n",
       "      <th>State</th>\n",
       "      <th>County</th>\n",
       "      <th>ChronicCond_Alzheimer</th>\n",
       "      <th>ChronicCond_Heartfailure</th>\n",
       "      <th>ChronicCond_KidneyDisease</th>\n",
       "      <th>ChronicCond_Cancer</th>\n",
       "      <th>...</th>\n",
       "      <th>ChronicCond_Diabetes</th>\n",
       "      <th>ChronicCond_IschemicHeart</th>\n",
       "      <th>ChronicCond_Osteoporasis</th>\n",
       "      <th>ChronicCond_rheumatoidarthritis</th>\n",
       "      <th>ChronicCond_stroke</th>\n",
       "      <th>IPAnnualReimbursementAmt</th>\n",
       "      <th>IPAnnualDeductibleAmt</th>\n",
       "      <th>OPAnnualReimbursementAmt</th>\n",
       "      <th>OPAnnualDeductibleAmt</th>\n",
       "      <th>total_chronic</th>\n",
       "    </tr>\n",
       "  </thead>\n",
       "  <tbody>\n",
       "    <tr>\n",
       "      <th>0</th>\n",
       "      <td>BENE11001</td>\n",
       "      <td>1</td>\n",
       "      <td>1</td>\n",
       "      <td>0</td>\n",
       "      <td>39</td>\n",
       "      <td>230</td>\n",
       "      <td>1</td>\n",
       "      <td>0</td>\n",
       "      <td>1</td>\n",
       "      <td>0</td>\n",
       "      <td>...</td>\n",
       "      <td>1</td>\n",
       "      <td>1</td>\n",
       "      <td>0</td>\n",
       "      <td>1</td>\n",
       "      <td>1</td>\n",
       "      <td>36000</td>\n",
       "      <td>3204</td>\n",
       "      <td>60</td>\n",
       "      <td>70</td>\n",
       "      <td>7</td>\n",
       "    </tr>\n",
       "    <tr>\n",
       "      <th>1</th>\n",
       "      <td>BENE11002</td>\n",
       "      <td>2</td>\n",
       "      <td>1</td>\n",
       "      <td>0</td>\n",
       "      <td>39</td>\n",
       "      <td>280</td>\n",
       "      <td>0</td>\n",
       "      <td>0</td>\n",
       "      <td>0</td>\n",
       "      <td>0</td>\n",
       "      <td>...</td>\n",
       "      <td>0</td>\n",
       "      <td>0</td>\n",
       "      <td>0</td>\n",
       "      <td>0</td>\n",
       "      <td>0</td>\n",
       "      <td>0</td>\n",
       "      <td>0</td>\n",
       "      <td>30</td>\n",
       "      <td>50</td>\n",
       "      <td>0</td>\n",
       "    </tr>\n",
       "    <tr>\n",
       "      <th>2</th>\n",
       "      <td>BENE11003</td>\n",
       "      <td>1</td>\n",
       "      <td>1</td>\n",
       "      <td>0</td>\n",
       "      <td>52</td>\n",
       "      <td>590</td>\n",
       "      <td>1</td>\n",
       "      <td>0</td>\n",
       "      <td>0</td>\n",
       "      <td>0</td>\n",
       "      <td>...</td>\n",
       "      <td>0</td>\n",
       "      <td>1</td>\n",
       "      <td>0</td>\n",
       "      <td>0</td>\n",
       "      <td>0</td>\n",
       "      <td>0</td>\n",
       "      <td>0</td>\n",
       "      <td>90</td>\n",
       "      <td>40</td>\n",
       "      <td>2</td>\n",
       "    </tr>\n",
       "    <tr>\n",
       "      <th>3</th>\n",
       "      <td>BENE11004</td>\n",
       "      <td>1</td>\n",
       "      <td>1</td>\n",
       "      <td>0</td>\n",
       "      <td>39</td>\n",
       "      <td>270</td>\n",
       "      <td>1</td>\n",
       "      <td>1</td>\n",
       "      <td>0</td>\n",
       "      <td>0</td>\n",
       "      <td>...</td>\n",
       "      <td>1</td>\n",
       "      <td>1</td>\n",
       "      <td>1</td>\n",
       "      <td>1</td>\n",
       "      <td>0</td>\n",
       "      <td>0</td>\n",
       "      <td>0</td>\n",
       "      <td>1810</td>\n",
       "      <td>760</td>\n",
       "      <td>6</td>\n",
       "    </tr>\n",
       "    <tr>\n",
       "      <th>4</th>\n",
       "      <td>BENE11005</td>\n",
       "      <td>1</td>\n",
       "      <td>1</td>\n",
       "      <td>0</td>\n",
       "      <td>24</td>\n",
       "      <td>680</td>\n",
       "      <td>0</td>\n",
       "      <td>0</td>\n",
       "      <td>0</td>\n",
       "      <td>0</td>\n",
       "      <td>...</td>\n",
       "      <td>1</td>\n",
       "      <td>0</td>\n",
       "      <td>0</td>\n",
       "      <td>0</td>\n",
       "      <td>0</td>\n",
       "      <td>0</td>\n",
       "      <td>0</td>\n",
       "      <td>1790</td>\n",
       "      <td>1200</td>\n",
       "      <td>2</td>\n",
       "    </tr>\n",
       "  </tbody>\n",
       "</table>\n",
       "<p>5 rows × 22 columns</p>\n",
       "</div>"
      ],
      "text/plain": [
       "      BeneID  Gender  Race  RenalDiseaseIndicator  State  County  \\\n",
       "0  BENE11001       1     1                      0     39     230   \n",
       "1  BENE11002       2     1                      0     39     280   \n",
       "2  BENE11003       1     1                      0     52     590   \n",
       "3  BENE11004       1     1                      0     39     270   \n",
       "4  BENE11005       1     1                      0     24     680   \n",
       "\n",
       "   ChronicCond_Alzheimer  ChronicCond_Heartfailure  ChronicCond_KidneyDisease  \\\n",
       "0                      1                         0                          1   \n",
       "1                      0                         0                          0   \n",
       "2                      1                         0                          0   \n",
       "3                      1                         1                          0   \n",
       "4                      0                         0                          0   \n",
       "\n",
       "   ChronicCond_Cancer  ...  ChronicCond_Diabetes  ChronicCond_IschemicHeart  \\\n",
       "0                   0  ...                     1                          1   \n",
       "1                   0  ...                     0                          0   \n",
       "2                   0  ...                     0                          1   \n",
       "3                   0  ...                     1                          1   \n",
       "4                   0  ...                     1                          0   \n",
       "\n",
       "   ChronicCond_Osteoporasis  ChronicCond_rheumatoidarthritis  \\\n",
       "0                         0                                1   \n",
       "1                         0                                0   \n",
       "2                         0                                0   \n",
       "3                         1                                1   \n",
       "4                         0                                0   \n",
       "\n",
       "   ChronicCond_stroke  IPAnnualReimbursementAmt  IPAnnualDeductibleAmt  \\\n",
       "0                   1                     36000                   3204   \n",
       "1                   0                         0                      0   \n",
       "2                   0                         0                      0   \n",
       "3                   0                         0                      0   \n",
       "4                   0                         0                      0   \n",
       "\n",
       "   OPAnnualReimbursementAmt  OPAnnualDeductibleAmt  total_chronic  \n",
       "0                        60                     70              7  \n",
       "1                        30                     50              0  \n",
       "2                        90                     40              2  \n",
       "3                      1810                    760              6  \n",
       "4                      1790                   1200              2  \n",
       "\n",
       "[5 rows x 22 columns]"
      ]
     },
     "execution_count": 122,
     "metadata": {},
     "output_type": "execute_result"
    }
   ],
   "source": [
    "bene.head()"
   ]
  },
  {
   "cell_type": "code",
   "execution_count": null,
   "id": "410613e7",
   "metadata": {},
   "outputs": [],
   "source": []
  },
  {
   "cell_type": "code",
   "execution_count": null,
   "id": "49d235b1",
   "metadata": {},
   "outputs": [],
   "source": []
  },
  {
   "cell_type": "code",
   "execution_count": null,
   "id": "61f49c09",
   "metadata": {},
   "outputs": [],
   "source": []
  }
 ],
 "metadata": {
  "kernelspec": {
   "display_name": "Python 3 (ipykernel)",
   "language": "python",
   "name": "python3"
  },
  "language_info": {
   "codemirror_mode": {
    "name": "ipython",
    "version": 3
   },
   "file_extension": ".py",
   "mimetype": "text/x-python",
   "name": "python",
   "nbconvert_exporter": "python",
   "pygments_lexer": "ipython3",
   "version": "3.9.7"
  }
 },
 "nbformat": 4,
 "nbformat_minor": 5
}
