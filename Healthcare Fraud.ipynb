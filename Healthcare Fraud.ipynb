{
 "cells": [
  {
   "cell_type": "code",
   "execution_count": 243,
   "id": "2e37ecf6",
   "metadata": {},
   "outputs": [],
   "source": [
    "import numpy as np\n",
    "import pandas as pd\n",
    "import matplotlib.pyplot as plt"
   ]
  },
  {
   "cell_type": "code",
   "execution_count": 167,
   "id": "7e96a215",
   "metadata": {},
   "outputs": [],
   "source": [
    "# initial dataframe exploration and cleaning was done in R\n",
    "\n",
    "# inpatient= pd.read_csv('inpatient.csv')\n",
    "# outpatient= pd.read_csv('outpatient.csv')\n",
    "# bene = pd.read_csv('bene.csv')"
   ]
  },
  {
   "cell_type": "code",
   "execution_count": 429,
   "id": "6979047c",
   "metadata": {},
   "outputs": [],
   "source": [
    "# provider_potential = pd.read_csv('Train-1542865627584.csv')"
   ]
  },
  {
   "cell_type": "code",
   "execution_count": 69,
   "id": "471baef3",
   "metadata": {},
   "outputs": [
    {
     "data": {
      "text/html": [
       "<div>\n",
       "<style scoped>\n",
       "    .dataframe tbody tr th:only-of-type {\n",
       "        vertical-align: middle;\n",
       "    }\n",
       "\n",
       "    .dataframe tbody tr th {\n",
       "        vertical-align: top;\n",
       "    }\n",
       "\n",
       "    .dataframe thead th {\n",
       "        text-align: right;\n",
       "    }\n",
       "</style>\n",
       "<table border=\"1\" class=\"dataframe\">\n",
       "  <thead>\n",
       "    <tr style=\"text-align: right;\">\n",
       "      <th></th>\n",
       "      <th>BeneID</th>\n",
       "      <th>ClaimID</th>\n",
       "      <th>ClaimStartDt</th>\n",
       "      <th>ClaimEndDt</th>\n",
       "      <th>Provider</th>\n",
       "      <th>InscClaimAmtReimbursed</th>\n",
       "      <th>AttendingPhysician</th>\n",
       "      <th>OperatingPhysician</th>\n",
       "      <th>OtherPhysician</th>\n",
       "      <th>ClmDiagnosisCode_1</th>\n",
       "      <th>...</th>\n",
       "      <th>ClmProcedureCode_3</th>\n",
       "      <th>ClmProcedureCode_4</th>\n",
       "      <th>ClmProcedureCode_5</th>\n",
       "      <th>ClmProcedureCode_6</th>\n",
       "      <th>DeductibleAmtPaid</th>\n",
       "      <th>ClmAdmitDiagnosisCode</th>\n",
       "      <th>total_chronic</th>\n",
       "      <th>DOB</th>\n",
       "      <th>Age</th>\n",
       "      <th>PotentialFraud</th>\n",
       "    </tr>\n",
       "  </thead>\n",
       "  <tbody>\n",
       "    <tr>\n",
       "      <th>0</th>\n",
       "      <td>BENE11002</td>\n",
       "      <td>CLM624349</td>\n",
       "      <td>2009-10-11</td>\n",
       "      <td>2009-10-11</td>\n",
       "      <td>PRV56011</td>\n",
       "      <td>30</td>\n",
       "      <td>PHY326117</td>\n",
       "      <td>NaN</td>\n",
       "      <td>NaN</td>\n",
       "      <td>78943</td>\n",
       "      <td>...</td>\n",
       "      <td>NaN</td>\n",
       "      <td>NaN</td>\n",
       "      <td>NaN</td>\n",
       "      <td>NaN</td>\n",
       "      <td>0</td>\n",
       "      <td>56409</td>\n",
       "      <td>0</td>\n",
       "      <td>1936-09-01</td>\n",
       "      <td>73</td>\n",
       "      <td>Yes</td>\n",
       "    </tr>\n",
       "    <tr>\n",
       "      <th>1</th>\n",
       "      <td>BENE11003</td>\n",
       "      <td>CLM189947</td>\n",
       "      <td>2009-02-12</td>\n",
       "      <td>2009-02-12</td>\n",
       "      <td>PRV57610</td>\n",
       "      <td>80</td>\n",
       "      <td>PHY362868</td>\n",
       "      <td>NaN</td>\n",
       "      <td>NaN</td>\n",
       "      <td>6115</td>\n",
       "      <td>...</td>\n",
       "      <td>NaN</td>\n",
       "      <td>NaN</td>\n",
       "      <td>NaN</td>\n",
       "      <td>NaN</td>\n",
       "      <td>0</td>\n",
       "      <td>79380</td>\n",
       "      <td>2</td>\n",
       "      <td>1936-08-01</td>\n",
       "      <td>73</td>\n",
       "      <td>No</td>\n",
       "    </tr>\n",
       "    <tr>\n",
       "      <th>2</th>\n",
       "      <td>BENE11003</td>\n",
       "      <td>CLM438021</td>\n",
       "      <td>2009-06-27</td>\n",
       "      <td>2009-06-27</td>\n",
       "      <td>PRV57595</td>\n",
       "      <td>10</td>\n",
       "      <td>PHY328821</td>\n",
       "      <td>NaN</td>\n",
       "      <td>NaN</td>\n",
       "      <td>2723</td>\n",
       "      <td>...</td>\n",
       "      <td>NaN</td>\n",
       "      <td>NaN</td>\n",
       "      <td>NaN</td>\n",
       "      <td>NaN</td>\n",
       "      <td>0</td>\n",
       "      <td>NaN</td>\n",
       "      <td>2</td>\n",
       "      <td>1936-08-01</td>\n",
       "      <td>73</td>\n",
       "      <td>No</td>\n",
       "    </tr>\n",
       "    <tr>\n",
       "      <th>3</th>\n",
       "      <td>BENE11004</td>\n",
       "      <td>CLM121801</td>\n",
       "      <td>2009-01-06</td>\n",
       "      <td>2009-01-06</td>\n",
       "      <td>PRV56011</td>\n",
       "      <td>40</td>\n",
       "      <td>PHY334319</td>\n",
       "      <td>NaN</td>\n",
       "      <td>NaN</td>\n",
       "      <td>71988</td>\n",
       "      <td>...</td>\n",
       "      <td>NaN</td>\n",
       "      <td>NaN</td>\n",
       "      <td>NaN</td>\n",
       "      <td>NaN</td>\n",
       "      <td>0</td>\n",
       "      <td>NaN</td>\n",
       "      <td>6</td>\n",
       "      <td>1922-07-01</td>\n",
       "      <td>87</td>\n",
       "      <td>Yes</td>\n",
       "    </tr>\n",
       "    <tr>\n",
       "      <th>4</th>\n",
       "      <td>BENE11004</td>\n",
       "      <td>CLM150998</td>\n",
       "      <td>2009-01-22</td>\n",
       "      <td>2009-01-22</td>\n",
       "      <td>PRV56011</td>\n",
       "      <td>200</td>\n",
       "      <td>PHY403831</td>\n",
       "      <td>NaN</td>\n",
       "      <td>NaN</td>\n",
       "      <td>82382</td>\n",
       "      <td>...</td>\n",
       "      <td>NaN</td>\n",
       "      <td>NaN</td>\n",
       "      <td>NaN</td>\n",
       "      <td>NaN</td>\n",
       "      <td>0</td>\n",
       "      <td>71947</td>\n",
       "      <td>6</td>\n",
       "      <td>1922-07-01</td>\n",
       "      <td>87</td>\n",
       "      <td>Yes</td>\n",
       "    </tr>\n",
       "  </tbody>\n",
       "</table>\n",
       "<p>5 rows × 31 columns</p>\n",
       "</div>"
      ],
      "text/plain": [
       "      BeneID    ClaimID ClaimStartDt  ClaimEndDt  Provider  \\\n",
       "0  BENE11002  CLM624349   2009-10-11  2009-10-11  PRV56011   \n",
       "1  BENE11003  CLM189947   2009-02-12  2009-02-12  PRV57610   \n",
       "2  BENE11003  CLM438021   2009-06-27  2009-06-27  PRV57595   \n",
       "3  BENE11004  CLM121801   2009-01-06  2009-01-06  PRV56011   \n",
       "4  BENE11004  CLM150998   2009-01-22  2009-01-22  PRV56011   \n",
       "\n",
       "   InscClaimAmtReimbursed AttendingPhysician OperatingPhysician  \\\n",
       "0                      30          PHY326117                NaN   \n",
       "1                      80          PHY362868                NaN   \n",
       "2                      10          PHY328821                NaN   \n",
       "3                      40          PHY334319                NaN   \n",
       "4                     200          PHY403831                NaN   \n",
       "\n",
       "  OtherPhysician ClmDiagnosisCode_1  ... ClmProcedureCode_3  \\\n",
       "0            NaN              78943  ...                NaN   \n",
       "1            NaN               6115  ...                NaN   \n",
       "2            NaN               2723  ...                NaN   \n",
       "3            NaN              71988  ...                NaN   \n",
       "4            NaN              82382  ...                NaN   \n",
       "\n",
       "  ClmProcedureCode_4 ClmProcedureCode_5 ClmProcedureCode_6 DeductibleAmtPaid  \\\n",
       "0                NaN                NaN                NaN                 0   \n",
       "1                NaN                NaN                NaN                 0   \n",
       "2                NaN                NaN                NaN                 0   \n",
       "3                NaN                NaN                NaN                 0   \n",
       "4                NaN                NaN                NaN                 0   \n",
       "\n",
       "  ClmAdmitDiagnosisCode total_chronic         DOB Age  PotentialFraud  \n",
       "0                 56409             0  1936-09-01  73             Yes  \n",
       "1                 79380             2  1936-08-01  73              No  \n",
       "2                   NaN             2  1936-08-01  73              No  \n",
       "3                   NaN             6  1922-07-01  87             Yes  \n",
       "4                 71947             6  1922-07-01  87             Yes  \n",
       "\n",
       "[5 rows x 31 columns]"
      ]
     },
     "execution_count": 69,
     "metadata": {},
     "output_type": "execute_result"
    }
   ],
   "source": [
    "outpatient.head()"
   ]
  },
  {
   "cell_type": "code",
   "execution_count": 70,
   "id": "c75f2e66",
   "metadata": {},
   "outputs": [
    {
     "data": {
      "text/html": [
       "<div>\n",
       "<style scoped>\n",
       "    .dataframe tbody tr th:only-of-type {\n",
       "        vertical-align: middle;\n",
       "    }\n",
       "\n",
       "    .dataframe tbody tr th {\n",
       "        vertical-align: top;\n",
       "    }\n",
       "\n",
       "    .dataframe thead th {\n",
       "        text-align: right;\n",
       "    }\n",
       "</style>\n",
       "<table border=\"1\" class=\"dataframe\">\n",
       "  <thead>\n",
       "    <tr style=\"text-align: right;\">\n",
       "      <th></th>\n",
       "      <th>BeneID</th>\n",
       "      <th>ClaimID</th>\n",
       "      <th>ClaimStartDt</th>\n",
       "      <th>ClaimEndDt</th>\n",
       "      <th>Provider</th>\n",
       "      <th>InscClaimAmtReimbursed</th>\n",
       "      <th>AttendingPhysician</th>\n",
       "      <th>OperatingPhysician</th>\n",
       "      <th>OtherPhysician</th>\n",
       "      <th>AdmissionDt</th>\n",
       "      <th>...</th>\n",
       "      <th>ClmProcedureCode_2</th>\n",
       "      <th>ClmProcedureCode_3</th>\n",
       "      <th>ClmProcedureCode_4</th>\n",
       "      <th>ClmProcedureCode_5</th>\n",
       "      <th>ClmProcedureCode_6</th>\n",
       "      <th>total_chronic</th>\n",
       "      <th>DOB</th>\n",
       "      <th>Age</th>\n",
       "      <th>PotentialFraud</th>\n",
       "      <th>days_admitted</th>\n",
       "    </tr>\n",
       "  </thead>\n",
       "  <tbody>\n",
       "    <tr>\n",
       "      <th>0</th>\n",
       "      <td>BENE11001</td>\n",
       "      <td>CLM46614</td>\n",
       "      <td>2009-04-12</td>\n",
       "      <td>2009-04-18</td>\n",
       "      <td>PRV55912</td>\n",
       "      <td>26000</td>\n",
       "      <td>PHY390922</td>\n",
       "      <td>NaN</td>\n",
       "      <td>NaN</td>\n",
       "      <td>2009-04-12</td>\n",
       "      <td>...</td>\n",
       "      <td>NaN</td>\n",
       "      <td>NaN</td>\n",
       "      <td>NaN</td>\n",
       "      <td>NaN</td>\n",
       "      <td>NaN</td>\n",
       "      <td>7</td>\n",
       "      <td>1943-01-01</td>\n",
       "      <td>66</td>\n",
       "      <td>Yes</td>\n",
       "      <td>6</td>\n",
       "    </tr>\n",
       "    <tr>\n",
       "      <th>1</th>\n",
       "      <td>BENE11001</td>\n",
       "      <td>CLM66048</td>\n",
       "      <td>2009-08-31</td>\n",
       "      <td>2009-09-02</td>\n",
       "      <td>PRV55907</td>\n",
       "      <td>5000</td>\n",
       "      <td>PHY318495</td>\n",
       "      <td>PHY318495</td>\n",
       "      <td>NaN</td>\n",
       "      <td>2009-08-31</td>\n",
       "      <td>...</td>\n",
       "      <td>NaN</td>\n",
       "      <td>NaN</td>\n",
       "      <td>NaN</td>\n",
       "      <td>NaN</td>\n",
       "      <td>NaN</td>\n",
       "      <td>7</td>\n",
       "      <td>1943-01-01</td>\n",
       "      <td>67</td>\n",
       "      <td>No</td>\n",
       "      <td>2</td>\n",
       "    </tr>\n",
       "    <tr>\n",
       "      <th>2</th>\n",
       "      <td>BENE11001</td>\n",
       "      <td>CLM68358</td>\n",
       "      <td>2009-09-17</td>\n",
       "      <td>2009-09-20</td>\n",
       "      <td>PRV56046</td>\n",
       "      <td>5000</td>\n",
       "      <td>PHY372395</td>\n",
       "      <td>NaN</td>\n",
       "      <td>PHY324689</td>\n",
       "      <td>2009-09-17</td>\n",
       "      <td>...</td>\n",
       "      <td>NaN</td>\n",
       "      <td>NaN</td>\n",
       "      <td>NaN</td>\n",
       "      <td>NaN</td>\n",
       "      <td>NaN</td>\n",
       "      <td>7</td>\n",
       "      <td>1943-01-01</td>\n",
       "      <td>67</td>\n",
       "      <td>No</td>\n",
       "      <td>3</td>\n",
       "    </tr>\n",
       "    <tr>\n",
       "      <th>3</th>\n",
       "      <td>BENE11011</td>\n",
       "      <td>CLM38412</td>\n",
       "      <td>2009-02-14</td>\n",
       "      <td>2009-02-22</td>\n",
       "      <td>PRV52405</td>\n",
       "      <td>5000</td>\n",
       "      <td>PHY369659</td>\n",
       "      <td>PHY392961</td>\n",
       "      <td>PHY349768</td>\n",
       "      <td>2009-02-14</td>\n",
       "      <td>...</td>\n",
       "      <td>NaN</td>\n",
       "      <td>NaN</td>\n",
       "      <td>NaN</td>\n",
       "      <td>NaN</td>\n",
       "      <td>NaN</td>\n",
       "      <td>6</td>\n",
       "      <td>1914-03-01</td>\n",
       "      <td>95</td>\n",
       "      <td>No</td>\n",
       "      <td>8</td>\n",
       "    </tr>\n",
       "    <tr>\n",
       "      <th>4</th>\n",
       "      <td>BENE11014</td>\n",
       "      <td>CLM63689</td>\n",
       "      <td>2009-08-13</td>\n",
       "      <td>2009-08-30</td>\n",
       "      <td>PRV56614</td>\n",
       "      <td>10000</td>\n",
       "      <td>PHY379376</td>\n",
       "      <td>PHY398258</td>\n",
       "      <td>NaN</td>\n",
       "      <td>2009-08-13</td>\n",
       "      <td>...</td>\n",
       "      <td>NaN</td>\n",
       "      <td>NaN</td>\n",
       "      <td>NaN</td>\n",
       "      <td>NaN</td>\n",
       "      <td>NaN</td>\n",
       "      <td>5</td>\n",
       "      <td>1938-04-01</td>\n",
       "      <td>71</td>\n",
       "      <td>No</td>\n",
       "      <td>17</td>\n",
       "    </tr>\n",
       "  </tbody>\n",
       "</table>\n",
       "<p>5 rows × 35 columns</p>\n",
       "</div>"
      ],
      "text/plain": [
       "      BeneID   ClaimID ClaimStartDt  ClaimEndDt  Provider  \\\n",
       "0  BENE11001  CLM46614   2009-04-12  2009-04-18  PRV55912   \n",
       "1  BENE11001  CLM66048   2009-08-31  2009-09-02  PRV55907   \n",
       "2  BENE11001  CLM68358   2009-09-17  2009-09-20  PRV56046   \n",
       "3  BENE11011  CLM38412   2009-02-14  2009-02-22  PRV52405   \n",
       "4  BENE11014  CLM63689   2009-08-13  2009-08-30  PRV56614   \n",
       "\n",
       "   InscClaimAmtReimbursed AttendingPhysician OperatingPhysician  \\\n",
       "0                   26000          PHY390922                NaN   \n",
       "1                    5000          PHY318495          PHY318495   \n",
       "2                    5000          PHY372395                NaN   \n",
       "3                    5000          PHY369659          PHY392961   \n",
       "4                   10000          PHY379376          PHY398258   \n",
       "\n",
       "  OtherPhysician AdmissionDt  ... ClmProcedureCode_2  ClmProcedureCode_3  \\\n",
       "0            NaN  2009-04-12  ...                NaN                 NaN   \n",
       "1            NaN  2009-08-31  ...                NaN                 NaN   \n",
       "2      PHY324689  2009-09-17  ...                NaN                 NaN   \n",
       "3      PHY349768  2009-02-14  ...                NaN                 NaN   \n",
       "4            NaN  2009-08-13  ...                NaN                 NaN   \n",
       "\n",
       "  ClmProcedureCode_4 ClmProcedureCode_5 ClmProcedureCode_6 total_chronic  \\\n",
       "0                NaN                NaN                NaN             7   \n",
       "1                NaN                NaN                NaN             7   \n",
       "2                NaN                NaN                NaN             7   \n",
       "3                NaN                NaN                NaN             6   \n",
       "4                NaN                NaN                NaN             5   \n",
       "\n",
       "          DOB Age PotentialFraud days_admitted  \n",
       "0  1943-01-01  66            Yes             6  \n",
       "1  1943-01-01  67             No             2  \n",
       "2  1943-01-01  67             No             3  \n",
       "3  1914-03-01  95             No             8  \n",
       "4  1938-04-01  71             No            17  \n",
       "\n",
       "[5 rows x 35 columns]"
      ]
     },
     "execution_count": 70,
     "metadata": {},
     "output_type": "execute_result"
    }
   ],
   "source": [
    "inpatient.head()"
   ]
  },
  {
   "cell_type": "code",
   "execution_count": 71,
   "id": "ad1d8413",
   "metadata": {},
   "outputs": [
    {
     "data": {
      "text/html": [
       "<div>\n",
       "<style scoped>\n",
       "    .dataframe tbody tr th:only-of-type {\n",
       "        vertical-align: middle;\n",
       "    }\n",
       "\n",
       "    .dataframe tbody tr th {\n",
       "        vertical-align: top;\n",
       "    }\n",
       "\n",
       "    .dataframe thead th {\n",
       "        text-align: right;\n",
       "    }\n",
       "</style>\n",
       "<table border=\"1\" class=\"dataframe\">\n",
       "  <thead>\n",
       "    <tr style=\"text-align: right;\">\n",
       "      <th></th>\n",
       "      <th>BeneID</th>\n",
       "      <th>DOB</th>\n",
       "      <th>DOD</th>\n",
       "      <th>Gender</th>\n",
       "      <th>Race</th>\n",
       "      <th>RenalDiseaseIndicator</th>\n",
       "      <th>State</th>\n",
       "      <th>County</th>\n",
       "      <th>NoOfMonths_PartACov</th>\n",
       "      <th>NoOfMonths_PartBCov</th>\n",
       "      <th>...</th>\n",
       "      <th>ChronicCond_Diabetes</th>\n",
       "      <th>ChronicCond_IschemicHeart</th>\n",
       "      <th>ChronicCond_Osteoporasis</th>\n",
       "      <th>ChronicCond_rheumatoidarthritis</th>\n",
       "      <th>ChronicCond_stroke</th>\n",
       "      <th>IPAnnualReimbursementAmt</th>\n",
       "      <th>IPAnnualDeductibleAmt</th>\n",
       "      <th>OPAnnualReimbursementAmt</th>\n",
       "      <th>OPAnnualDeductibleAmt</th>\n",
       "      <th>total_chronic</th>\n",
       "    </tr>\n",
       "  </thead>\n",
       "  <tbody>\n",
       "    <tr>\n",
       "      <th>0</th>\n",
       "      <td>BENE11001</td>\n",
       "      <td>1943-01-01</td>\n",
       "      <td>NaN</td>\n",
       "      <td>1</td>\n",
       "      <td>1</td>\n",
       "      <td>0</td>\n",
       "      <td>39</td>\n",
       "      <td>230</td>\n",
       "      <td>12</td>\n",
       "      <td>12</td>\n",
       "      <td>...</td>\n",
       "      <td>1</td>\n",
       "      <td>1</td>\n",
       "      <td>0</td>\n",
       "      <td>1</td>\n",
       "      <td>1</td>\n",
       "      <td>36000</td>\n",
       "      <td>3204</td>\n",
       "      <td>60</td>\n",
       "      <td>70</td>\n",
       "      <td>7</td>\n",
       "    </tr>\n",
       "    <tr>\n",
       "      <th>1</th>\n",
       "      <td>BENE11002</td>\n",
       "      <td>1936-09-01</td>\n",
       "      <td>NaN</td>\n",
       "      <td>2</td>\n",
       "      <td>1</td>\n",
       "      <td>0</td>\n",
       "      <td>39</td>\n",
       "      <td>280</td>\n",
       "      <td>12</td>\n",
       "      <td>12</td>\n",
       "      <td>...</td>\n",
       "      <td>0</td>\n",
       "      <td>0</td>\n",
       "      <td>0</td>\n",
       "      <td>0</td>\n",
       "      <td>0</td>\n",
       "      <td>0</td>\n",
       "      <td>0</td>\n",
       "      <td>30</td>\n",
       "      <td>50</td>\n",
       "      <td>0</td>\n",
       "    </tr>\n",
       "    <tr>\n",
       "      <th>2</th>\n",
       "      <td>BENE11003</td>\n",
       "      <td>1936-08-01</td>\n",
       "      <td>NaN</td>\n",
       "      <td>1</td>\n",
       "      <td>1</td>\n",
       "      <td>0</td>\n",
       "      <td>52</td>\n",
       "      <td>590</td>\n",
       "      <td>12</td>\n",
       "      <td>12</td>\n",
       "      <td>...</td>\n",
       "      <td>0</td>\n",
       "      <td>1</td>\n",
       "      <td>0</td>\n",
       "      <td>0</td>\n",
       "      <td>0</td>\n",
       "      <td>0</td>\n",
       "      <td>0</td>\n",
       "      <td>90</td>\n",
       "      <td>40</td>\n",
       "      <td>2</td>\n",
       "    </tr>\n",
       "    <tr>\n",
       "      <th>3</th>\n",
       "      <td>BENE11004</td>\n",
       "      <td>1922-07-01</td>\n",
       "      <td>NaN</td>\n",
       "      <td>1</td>\n",
       "      <td>1</td>\n",
       "      <td>0</td>\n",
       "      <td>39</td>\n",
       "      <td>270</td>\n",
       "      <td>12</td>\n",
       "      <td>12</td>\n",
       "      <td>...</td>\n",
       "      <td>1</td>\n",
       "      <td>1</td>\n",
       "      <td>1</td>\n",
       "      <td>1</td>\n",
       "      <td>0</td>\n",
       "      <td>0</td>\n",
       "      <td>0</td>\n",
       "      <td>1810</td>\n",
       "      <td>760</td>\n",
       "      <td>6</td>\n",
       "    </tr>\n",
       "    <tr>\n",
       "      <th>4</th>\n",
       "      <td>BENE11005</td>\n",
       "      <td>1935-09-01</td>\n",
       "      <td>NaN</td>\n",
       "      <td>1</td>\n",
       "      <td>1</td>\n",
       "      <td>0</td>\n",
       "      <td>24</td>\n",
       "      <td>680</td>\n",
       "      <td>12</td>\n",
       "      <td>12</td>\n",
       "      <td>...</td>\n",
       "      <td>1</td>\n",
       "      <td>0</td>\n",
       "      <td>0</td>\n",
       "      <td>0</td>\n",
       "      <td>0</td>\n",
       "      <td>0</td>\n",
       "      <td>0</td>\n",
       "      <td>1790</td>\n",
       "      <td>1200</td>\n",
       "      <td>2</td>\n",
       "    </tr>\n",
       "  </tbody>\n",
       "</table>\n",
       "<p>5 rows × 26 columns</p>\n",
       "</div>"
      ],
      "text/plain": [
       "      BeneID         DOB  DOD  Gender  Race  RenalDiseaseIndicator  State  \\\n",
       "0  BENE11001  1943-01-01  NaN       1     1                      0     39   \n",
       "1  BENE11002  1936-09-01  NaN       2     1                      0     39   \n",
       "2  BENE11003  1936-08-01  NaN       1     1                      0     52   \n",
       "3  BENE11004  1922-07-01  NaN       1     1                      0     39   \n",
       "4  BENE11005  1935-09-01  NaN       1     1                      0     24   \n",
       "\n",
       "   County  NoOfMonths_PartACov  NoOfMonths_PartBCov  ...  \\\n",
       "0     230                   12                   12  ...   \n",
       "1     280                   12                   12  ...   \n",
       "2     590                   12                   12  ...   \n",
       "3     270                   12                   12  ...   \n",
       "4     680                   12                   12  ...   \n",
       "\n",
       "   ChronicCond_Diabetes  ChronicCond_IschemicHeart  ChronicCond_Osteoporasis  \\\n",
       "0                     1                          1                         0   \n",
       "1                     0                          0                         0   \n",
       "2                     0                          1                         0   \n",
       "3                     1                          1                         1   \n",
       "4                     1                          0                         0   \n",
       "\n",
       "   ChronicCond_rheumatoidarthritis  ChronicCond_stroke  \\\n",
       "0                                1                   1   \n",
       "1                                0                   0   \n",
       "2                                0                   0   \n",
       "3                                1                   0   \n",
       "4                                0                   0   \n",
       "\n",
       "   IPAnnualReimbursementAmt  IPAnnualDeductibleAmt  OPAnnualReimbursementAmt  \\\n",
       "0                     36000                   3204                        60   \n",
       "1                         0                      0                        30   \n",
       "2                         0                      0                        90   \n",
       "3                         0                      0                      1810   \n",
       "4                         0                      0                      1790   \n",
       "\n",
       "   OPAnnualDeductibleAmt  total_chronic  \n",
       "0                     70              7  \n",
       "1                     50              0  \n",
       "2                     40              2  \n",
       "3                    760              6  \n",
       "4                   1200              2  \n",
       "\n",
       "[5 rows x 26 columns]"
      ]
     },
     "execution_count": 71,
     "metadata": {},
     "output_type": "execute_result"
    }
   ],
   "source": [
    "bene.head()"
   ]
  },
  {
   "cell_type": "markdown",
   "id": "ac5423b4",
   "metadata": {},
   "source": [
    "Remove extra columns"
   ]
  },
  {
   "cell_type": "code",
   "execution_count": 72,
   "id": "8744be75",
   "metadata": {},
   "outputs": [],
   "source": [
    "bene = bene.drop(['DOB','DOD','NoOfMonths_PartACov','NoOfMonths_PartBCov'], axis=1)"
   ]
  },
  {
   "cell_type": "code",
   "execution_count": 73,
   "id": "33100680",
   "metadata": {},
   "outputs": [],
   "source": [
    "inpatient = inpatient.drop('ClmProcedureCode_6', axis=1)"
   ]
  },
  {
   "cell_type": "code",
   "execution_count": 74,
   "id": "94f843f2",
   "metadata": {},
   "outputs": [],
   "source": [
    "outpatient = outpatient.drop(['ClmProcedureCode_5','ClmProcedureCode_6'], axis=1)"
   ]
  },
  {
   "cell_type": "markdown",
   "id": "b103454c",
   "metadata": {},
   "source": [
    "Consolidate Claim Diagnosis counts"
   ]
  },
  {
   "cell_type": "code",
   "execution_count": 78,
   "id": "487ca6d1",
   "metadata": {},
   "outputs": [
    {
     "name": "stdout",
     "output_type": "stream",
     "text": [
      "<class 'pandas.core.frame.DataFrame'>\n",
      "RangeIndex: 40474 entries, 0 to 40473\n",
      "Data columns (total 34 columns):\n",
      " #   Column                  Non-Null Count  Dtype  \n",
      "---  ------                  --------------  -----  \n",
      " 0   BeneID                  40474 non-null  object \n",
      " 1   ClaimID                 40474 non-null  object \n",
      " 2   ClaimStartDt            40474 non-null  object \n",
      " 3   ClaimEndDt              40474 non-null  object \n",
      " 4   Provider                40474 non-null  object \n",
      " 5   InscClaimAmtReimbursed  40474 non-null  int64  \n",
      " 6   AttendingPhysician      40362 non-null  object \n",
      " 7   OperatingPhysician      23830 non-null  object \n",
      " 8   OtherPhysician          4690 non-null   object \n",
      " 9   AdmissionDt             40474 non-null  object \n",
      " 10  ClmAdmitDiagnosisCode   40474 non-null  object \n",
      " 11  DeductibleAmtPaid       39575 non-null  float64\n",
      " 12  DischargeDt             40474 non-null  object \n",
      " 13  DiagnosisGroupCode      40474 non-null  object \n",
      " 14  ClmDiagnosisCode_1      40474 non-null  object \n",
      " 15  ClmDiagnosisCode_2      40248 non-null  object \n",
      " 16  ClmDiagnosisCode_3      39798 non-null  object \n",
      " 17  ClmDiagnosisCode_4      38940 non-null  object \n",
      " 18  ClmDiagnosisCode_5      37580 non-null  object \n",
      " 19  ClmDiagnosisCode_6      35636 non-null  object \n",
      " 20  ClmDiagnosisCode_7      33216 non-null  object \n",
      " 21  ClmDiagnosisCode_8      30532 non-null  object \n",
      " 22  ClmDiagnosisCode_9      26977 non-null  object \n",
      " 23  ClmDiagnosisCode_10     3927 non-null   object \n",
      " 24  ClmProcedureCode_1      23148 non-null  float64\n",
      " 25  ClmProcedureCode_2      5454 non-null   float64\n",
      " 26  ClmProcedureCode_3      965 non-null    float64\n",
      " 27  ClmProcedureCode_4      116 non-null    float64\n",
      " 28  ClmProcedureCode_5      9 non-null      float64\n",
      " 29  total_chronic           40474 non-null  int64  \n",
      " 30  DOB                     40474 non-null  object \n",
      " 31  Age                     40474 non-null  int64  \n",
      " 32  PotentialFraud          40474 non-null  object \n",
      " 33  days_admitted           40474 non-null  int64  \n",
      "dtypes: float64(6), int64(4), object(24)\n",
      "memory usage: 10.5+ MB\n"
     ]
    }
   ],
   "source": [
    "inpatient.info()"
   ]
  },
  {
   "cell_type": "code",
   "execution_count": 88,
   "id": "d8ded6b1",
   "metadata": {},
   "outputs": [],
   "source": [
    "inpatient['ClmDiagnosisCode_1'] = np.where(inpatient.ClmDiagnosisCode_1.isnull(), 0, 1)"
   ]
  },
  {
   "cell_type": "code",
   "execution_count": 89,
   "id": "f07208b0",
   "metadata": {},
   "outputs": [],
   "source": [
    "inpatient['ClmDiagnosisCode_2'] = np.where(inpatient.ClmDiagnosisCode_2.isnull(), 0, 1)"
   ]
  },
  {
   "cell_type": "code",
   "execution_count": 90,
   "id": "adca6258",
   "metadata": {},
   "outputs": [],
   "source": [
    "inpatient['ClmDiagnosisCode_3'] = np.where(inpatient.ClmDiagnosisCode_3.isnull(), 0, 1)"
   ]
  },
  {
   "cell_type": "code",
   "execution_count": 91,
   "id": "ed30e623",
   "metadata": {},
   "outputs": [],
   "source": [
    "inpatient['ClmDiagnosisCode_4'] = np.where(inpatient.ClmDiagnosisCode_4.isnull(), 0, 1)"
   ]
  },
  {
   "cell_type": "code",
   "execution_count": 92,
   "id": "a7d12f5a",
   "metadata": {},
   "outputs": [],
   "source": [
    "inpatient['ClmDiagnosisCode_5'] = np.where(inpatient.ClmDiagnosisCode_5.isnull(), 0, 1)"
   ]
  },
  {
   "cell_type": "code",
   "execution_count": 93,
   "id": "5b51f12a",
   "metadata": {},
   "outputs": [],
   "source": [
    "inpatient['ClmDiagnosisCode_6'] = np.where(inpatient.ClmDiagnosisCode_6.isnull(), 0, 1)"
   ]
  },
  {
   "cell_type": "code",
   "execution_count": 94,
   "id": "12343a1e",
   "metadata": {},
   "outputs": [],
   "source": [
    "inpatient['ClmDiagnosisCode_7'] = np.where(inpatient.ClmDiagnosisCode_7.isnull(), 0, 1)"
   ]
  },
  {
   "cell_type": "code",
   "execution_count": 95,
   "id": "f3f2ce55",
   "metadata": {},
   "outputs": [],
   "source": [
    "inpatient['ClmDiagnosisCode_8'] = np.where(inpatient.ClmDiagnosisCode_8.isnull(), 0, 1)"
   ]
  },
  {
   "cell_type": "code",
   "execution_count": 96,
   "id": "cd6c2797",
   "metadata": {},
   "outputs": [],
   "source": [
    "inpatient['ClmDiagnosisCode_9'] = np.where(inpatient.ClmDiagnosisCode_9.isnull(), 0, 1)"
   ]
  },
  {
   "cell_type": "code",
   "execution_count": 84,
   "id": "0550f036",
   "metadata": {},
   "outputs": [],
   "source": [
    "inpatient['ClmDiagnosisCode_10'] = np.where(inpatient.ClmDiagnosisCode_10.isnull(), 0, 1)"
   ]
  },
  {
   "cell_type": "code",
   "execution_count": 98,
   "id": "0fa127c3",
   "metadata": {},
   "outputs": [],
   "source": [
    "inpatient['Claim_Diag_Total'] = inpatient['ClmDiagnosisCode_1'] + inpatient['ClmDiagnosisCode_2'] + \\\n",
    "inpatient['ClmDiagnosisCode_3']+ inpatient['ClmDiagnosisCode_4'] + inpatient['ClmDiagnosisCode_5'] + \\\n",
    "inpatient['ClmDiagnosisCode_6']+ inpatient['ClmDiagnosisCode_7'] + inpatient['ClmDiagnosisCode_8'] + \\\n",
    "inpatient['ClmDiagnosisCode_9']+ inpatient['ClmDiagnosisCode_10']"
   ]
  },
  {
   "cell_type": "code",
   "execution_count": 100,
   "id": "e9542ea5",
   "metadata": {},
   "outputs": [],
   "source": [
    "inpatient = inpatient.drop(['ClmDiagnosisCode_1', 'ClmDiagnosisCode_2', 'ClmDiagnosisCode_3', 'ClmDiagnosisCode_4', 'ClmDiagnosisCode_5',\n",
    "                           'ClmDiagnosisCode_6', 'ClmDiagnosisCode_7', 'ClmDiagnosisCode_8', 'ClmDiagnosisCode_9', 'ClmDiagnosisCode_10'], axis=1)"
   ]
  },
  {
   "cell_type": "code",
   "execution_count": 214,
   "id": "72e0a90b",
   "metadata": {},
   "outputs": [
    {
     "name": "stdout",
     "output_type": "stream",
     "text": [
      "<class 'pandas.core.frame.DataFrame'>\n",
      "RangeIndex: 40474 entries, 0 to 40473\n",
      "Data columns (total 23 columns):\n",
      " #   Column                 Non-Null Count  Dtype          \n",
      "---  ------                 --------------  -----          \n",
      " 0   BeneID                 40474 non-null  object         \n",
      " 1   ClaimID                40474 non-null  object         \n",
      " 2   ClaimStartDt           40474 non-null  datetime64[ns] \n",
      " 3   ClaimEndDt             40474 non-null  datetime64[ns] \n",
      " 4   Provider               40474 non-null  object         \n",
      " 5   AttendingPhysician     40362 non-null  object         \n",
      " 6   OperatingPhysician     23830 non-null  object         \n",
      " 7   OtherPhysician         4690 non-null   object         \n",
      " 8   AdmissionDt            40474 non-null  object         \n",
      " 9   ClmAdmitDiagnosisCode  40474 non-null  object         \n",
      " 10  DischargeDt            40474 non-null  object         \n",
      " 11  DiagnosisGroupCode     40474 non-null  object         \n",
      " 12  Total_Chronic          40474 non-null  int64          \n",
      " 13  DOB                    40474 non-null  object         \n",
      " 14  Age                    40474 non-null  int64          \n",
      " 15  PotentialFraud         40474 non-null  object         \n",
      " 16  Days_Admitted          40474 non-null  int64          \n",
      " 17  Claim_Diag_Total       40474 non-null  int64          \n",
      " 18  Total_Claims_Amount    39575 non-null  float64        \n",
      " 19  Claim Type             40474 non-null  object         \n",
      " 20  Claim Duration         40474 non-null  timedelta64[ns]\n",
      " 21  ClmProcedureCode       23148 non-null  float64        \n",
      " 22  Claim_Procedure_Total  40474 non-null  int64          \n",
      "dtypes: datetime64[ns](2), float64(2), int64(5), object(13), timedelta64[ns](1)\n",
      "memory usage: 7.1+ MB\n"
     ]
    }
   ],
   "source": [
    "inpatient.info()"
   ]
  },
  {
   "cell_type": "code",
   "execution_count": 215,
   "id": "6c889d22",
   "metadata": {},
   "outputs": [
    {
     "data": {
      "text/html": [
       "<div>\n",
       "<style scoped>\n",
       "    .dataframe tbody tr th:only-of-type {\n",
       "        vertical-align: middle;\n",
       "    }\n",
       "\n",
       "    .dataframe tbody tr th {\n",
       "        vertical-align: top;\n",
       "    }\n",
       "\n",
       "    .dataframe thead th {\n",
       "        text-align: right;\n",
       "    }\n",
       "</style>\n",
       "<table border=\"1\" class=\"dataframe\">\n",
       "  <thead>\n",
       "    <tr style=\"text-align: right;\">\n",
       "      <th></th>\n",
       "      <th>BeneID</th>\n",
       "      <th>ClaimID</th>\n",
       "      <th>ClaimStartDt</th>\n",
       "      <th>ClaimEndDt</th>\n",
       "      <th>Provider</th>\n",
       "      <th>AttendingPhysician</th>\n",
       "      <th>OperatingPhysician</th>\n",
       "      <th>OtherPhysician</th>\n",
       "      <th>AdmissionDt</th>\n",
       "      <th>ClmAdmitDiagnosisCode</th>\n",
       "      <th>...</th>\n",
       "      <th>DOB</th>\n",
       "      <th>Age</th>\n",
       "      <th>PotentialFraud</th>\n",
       "      <th>Days_Admitted</th>\n",
       "      <th>Claim_Diag_Total</th>\n",
       "      <th>Total_Claims_Amount</th>\n",
       "      <th>Claim Type</th>\n",
       "      <th>Claim Duration</th>\n",
       "      <th>ClmProcedureCode</th>\n",
       "      <th>Claim_Procedure_Total</th>\n",
       "    </tr>\n",
       "  </thead>\n",
       "  <tbody>\n",
       "    <tr>\n",
       "      <th>0</th>\n",
       "      <td>BENE11001</td>\n",
       "      <td>CLM46614</td>\n",
       "      <td>2009-04-12</td>\n",
       "      <td>2009-04-18</td>\n",
       "      <td>PRV55912</td>\n",
       "      <td>PHY390922</td>\n",
       "      <td>NaN</td>\n",
       "      <td>NaN</td>\n",
       "      <td>2009-04-12</td>\n",
       "      <td>7866</td>\n",
       "      <td>...</td>\n",
       "      <td>1943-01-01</td>\n",
       "      <td>66</td>\n",
       "      <td>Yes</td>\n",
       "      <td>6</td>\n",
       "      <td>9</td>\n",
       "      <td>27068.0</td>\n",
       "      <td>Inpatient</td>\n",
       "      <td>6 days</td>\n",
       "      <td>NaN</td>\n",
       "      <td>0</td>\n",
       "    </tr>\n",
       "    <tr>\n",
       "      <th>1</th>\n",
       "      <td>BENE11001</td>\n",
       "      <td>CLM66048</td>\n",
       "      <td>2009-08-31</td>\n",
       "      <td>2009-09-02</td>\n",
       "      <td>PRV55907</td>\n",
       "      <td>PHY318495</td>\n",
       "      <td>PHY318495</td>\n",
       "      <td>NaN</td>\n",
       "      <td>2009-08-31</td>\n",
       "      <td>6186</td>\n",
       "      <td>...</td>\n",
       "      <td>1943-01-01</td>\n",
       "      <td>67</td>\n",
       "      <td>No</td>\n",
       "      <td>2</td>\n",
       "      <td>3</td>\n",
       "      <td>6068.0</td>\n",
       "      <td>Inpatient</td>\n",
       "      <td>2 days</td>\n",
       "      <td>7092.0</td>\n",
       "      <td>1</td>\n",
       "    </tr>\n",
       "    <tr>\n",
       "      <th>2</th>\n",
       "      <td>BENE11001</td>\n",
       "      <td>CLM68358</td>\n",
       "      <td>2009-09-17</td>\n",
       "      <td>2009-09-20</td>\n",
       "      <td>PRV56046</td>\n",
       "      <td>PHY372395</td>\n",
       "      <td>NaN</td>\n",
       "      <td>PHY324689</td>\n",
       "      <td>2009-09-17</td>\n",
       "      <td>29590</td>\n",
       "      <td>...</td>\n",
       "      <td>1943-01-01</td>\n",
       "      <td>67</td>\n",
       "      <td>No</td>\n",
       "      <td>3</td>\n",
       "      <td>6</td>\n",
       "      <td>6068.0</td>\n",
       "      <td>Inpatient</td>\n",
       "      <td>3 days</td>\n",
       "      <td>NaN</td>\n",
       "      <td>0</td>\n",
       "    </tr>\n",
       "    <tr>\n",
       "      <th>3</th>\n",
       "      <td>BENE11011</td>\n",
       "      <td>CLM38412</td>\n",
       "      <td>2009-02-14</td>\n",
       "      <td>2009-02-22</td>\n",
       "      <td>PRV52405</td>\n",
       "      <td>PHY369659</td>\n",
       "      <td>PHY392961</td>\n",
       "      <td>PHY349768</td>\n",
       "      <td>2009-02-14</td>\n",
       "      <td>431</td>\n",
       "      <td>...</td>\n",
       "      <td>1914-03-01</td>\n",
       "      <td>95</td>\n",
       "      <td>No</td>\n",
       "      <td>8</td>\n",
       "      <td>9</td>\n",
       "      <td>6068.0</td>\n",
       "      <td>Inpatient</td>\n",
       "      <td>8 days</td>\n",
       "      <td>331.0</td>\n",
       "      <td>1</td>\n",
       "    </tr>\n",
       "    <tr>\n",
       "      <th>4</th>\n",
       "      <td>BENE11014</td>\n",
       "      <td>CLM63689</td>\n",
       "      <td>2009-08-13</td>\n",
       "      <td>2009-08-30</td>\n",
       "      <td>PRV56614</td>\n",
       "      <td>PHY379376</td>\n",
       "      <td>PHY398258</td>\n",
       "      <td>NaN</td>\n",
       "      <td>2009-08-13</td>\n",
       "      <td>78321</td>\n",
       "      <td>...</td>\n",
       "      <td>1938-04-01</td>\n",
       "      <td>71</td>\n",
       "      <td>No</td>\n",
       "      <td>17</td>\n",
       "      <td>9</td>\n",
       "      <td>11068.0</td>\n",
       "      <td>Inpatient</td>\n",
       "      <td>17 days</td>\n",
       "      <td>3893.0</td>\n",
       "      <td>1</td>\n",
       "    </tr>\n",
       "  </tbody>\n",
       "</table>\n",
       "<p>5 rows × 23 columns</p>\n",
       "</div>"
      ],
      "text/plain": [
       "      BeneID   ClaimID ClaimStartDt ClaimEndDt  Provider AttendingPhysician  \\\n",
       "0  BENE11001  CLM46614   2009-04-12 2009-04-18  PRV55912          PHY390922   \n",
       "1  BENE11001  CLM66048   2009-08-31 2009-09-02  PRV55907          PHY318495   \n",
       "2  BENE11001  CLM68358   2009-09-17 2009-09-20  PRV56046          PHY372395   \n",
       "3  BENE11011  CLM38412   2009-02-14 2009-02-22  PRV52405          PHY369659   \n",
       "4  BENE11014  CLM63689   2009-08-13 2009-08-30  PRV56614          PHY379376   \n",
       "\n",
       "  OperatingPhysician OtherPhysician AdmissionDt ClmAdmitDiagnosisCode  ...  \\\n",
       "0                NaN            NaN  2009-04-12                  7866  ...   \n",
       "1          PHY318495            NaN  2009-08-31                  6186  ...   \n",
       "2                NaN      PHY324689  2009-09-17                 29590  ...   \n",
       "3          PHY392961      PHY349768  2009-02-14                   431  ...   \n",
       "4          PHY398258            NaN  2009-08-13                 78321  ...   \n",
       "\n",
       "          DOB Age  PotentialFraud Days_Admitted  Claim_Diag_Total  \\\n",
       "0  1943-01-01  66             Yes             6                 9   \n",
       "1  1943-01-01  67              No             2                 3   \n",
       "2  1943-01-01  67              No             3                 6   \n",
       "3  1914-03-01  95              No             8                 9   \n",
       "4  1938-04-01  71              No            17                 9   \n",
       "\n",
       "  Total_Claims_Amount  Claim Type  Claim Duration  ClmProcedureCode  \\\n",
       "0             27068.0   Inpatient          6 days               NaN   \n",
       "1              6068.0   Inpatient          2 days            7092.0   \n",
       "2              6068.0   Inpatient          3 days               NaN   \n",
       "3              6068.0   Inpatient          8 days             331.0   \n",
       "4             11068.0   Inpatient         17 days            3893.0   \n",
       "\n",
       "  Claim_Procedure_Total  \n",
       "0                     0  \n",
       "1                     1  \n",
       "2                     0  \n",
       "3                     1  \n",
       "4                     1  \n",
       "\n",
       "[5 rows x 23 columns]"
      ]
     },
     "execution_count": 215,
     "metadata": {},
     "output_type": "execute_result"
    }
   ],
   "source": [
    "inpatient.head()"
   ]
  },
  {
   "cell_type": "code",
   "execution_count": 105,
   "id": "7dc7e503",
   "metadata": {},
   "outputs": [],
   "source": [
    "inpatient['Total_Claims_Amount'] = round((inpatient['DeductibleAmtPaid'] + inpatient['InscClaimAmtReimbursed']))"
   ]
  },
  {
   "cell_type": "code",
   "execution_count": 106,
   "id": "c8061974",
   "metadata": {},
   "outputs": [],
   "source": [
    "inpatient = inpatient.drop(['InscClaimAmtReimbursed', 'DeductibleAmtPaid'], axis=1)"
   ]
  },
  {
   "cell_type": "code",
   "execution_count": 108,
   "id": "40ba2d14",
   "metadata": {},
   "outputs": [],
   "source": [
    "inpatient['Claim Type'] = 'Inpatient'"
   ]
  },
  {
   "cell_type": "code",
   "execution_count": 126,
   "id": "ecbf0562",
   "metadata": {},
   "outputs": [],
   "source": [
    "inpatient['ClaimStartDt']= pd.to_datetime(inpatient['ClaimStartDt'])\n",
    "inpatient['ClaimEndDt']= pd.to_datetime(inpatient['ClaimEndDt'])"
   ]
  },
  {
   "cell_type": "code",
   "execution_count": 128,
   "id": "9ca3366c",
   "metadata": {},
   "outputs": [],
   "source": [
    "inpatient['Claim Duration'] = inpatient['ClaimEndDt'] - inpatient['ClaimStartDt']"
   ]
  },
  {
   "cell_type": "code",
   "execution_count": 118,
   "id": "8ba95341",
   "metadata": {},
   "outputs": [],
   "source": [
    "inpatient.groupby('ClmAdmitDiagnosisCode')['ClaimID'].count().sort_values(ascending=False)\n",
    "\n",
    "#top 5 claim diagnosis codes\n",
    "top5 = {'78650': 'Chest pain, unspecified', '78605': 'Shortness of breath', \n",
    "        '486': 'Pneumonia', '4280':'Congestive heart failure', '7802': 'Syncope and collapse'}"
   ]
  },
  {
   "cell_type": "code",
   "execution_count": 211,
   "id": "70506840",
   "metadata": {},
   "outputs": [
    {
     "data": {
      "text/plain": [
       "<AxesSubplot:xlabel='DiagnosisGroupCode'>"
      ]
     },
     "execution_count": 211,
     "metadata": {},
     "output_type": "execute_result"
    },
    {
     "data": {
      "image/png": "[encoded data removed]",
      "text/plain": [
       "<Figure size 432x288 with 1 Axes>"
      ]
     },
     "metadata": {
      "needs_background": "light"
     },
     "output_type": "display_data"
    }
   ],
   "source": [
    "inpatient.groupby('DiagnosisGroupCode')['ClaimID'].count().sort_values(ascending=False).head(5).plot.bar()\n"
   ]
  },
  {
   "cell_type": "code",
   "execution_count": 117,
   "id": "4ac61af3",
   "metadata": {},
   "outputs": [
    {
     "data": {
      "text/plain": [
       "<AxesSubplot:xlabel='ClmAdmitDiagnosisCode'>"
      ]
     },
     "execution_count": 117,
     "metadata": {},
     "output_type": "execute_result"
    },
    {
     "data": {
      "image/png": "[encoded data removed]",
      "text/plain": [
       "<Figure size 432x288 with 1 Axes>"
      ]
     },
     "metadata": {
      "needs_background": "light"
     },
     "output_type": "display_data"
    }
   ],
   "source": [
    "inpatient.groupby('ClmAdmitDiagnosisCode')['ClaimID'].count().sort_values(ascending=False).head(5).plot.bar()\n"
   ]
  },
  {
   "cell_type": "code",
   "execution_count": 217,
   "id": "32ae89c8",
   "metadata": {},
   "outputs": [
    {
     "data": {
      "text/plain": [
       "PotentialFraud\n",
       "No     17072\n",
       "Yes    23402\n",
       "Name: Provider, dtype: int64"
      ]
     },
     "execution_count": 217,
     "metadata": {},
     "output_type": "execute_result"
    }
   ],
   "source": [
    "inpatient.groupby('PotentialFraud')['Provider'].count()"
   ]
  },
  {
   "cell_type": "code",
   "execution_count": 210,
   "id": "1e3bb000",
   "metadata": {},
   "outputs": [
    {
     "data": {
      "text/plain": [
       "Index(['BeneID', 'ClaimID', 'ClaimStartDt', 'ClaimEndDt', 'Provider',\n",
       "       'AttendingPhysician', 'OperatingPhysician', 'OtherPhysician',\n",
       "       'AdmissionDt', 'ClmAdmitDiagnosisCode', 'DischargeDt',\n",
       "       'DiagnosisGroupCode', 'Total_Chronic', 'DOB', 'Age', 'PotentialFraud',\n",
       "       'Days_Admitted', 'Claim_Diag_Total', 'Total_Claims_Amount',\n",
       "       'Claim Type', 'Claim Duration', 'ClmProcedureCode',\n",
       "       'Claim_Procedure_Total'],\n",
       "      dtype='object')"
      ]
     },
     "execution_count": 210,
     "metadata": {},
     "output_type": "execute_result"
    }
   ],
   "source": [
    "inpatient.columns"
   ]
  },
  {
   "cell_type": "code",
   "execution_count": 143,
   "id": "971f9f6d",
   "metadata": {},
   "outputs": [],
   "source": [
    "inpatient['ClmProcedureCode'] = inpatient['ClmProcedureCode_1']"
   ]
  },
  {
   "cell_type": "code",
   "execution_count": 146,
   "id": "5ac72811",
   "metadata": {},
   "outputs": [],
   "source": [
    "inpatient['ClmProcedureCode_1'] = np.where(inpatient.ClmProcedureCode_1.isnull(), 0, 1)\n",
    "inpatient['ClmProcedureCode_2'] = np.where(inpatient.ClmProcedureCode_2.isnull(), 0, 1)\n",
    "inpatient['ClmProcedureCode_3'] = np.where(inpatient.ClmProcedureCode_3.isnull(), 0, 1)\n",
    "inpatient['ClmProcedureCode_4'] = np.where(inpatient.ClmProcedureCode_4.isnull(), 0, 1)\n",
    "inpatient['ClmProcedureCode_5'] = np.where(inpatient.ClmProcedureCode_5.isnull(), 0, 1)"
   ]
  },
  {
   "cell_type": "code",
   "execution_count": 149,
   "id": "760b9497",
   "metadata": {},
   "outputs": [],
   "source": [
    "inpatient['Claim_Procedure_Total'] = inpatient['ClmProcedureCode_1'] + inpatient['ClmProcedureCode_2'] + \\\n",
    "inpatient['ClmProcedureCode_3']+ inpatient['ClmProcedureCode_4'] + inpatient['ClmProcedureCode_5']"
   ]
  },
  {
   "cell_type": "code",
   "execution_count": 154,
   "id": "7e87314e",
   "metadata": {},
   "outputs": [],
   "source": [
    "#inpatient = inpatient.drop(['ClmProcedureCode_1', 'ClmProcedureCode_2', 'ClmProcedureCode_3', 'ClmProcedureCode_4', 'ClmProcedureCode_5'], axis=1)"
   ]
  },
  {
   "cell_type": "code",
   "execution_count": 160,
   "id": "ea437f1c",
   "metadata": {},
   "outputs": [],
   "source": [
    "inpatient.rename(columns = {'total_chronic':'Total_Chronic', 'days_admitted':'Days_Admitted'}, inplace = True)"
   ]
  },
  {
   "cell_type": "code",
   "execution_count": 124,
   "id": "0a788987",
   "metadata": {},
   "outputs": [
    {
     "data": {
      "text/html": [
       "<div>\n",
       "<style scoped>\n",
       "    .dataframe tbody tr th:only-of-type {\n",
       "        vertical-align: middle;\n",
       "    }\n",
       "\n",
       "    .dataframe tbody tr th {\n",
       "        vertical-align: top;\n",
       "    }\n",
       "\n",
       "    .dataframe thead th {\n",
       "        text-align: right;\n",
       "    }\n",
       "</style>\n",
       "<table border=\"1\" class=\"dataframe\">\n",
       "  <thead>\n",
       "    <tr style=\"text-align: right;\">\n",
       "      <th></th>\n",
       "      <th>BeneID</th>\n",
       "    </tr>\n",
       "    <tr>\n",
       "      <th>Age</th>\n",
       "      <th></th>\n",
       "    </tr>\n",
       "  </thead>\n",
       "  <tbody>\n",
       "    <tr>\n",
       "      <th>25</th>\n",
       "      <td>3</td>\n",
       "    </tr>\n",
       "    <tr>\n",
       "      <th>26</th>\n",
       "      <td>41</td>\n",
       "    </tr>\n",
       "    <tr>\n",
       "      <th>27</th>\n",
       "      <td>68</td>\n",
       "    </tr>\n",
       "    <tr>\n",
       "      <th>28</th>\n",
       "      <td>60</td>\n",
       "    </tr>\n",
       "    <tr>\n",
       "      <th>29</th>\n",
       "      <td>60</td>\n",
       "    </tr>\n",
       "    <tr>\n",
       "      <th>...</th>\n",
       "      <td>...</td>\n",
       "    </tr>\n",
       "    <tr>\n",
       "      <th>97</th>\n",
       "      <td>275</td>\n",
       "    </tr>\n",
       "    <tr>\n",
       "      <th>98</th>\n",
       "      <td>237</td>\n",
       "    </tr>\n",
       "    <tr>\n",
       "      <th>99</th>\n",
       "      <td>239</td>\n",
       "    </tr>\n",
       "    <tr>\n",
       "      <th>100</th>\n",
       "      <td>257</td>\n",
       "    </tr>\n",
       "    <tr>\n",
       "      <th>101</th>\n",
       "      <td>34</td>\n",
       "    </tr>\n",
       "  </tbody>\n",
       "</table>\n",
       "<p>77 rows × 1 columns</p>\n",
       "</div>"
      ],
      "text/plain": [
       "     BeneID\n",
       "Age        \n",
       "25        3\n",
       "26       41\n",
       "27       68\n",
       "28       60\n",
       "29       60\n",
       "..      ...\n",
       "97      275\n",
       "98      237\n",
       "99      239\n",
       "100     257\n",
       "101      34\n",
       "\n",
       "[77 rows x 1 columns]"
      ]
     },
     "execution_count": 124,
     "metadata": {},
     "output_type": "execute_result"
    }
   ],
   "source": [
    "# age of patients at date of claim\n",
    "inpatient.groupby('Age')[['BeneID']].count()"
   ]
  },
  {
   "cell_type": "code",
   "execution_count": 136,
   "id": "f737a3b3",
   "metadata": {},
   "outputs": [
    {
     "data": {
      "text/plain": [
       "<AxesSubplot:>"
      ]
     },
     "execution_count": 136,
     "metadata": {},
     "output_type": "execute_result"
    },
    {
     "data": {
      "image/png": "[encoded data removed]",
      "text/plain": [
       "<Figure size 432x288 with 1 Axes>"
      ]
     },
     "metadata": {
      "needs_background": "light"
     },
     "output_type": "display_data"
    }
   ],
   "source": [
    "inpatient.Claim_Diag_Total.hist()"
   ]
  },
  {
   "cell_type": "code",
   "execution_count": 137,
   "id": "a550e31a",
   "metadata": {},
   "outputs": [
    {
     "data": {
      "text/plain": [
       "<AxesSubplot:>"
      ]
     },
     "execution_count": 137,
     "metadata": {},
     "output_type": "execute_result"
    },
    {
     "data": {
      "image/png": "[encoded data removed]",
      "text/plain": [
       "<Figure size 432x288 with 1 Axes>"
      ]
     },
     "metadata": {
      "needs_background": "light"
     },
     "output_type": "display_data"
    }
   ],
   "source": [
    "inpatient.Age.hist()"
   ]
  },
  {
   "cell_type": "code",
   "execution_count": 223,
   "id": "26a318b0",
   "metadata": {},
   "outputs": [
    {
     "data": {
      "text/html": [
       "<div>\n",
       "<style scoped>\n",
       "    .dataframe tbody tr th:only-of-type {\n",
       "        vertical-align: middle;\n",
       "    }\n",
       "\n",
       "    .dataframe tbody tr th {\n",
       "        vertical-align: top;\n",
       "    }\n",
       "\n",
       "    .dataframe thead th {\n",
       "        text-align: right;\n",
       "    }\n",
       "</style>\n",
       "<table border=\"1\" class=\"dataframe\">\n",
       "  <thead>\n",
       "    <tr style=\"text-align: right;\">\n",
       "      <th></th>\n",
       "      <th>BeneID</th>\n",
       "      <th>ClaimID</th>\n",
       "      <th>ClaimStartDt</th>\n",
       "      <th>ClaimEndDt</th>\n",
       "      <th>Provider</th>\n",
       "      <th>AttendingPhysician</th>\n",
       "      <th>OperatingPhysician</th>\n",
       "      <th>OtherPhysician</th>\n",
       "      <th>AdmissionDt</th>\n",
       "      <th>ClmAdmitDiagnosisCode</th>\n",
       "      <th>...</th>\n",
       "      <th>DOB</th>\n",
       "      <th>Age</th>\n",
       "      <th>PotentialFraud</th>\n",
       "      <th>Days_Admitted</th>\n",
       "      <th>Claim_Diag_Total</th>\n",
       "      <th>Total_Claims_Amount</th>\n",
       "      <th>Claim Type</th>\n",
       "      <th>Claim Duration</th>\n",
       "      <th>ClmProcedureCode</th>\n",
       "      <th>Claim_Procedure_Total</th>\n",
       "    </tr>\n",
       "  </thead>\n",
       "  <tbody>\n",
       "    <tr>\n",
       "      <th>0</th>\n",
       "      <td>BENE11001</td>\n",
       "      <td>CLM46614</td>\n",
       "      <td>2009-04-12</td>\n",
       "      <td>2009-04-18</td>\n",
       "      <td>PRV55912</td>\n",
       "      <td>PHY390922</td>\n",
       "      <td>NaN</td>\n",
       "      <td>NaN</td>\n",
       "      <td>2009-04-12</td>\n",
       "      <td>7866</td>\n",
       "      <td>...</td>\n",
       "      <td>1943-01-01</td>\n",
       "      <td>66</td>\n",
       "      <td>Yes</td>\n",
       "      <td>6</td>\n",
       "      <td>9</td>\n",
       "      <td>27068.0</td>\n",
       "      <td>Inpatient</td>\n",
       "      <td>6 days</td>\n",
       "      <td>NaN</td>\n",
       "      <td>0</td>\n",
       "    </tr>\n",
       "    <tr>\n",
       "      <th>1</th>\n",
       "      <td>BENE11001</td>\n",
       "      <td>CLM66048</td>\n",
       "      <td>2009-08-31</td>\n",
       "      <td>2009-09-02</td>\n",
       "      <td>PRV55907</td>\n",
       "      <td>PHY318495</td>\n",
       "      <td>PHY318495</td>\n",
       "      <td>NaN</td>\n",
       "      <td>2009-08-31</td>\n",
       "      <td>6186</td>\n",
       "      <td>...</td>\n",
       "      <td>1943-01-01</td>\n",
       "      <td>67</td>\n",
       "      <td>No</td>\n",
       "      <td>2</td>\n",
       "      <td>3</td>\n",
       "      <td>6068.0</td>\n",
       "      <td>Inpatient</td>\n",
       "      <td>2 days</td>\n",
       "      <td>7092.0</td>\n",
       "      <td>1</td>\n",
       "    </tr>\n",
       "    <tr>\n",
       "      <th>2</th>\n",
       "      <td>BENE11001</td>\n",
       "      <td>CLM68358</td>\n",
       "      <td>2009-09-17</td>\n",
       "      <td>2009-09-20</td>\n",
       "      <td>PRV56046</td>\n",
       "      <td>PHY372395</td>\n",
       "      <td>NaN</td>\n",
       "      <td>PHY324689</td>\n",
       "      <td>2009-09-17</td>\n",
       "      <td>29590</td>\n",
       "      <td>...</td>\n",
       "      <td>1943-01-01</td>\n",
       "      <td>67</td>\n",
       "      <td>No</td>\n",
       "      <td>3</td>\n",
       "      <td>6</td>\n",
       "      <td>6068.0</td>\n",
       "      <td>Inpatient</td>\n",
       "      <td>3 days</td>\n",
       "      <td>NaN</td>\n",
       "      <td>0</td>\n",
       "    </tr>\n",
       "    <tr>\n",
       "      <th>3</th>\n",
       "      <td>BENE11011</td>\n",
       "      <td>CLM38412</td>\n",
       "      <td>2009-02-14</td>\n",
       "      <td>2009-02-22</td>\n",
       "      <td>PRV52405</td>\n",
       "      <td>PHY369659</td>\n",
       "      <td>PHY392961</td>\n",
       "      <td>PHY349768</td>\n",
       "      <td>2009-02-14</td>\n",
       "      <td>431</td>\n",
       "      <td>...</td>\n",
       "      <td>1914-03-01</td>\n",
       "      <td>95</td>\n",
       "      <td>No</td>\n",
       "      <td>8</td>\n",
       "      <td>9</td>\n",
       "      <td>6068.0</td>\n",
       "      <td>Inpatient</td>\n",
       "      <td>8 days</td>\n",
       "      <td>331.0</td>\n",
       "      <td>1</td>\n",
       "    </tr>\n",
       "    <tr>\n",
       "      <th>4</th>\n",
       "      <td>BENE11014</td>\n",
       "      <td>CLM63689</td>\n",
       "      <td>2009-08-13</td>\n",
       "      <td>2009-08-30</td>\n",
       "      <td>PRV56614</td>\n",
       "      <td>PHY379376</td>\n",
       "      <td>PHY398258</td>\n",
       "      <td>NaN</td>\n",
       "      <td>2009-08-13</td>\n",
       "      <td>78321</td>\n",
       "      <td>...</td>\n",
       "      <td>1938-04-01</td>\n",
       "      <td>71</td>\n",
       "      <td>No</td>\n",
       "      <td>17</td>\n",
       "      <td>9</td>\n",
       "      <td>11068.0</td>\n",
       "      <td>Inpatient</td>\n",
       "      <td>17 days</td>\n",
       "      <td>3893.0</td>\n",
       "      <td>1</td>\n",
       "    </tr>\n",
       "  </tbody>\n",
       "</table>\n",
       "<p>5 rows × 23 columns</p>\n",
       "</div>"
      ],
      "text/plain": [
       "      BeneID   ClaimID ClaimStartDt ClaimEndDt  Provider AttendingPhysician  \\\n",
       "0  BENE11001  CLM46614   2009-04-12 2009-04-18  PRV55912          PHY390922   \n",
       "1  BENE11001  CLM66048   2009-08-31 2009-09-02  PRV55907          PHY318495   \n",
       "2  BENE11001  CLM68358   2009-09-17 2009-09-20  PRV56046          PHY372395   \n",
       "3  BENE11011  CLM38412   2009-02-14 2009-02-22  PRV52405          PHY369659   \n",
       "4  BENE11014  CLM63689   2009-08-13 2009-08-30  PRV56614          PHY379376   \n",
       "\n",
       "  OperatingPhysician OtherPhysician AdmissionDt ClmAdmitDiagnosisCode  ...  \\\n",
       "0                NaN            NaN  2009-04-12                  7866  ...   \n",
       "1          PHY318495            NaN  2009-08-31                  6186  ...   \n",
       "2                NaN      PHY324689  2009-09-17                 29590  ...   \n",
       "3          PHY392961      PHY349768  2009-02-14                   431  ...   \n",
       "4          PHY398258            NaN  2009-08-13                 78321  ...   \n",
       "\n",
       "          DOB Age  PotentialFraud Days_Admitted  Claim_Diag_Total  \\\n",
       "0  1943-01-01  66             Yes             6                 9   \n",
       "1  1943-01-01  67              No             2                 3   \n",
       "2  1943-01-01  67              No             3                 6   \n",
       "3  1914-03-01  95              No             8                 9   \n",
       "4  1938-04-01  71              No            17                 9   \n",
       "\n",
       "  Total_Claims_Amount  Claim Type  Claim Duration  ClmProcedureCode  \\\n",
       "0             27068.0   Inpatient          6 days               NaN   \n",
       "1              6068.0   Inpatient          2 days            7092.0   \n",
       "2              6068.0   Inpatient          3 days               NaN   \n",
       "3              6068.0   Inpatient          8 days             331.0   \n",
       "4             11068.0   Inpatient         17 days            3893.0   \n",
       "\n",
       "  Claim_Procedure_Total  \n",
       "0                     0  \n",
       "1                     1  \n",
       "2                     0  \n",
       "3                     1  \n",
       "4                     1  \n",
       "\n",
       "[5 rows x 23 columns]"
      ]
     },
     "execution_count": 223,
     "metadata": {},
     "output_type": "execute_result"
    }
   ],
   "source": [
    "inpatient.head()"
   ]
  },
  {
   "cell_type": "code",
   "execution_count": 221,
   "id": "e1b493dc",
   "metadata": {},
   "outputs": [
    {
     "name": "stdout",
     "output_type": "stream",
     "text": [
      "<class 'pandas.core.frame.DataFrame'>\n",
      "RangeIndex: 40474 entries, 0 to 40473\n",
      "Data columns (total 23 columns):\n",
      " #   Column                 Non-Null Count  Dtype          \n",
      "---  ------                 --------------  -----          \n",
      " 0   BeneID                 40474 non-null  object         \n",
      " 1   ClaimID                40474 non-null  object         \n",
      " 2   ClaimStartDt           40474 non-null  datetime64[ns] \n",
      " 3   ClaimEndDt             40474 non-null  datetime64[ns] \n",
      " 4   Provider               40474 non-null  object         \n",
      " 5   AttendingPhysician     40362 non-null  object         \n",
      " 6   OperatingPhysician     23830 non-null  object         \n",
      " 7   OtherPhysician         4690 non-null   object         \n",
      " 8   AdmissionDt            40474 non-null  object         \n",
      " 9   ClmAdmitDiagnosisCode  40474 non-null  object         \n",
      " 10  DischargeDt            40474 non-null  object         \n",
      " 11  DiagnosisGroupCode     40474 non-null  object         \n",
      " 12  Total_Chronic          40474 non-null  int64          \n",
      " 13  DOB                    40474 non-null  object         \n",
      " 14  Age                    40474 non-null  int64          \n",
      " 15  PotentialFraud         40474 non-null  object         \n",
      " 16  Days_Admitted          40474 non-null  int64          \n",
      " 17  Claim_Diag_Total       40474 non-null  int64          \n",
      " 18  Total_Claims_Amount    39575 non-null  float64        \n",
      " 19  Claim Type             40474 non-null  object         \n",
      " 20  Claim Duration         40474 non-null  timedelta64[ns]\n",
      " 21  ClmProcedureCode       23148 non-null  float64        \n",
      " 22  Claim_Procedure_Total  40474 non-null  int64          \n",
      "dtypes: datetime64[ns](2), float64(2), int64(5), object(13), timedelta64[ns](1)\n",
      "memory usage: 7.1+ MB\n"
     ]
    }
   ],
   "source": [
    "inpatient.info()"
   ]
  },
  {
   "cell_type": "markdown",
   "id": "162d51ee",
   "metadata": {},
   "source": [
    "#### Do potential fraud providers charge more claims?"
   ]
  },
  {
   "cell_type": "code",
   "execution_count": 475,
   "id": "752eb891",
   "metadata": {},
   "outputs": [
    {
     "name": "stderr",
     "output_type": "stream",
     "text": [
      "/Users/hyejinkim/opt/anaconda3/lib/python3.9/site-packages/seaborn/_decorators.py:36: FutureWarning: Pass the following variables as keyword args: x, y. From version 0.12, the only valid positional argument will be `data`, and passing other arguments without an explicit keyword will result in an error or misinterpretation.\n",
      "  warnings.warn(\n"
     ]
    },
    {
     "data": {
      "text/plain": [
       "<AxesSubplot:xlabel='Total_Chronic', ylabel='Total_Claims_Amount'>"
      ]
     },
     "execution_count": 475,
     "metadata": {},
     "output_type": "execute_result"
    },
    {
     "data": {
      "image/png": "[encoded data removed]",
      "text/plain": [
       "<Figure size 864x432 with 1 Axes>"
      ]
     },
     "metadata": {
      "needs_background": "light"
     },
     "output_type": "display_data"
    }
   ],
   "source": [
    "# import seaborn as sns\n",
    "rcParams['figure.figsize'] = 12, 6\n",
    "sns.scatterplot('Total_Chronic', 'Total_Claims_Amount', data=inpatient, hue='PotentialFraud')"
   ]
  },
  {
   "cell_type": "code",
   "execution_count": 247,
   "id": "5d46107e",
   "metadata": {},
   "outputs": [
    {
     "name": "stderr",
     "output_type": "stream",
     "text": [
      "/Users/hyejinkim/opt/anaconda3/lib/python3.9/site-packages/seaborn/_decorators.py:36: FutureWarning: Pass the following variables as keyword args: x, y. From version 0.12, the only valid positional argument will be `data`, and passing other arguments without an explicit keyword will result in an error or misinterpretation.\n",
      "  warnings.warn(\n"
     ]
    },
    {
     "data": {
      "text/plain": [
       "<AxesSubplot:xlabel='Age', ylabel='Total_Claims_Amount'>"
      ]
     },
     "execution_count": 247,
     "metadata": {},
     "output_type": "execute_result"
    },
    {
     "data": {
      "image/png": "[encoded data removed]",
      "text/plain": [
       "<Figure size 1296x432 with 1 Axes>"
      ]
     },
     "metadata": {
      "needs_background": "light"
     },
     "output_type": "display_data"
    }
   ],
   "source": [
    "sns.scatterplot('Age', 'Total_Claims_Amount', data=inpatient, hue='PotentialFraud')"
   ]
  },
  {
   "cell_type": "code",
   "execution_count": 341,
   "id": "d127384d",
   "metadata": {},
   "outputs": [
    {
     "data": {
      "text/html": [
       "<div>\n",
       "<style scoped>\n",
       "    .dataframe tbody tr th:only-of-type {\n",
       "        vertical-align: middle;\n",
       "    }\n",
       "\n",
       "    .dataframe tbody tr th {\n",
       "        vertical-align: top;\n",
       "    }\n",
       "\n",
       "    .dataframe thead th {\n",
       "        text-align: right;\n",
       "    }\n",
       "</style>\n",
       "<table border=\"1\" class=\"dataframe\">\n",
       "  <thead>\n",
       "    <tr style=\"text-align: right;\">\n",
       "      <th></th>\n",
       "      <th></th>\n",
       "      <th>Total_Claims_Amount</th>\n",
       "    </tr>\n",
       "    <tr>\n",
       "      <th>Age</th>\n",
       "      <th>PotentialFraud</th>\n",
       "      <th></th>\n",
       "    </tr>\n",
       "  </thead>\n",
       "  <tbody>\n",
       "    <tr>\n",
       "      <th rowspan=\"2\" valign=\"top\">25</th>\n",
       "      <th>No</th>\n",
       "      <td>10068.000000</td>\n",
       "    </tr>\n",
       "    <tr>\n",
       "      <th>Yes</th>\n",
       "      <td>14568.000000</td>\n",
       "    </tr>\n",
       "    <tr>\n",
       "      <th rowspan=\"2\" valign=\"top\">26</th>\n",
       "      <th>No</th>\n",
       "      <td>10715.619048</td>\n",
       "    </tr>\n",
       "    <tr>\n",
       "      <th>Yes</th>\n",
       "      <td>9018.000000</td>\n",
       "    </tr>\n",
       "    <tr>\n",
       "      <th rowspan=\"2\" valign=\"top\">27</th>\n",
       "      <th>No</th>\n",
       "      <td>10503.897436</td>\n",
       "    </tr>\n",
       "    <tr>\n",
       "      <th>Yes</th>\n",
       "      <td>11603.714286</td>\n",
       "    </tr>\n",
       "    <tr>\n",
       "      <th rowspan=\"2\" valign=\"top\">28</th>\n",
       "      <th>No</th>\n",
       "      <td>10308.000000</td>\n",
       "    </tr>\n",
       "    <tr>\n",
       "      <th>Yes</th>\n",
       "      <td>12682.705882</td>\n",
       "    </tr>\n",
       "    <tr>\n",
       "      <th rowspan=\"2\" valign=\"top\">29</th>\n",
       "      <th>No</th>\n",
       "      <td>9830.857143</td>\n",
       "    </tr>\n",
       "    <tr>\n",
       "      <th>Yes</th>\n",
       "      <td>10720.173913</td>\n",
       "    </tr>\n",
       "    <tr>\n",
       "      <th rowspan=\"2\" valign=\"top\">30</th>\n",
       "      <th>No</th>\n",
       "      <td>8782.285714</td>\n",
       "    </tr>\n",
       "    <tr>\n",
       "      <th>Yes</th>\n",
       "      <td>9197.032258</td>\n",
       "    </tr>\n",
       "    <tr>\n",
       "      <th rowspan=\"2\" valign=\"top\">31</th>\n",
       "      <th>No</th>\n",
       "      <td>8345.777778</td>\n",
       "    </tr>\n",
       "    <tr>\n",
       "      <th>Yes</th>\n",
       "      <td>11957.285714</td>\n",
       "    </tr>\n",
       "    <tr>\n",
       "      <th rowspan=\"2\" valign=\"top\">32</th>\n",
       "      <th>No</th>\n",
       "      <td>10425.142857</td>\n",
       "    </tr>\n",
       "    <tr>\n",
       "      <th>Yes</th>\n",
       "      <td>10298.769231</td>\n",
       "    </tr>\n",
       "    <tr>\n",
       "      <th rowspan=\"2\" valign=\"top\">33</th>\n",
       "      <th>No</th>\n",
       "      <td>10474.250000</td>\n",
       "    </tr>\n",
       "    <tr>\n",
       "      <th>Yes</th>\n",
       "      <td>11298.769231</td>\n",
       "    </tr>\n",
       "    <tr>\n",
       "      <th rowspan=\"2\" valign=\"top\">34</th>\n",
       "      <th>No</th>\n",
       "      <td>11950.352941</td>\n",
       "    </tr>\n",
       "    <tr>\n",
       "      <th>Yes</th>\n",
       "      <td>10137.767442</td>\n",
       "    </tr>\n",
       "    <tr>\n",
       "      <th rowspan=\"2\" valign=\"top\">35</th>\n",
       "      <th>No</th>\n",
       "      <td>9768.000000</td>\n",
       "    </tr>\n",
       "    <tr>\n",
       "      <th>Yes</th>\n",
       "      <td>7668.000000</td>\n",
       "    </tr>\n",
       "    <tr>\n",
       "      <th rowspan=\"2\" valign=\"top\">36</th>\n",
       "      <th>No</th>\n",
       "      <td>11204.363636</td>\n",
       "    </tr>\n",
       "    <tr>\n",
       "      <th>Yes</th>\n",
       "      <td>10047.591837</td>\n",
       "    </tr>\n",
       "    <tr>\n",
       "      <th rowspan=\"2\" valign=\"top\">37</th>\n",
       "      <th>No</th>\n",
       "      <td>10902.062500</td>\n",
       "    </tr>\n",
       "    <tr>\n",
       "      <th>Yes</th>\n",
       "      <td>8881.559322</td>\n",
       "    </tr>\n",
       "    <tr>\n",
       "      <th rowspan=\"2\" valign=\"top\">38</th>\n",
       "      <th>No</th>\n",
       "      <td>12937.230769</td>\n",
       "    </tr>\n",
       "    <tr>\n",
       "      <th>Yes</th>\n",
       "      <td>13416.333333</td>\n",
       "    </tr>\n",
       "    <tr>\n",
       "      <th rowspan=\"2\" valign=\"top\">39</th>\n",
       "      <th>No</th>\n",
       "      <td>10475.500000</td>\n",
       "    </tr>\n",
       "    <tr>\n",
       "      <th>Yes</th>\n",
       "      <td>9358.909091</td>\n",
       "    </tr>\n",
       "    <tr>\n",
       "      <th rowspan=\"2\" valign=\"top\">40</th>\n",
       "      <th>No</th>\n",
       "      <td>9761.617021</td>\n",
       "    </tr>\n",
       "    <tr>\n",
       "      <th>Yes</th>\n",
       "      <td>11009.666667</td>\n",
       "    </tr>\n",
       "    <tr>\n",
       "      <th rowspan=\"2\" valign=\"top\">41</th>\n",
       "      <th>No</th>\n",
       "      <td>9894.086957</td>\n",
       "    </tr>\n",
       "    <tr>\n",
       "      <th>Yes</th>\n",
       "      <td>10327.210526</td>\n",
       "    </tr>\n",
       "    <tr>\n",
       "      <th rowspan=\"2\" valign=\"top\">42</th>\n",
       "      <th>No</th>\n",
       "      <td>10950.352941</td>\n",
       "    </tr>\n",
       "    <tr>\n",
       "      <th>Yes</th>\n",
       "      <td>11680.903226</td>\n",
       "    </tr>\n",
       "    <tr>\n",
       "      <th rowspan=\"2\" valign=\"top\">43</th>\n",
       "      <th>No</th>\n",
       "      <td>10310.424242</td>\n",
       "    </tr>\n",
       "    <tr>\n",
       "      <th>Yes</th>\n",
       "      <td>12893.396825</td>\n",
       "    </tr>\n",
       "    <tr>\n",
       "      <th rowspan=\"2\" valign=\"top\">44</th>\n",
       "      <th>No</th>\n",
       "      <td>9561.333333</td>\n",
       "    </tr>\n",
       "    <tr>\n",
       "      <th>Yes</th>\n",
       "      <td>12568.000000</td>\n",
       "    </tr>\n",
       "    <tr>\n",
       "      <th rowspan=\"2\" valign=\"top\">45</th>\n",
       "      <th>No</th>\n",
       "      <td>11017.122807</td>\n",
       "    </tr>\n",
       "    <tr>\n",
       "      <th>Yes</th>\n",
       "      <td>8274.349206</td>\n",
       "    </tr>\n",
       "    <tr>\n",
       "      <th rowspan=\"2\" valign=\"top\">46</th>\n",
       "      <th>No</th>\n",
       "      <td>11546.260870</td>\n",
       "    </tr>\n",
       "    <tr>\n",
       "      <th>Yes</th>\n",
       "      <td>10328.756303</td>\n",
       "    </tr>\n",
       "    <tr>\n",
       "      <th rowspan=\"2\" valign=\"top\">47</th>\n",
       "      <th>No</th>\n",
       "      <td>10997.411765</td>\n",
       "    </tr>\n",
       "    <tr>\n",
       "      <th>Yes</th>\n",
       "      <td>11229.206897</td>\n",
       "    </tr>\n",
       "    <tr>\n",
       "      <th rowspan=\"2\" valign=\"top\">48</th>\n",
       "      <th>No</th>\n",
       "      <td>9000.500000</td>\n",
       "    </tr>\n",
       "    <tr>\n",
       "      <th>Yes</th>\n",
       "      <td>10750.539683</td>\n",
       "    </tr>\n",
       "    <tr>\n",
       "      <th rowspan=\"2\" valign=\"top\">49</th>\n",
       "      <th>No</th>\n",
       "      <td>9649.734694</td>\n",
       "    </tr>\n",
       "    <tr>\n",
       "      <th>Yes</th>\n",
       "      <td>10843.806452</td>\n",
       "    </tr>\n",
       "  </tbody>\n",
       "</table>\n",
       "</div>"
      ],
      "text/plain": [
       "                    Total_Claims_Amount\n",
       "Age PotentialFraud                     \n",
       "25  No                     10068.000000\n",
       "    Yes                    14568.000000\n",
       "26  No                     10715.619048\n",
       "    Yes                     9018.000000\n",
       "27  No                     10503.897436\n",
       "    Yes                    11603.714286\n",
       "28  No                     10308.000000\n",
       "    Yes                    12682.705882\n",
       "29  No                      9830.857143\n",
       "    Yes                    10720.173913\n",
       "30  No                      8782.285714\n",
       "    Yes                     9197.032258\n",
       "31  No                      8345.777778\n",
       "    Yes                    11957.285714\n",
       "32  No                     10425.142857\n",
       "    Yes                    10298.769231\n",
       "33  No                     10474.250000\n",
       "    Yes                    11298.769231\n",
       "34  No                     11950.352941\n",
       "    Yes                    10137.767442\n",
       "35  No                      9768.000000\n",
       "    Yes                     7668.000000\n",
       "36  No                     11204.363636\n",
       "    Yes                    10047.591837\n",
       "37  No                     10902.062500\n",
       "    Yes                     8881.559322\n",
       "38  No                     12937.230769\n",
       "    Yes                    13416.333333\n",
       "39  No                     10475.500000\n",
       "    Yes                     9358.909091\n",
       "40  No                      9761.617021\n",
       "    Yes                    11009.666667\n",
       "41  No                      9894.086957\n",
       "    Yes                    10327.210526\n",
       "42  No                     10950.352941\n",
       "    Yes                    11680.903226\n",
       "43  No                     10310.424242\n",
       "    Yes                    12893.396825\n",
       "44  No                      9561.333333\n",
       "    Yes                    12568.000000\n",
       "45  No                     11017.122807\n",
       "    Yes                     8274.349206\n",
       "46  No                     11546.260870\n",
       "    Yes                    10328.756303\n",
       "47  No                     10997.411765\n",
       "    Yes                    11229.206897\n",
       "48  No                      9000.500000\n",
       "    Yes                    10750.539683\n",
       "49  No                      9649.734694\n",
       "    Yes                    10843.806452"
      ]
     },
     "execution_count": 341,
     "metadata": {},
     "output_type": "execute_result"
    }
   ],
   "source": [
    "inpatient.groupby(['Age', 'PotentialFraud'])[['Total_Claims_Amount']].mean().head(50)"
   ]
  },
  {
   "cell_type": "code",
   "execution_count": 233,
   "id": "d909e188",
   "metadata": {},
   "outputs": [
    {
     "data": {
      "text/plain": [
       "<AxesSubplot:title={'center':'Total_Claims_Amount'}, xlabel='PotentialFraud'>"
      ]
     },
     "execution_count": 233,
     "metadata": {},
     "output_type": "execute_result"
    },
    {
     "data": {
      "image/png": "[encoded data removed]",
      "text/plain": [
       "<Figure size 432x288 with 1 Axes>"
      ]
     },
     "metadata": {
      "needs_background": "light"
     },
     "output_type": "display_data"
    }
   ],
   "source": [
    "*** choose better way to represent this ***\n",
    "line chart by age\n",
    "\n",
    "inpatient.boxplot(by='PotentialFraud', column=['Total_Claims_Amount'])"
   ]
  },
  {
   "cell_type": "code",
   "execution_count": 455,
   "id": "9b2c8671",
   "metadata": {},
   "outputs": [
    {
     "data": {
      "text/plain": [
       "5.6602510253496074"
      ]
     },
     "execution_count": 455,
     "metadata": {},
     "output_type": "execute_result"
    }
   ],
   "source": [
    "inpatient['Claim Duration'].mean()"
   ]
  },
  {
   "cell_type": "code",
   "execution_count": 454,
   "id": "f01f982a",
   "metadata": {},
   "outputs": [
    {
     "data": {
      "text/plain": [
       "<AxesSubplot:title={'center':'Claim Duration'}, xlabel='PotentialFraud'>"
      ]
     },
     "execution_count": 454,
     "metadata": {},
     "output_type": "execute_result"
    },
    {
     "data": {
      "image/png": "[encoded data removed]",
      "text/plain": [
       "<Figure size 1296x432 with 1 Axes>"
      ]
     },
     "metadata": {
      "needs_background": "light"
     },
     "output_type": "display_data"
    }
   ],
   "source": [
    "# inpatient['Claim Duration'] = inpatient['Claim Duration'].dt.days\n",
    "\n",
    "inpatient.boxplot(by='PotentialFraud', column=['Claim Duration'])"
   ]
  },
  {
   "cell_type": "code",
   "execution_count": 250,
   "id": "8b01ff1e",
   "metadata": {},
   "outputs": [
    {
     "data": {
      "text/plain": [
       "<AxesSubplot:xlabel='Age'>"
      ]
     },
     "execution_count": 250,
     "metadata": {},
     "output_type": "execute_result"
    },
    {
     "data": {
      "image/png": "[encoded data removed]",
      "text/plain": [
       "<Figure size 1296x432 with 1 Axes>"
      ]
     },
     "metadata": {
      "needs_background": "light"
     },
     "output_type": "display_data"
    }
   ],
   "source": [
    "from pylab import rcParams\n",
    "rcParams['figure.figsize'] = 18, 6\n",
    "inpatient.groupby('Age')['Claim_Procedure_Total'].agg('count').plot.bar()"
   ]
  },
  {
   "cell_type": "code",
   "execution_count": 251,
   "id": "4c71a940",
   "metadata": {},
   "outputs": [
    {
     "data": {
      "text/plain": [
       "<AxesSubplot:xlabel='Age'>"
      ]
     },
     "execution_count": 251,
     "metadata": {},
     "output_type": "execute_result"
    },
    {
     "data": {
      "image/png": "[encoded data removed]",
      "text/plain": [
       "<Figure size 1296x432 with 1 Axes>"
      ]
     },
     "metadata": {
      "needs_background": "light"
     },
     "output_type": "display_data"
    }
   ],
   "source": [
    "from pylab import rcParams\n",
    "rcParams['figure.figsize'] = 18, 6\n",
    "inpatient.groupby('Age')['Claim_Diag_Total'].agg('count').plot.bar()"
   ]
  },
  {
   "cell_type": "code",
   "execution_count": 342,
   "id": "3105529b",
   "metadata": {},
   "outputs": [
    {
     "data": {
      "text/plain": [
       "<AxesSubplot:xlabel='Age'>"
      ]
     },
     "execution_count": 342,
     "metadata": {},
     "output_type": "execute_result"
    },
    {
     "data": {
      "image/png": "[encoded data removed]",
      "text/plain": [
       "<Figure size 1296x432 with 1 Axes>"
      ]
     },
     "metadata": {
      "needs_background": "light"
     },
     "output_type": "display_data"
    }
   ],
   "source": [
    "inpatient.groupby('Age')['Days_Admitted'].agg('count').plot.bar()"
   ]
  },
  {
   "cell_type": "code",
   "execution_count": 259,
   "id": "cf11be30",
   "metadata": {},
   "outputs": [
    {
     "data": {
      "text/html": [
       "<div>\n",
       "<style scoped>\n",
       "    .dataframe tbody tr th:only-of-type {\n",
       "        vertical-align: middle;\n",
       "    }\n",
       "\n",
       "    .dataframe tbody tr th {\n",
       "        vertical-align: top;\n",
       "    }\n",
       "\n",
       "    .dataframe thead th {\n",
       "        text-align: right;\n",
       "    }\n",
       "</style>\n",
       "<table border=\"1\" class=\"dataframe\">\n",
       "  <thead>\n",
       "    <tr style=\"text-align: right;\">\n",
       "      <th></th>\n",
       "      <th>Age</th>\n",
       "      <th>count</th>\n",
       "    </tr>\n",
       "  </thead>\n",
       "  <tbody>\n",
       "    <tr>\n",
       "      <th>0</th>\n",
       "      <td>25</td>\n",
       "      <td>3</td>\n",
       "    </tr>\n",
       "    <tr>\n",
       "      <th>1</th>\n",
       "      <td>26</td>\n",
       "      <td>34</td>\n",
       "    </tr>\n",
       "    <tr>\n",
       "      <th>2</th>\n",
       "      <td>27</td>\n",
       "      <td>57</td>\n",
       "    </tr>\n",
       "    <tr>\n",
       "      <th>3</th>\n",
       "      <td>28</td>\n",
       "      <td>48</td>\n",
       "    </tr>\n",
       "    <tr>\n",
       "      <th>4</th>\n",
       "      <td>29</td>\n",
       "      <td>44</td>\n",
       "    </tr>\n",
       "    <tr>\n",
       "      <th>...</th>\n",
       "      <td>...</td>\n",
       "      <td>...</td>\n",
       "    </tr>\n",
       "    <tr>\n",
       "      <th>72</th>\n",
       "      <td>97</td>\n",
       "      <td>220</td>\n",
       "    </tr>\n",
       "    <tr>\n",
       "      <th>73</th>\n",
       "      <td>98</td>\n",
       "      <td>186</td>\n",
       "    </tr>\n",
       "    <tr>\n",
       "      <th>74</th>\n",
       "      <td>99</td>\n",
       "      <td>199</td>\n",
       "    </tr>\n",
       "    <tr>\n",
       "      <th>75</th>\n",
       "      <td>100</td>\n",
       "      <td>195</td>\n",
       "    </tr>\n",
       "    <tr>\n",
       "      <th>76</th>\n",
       "      <td>101</td>\n",
       "      <td>31</td>\n",
       "    </tr>\n",
       "  </tbody>\n",
       "</table>\n",
       "<p>77 rows × 2 columns</p>\n",
       "</div>"
      ],
      "text/plain": [
       "    Age  count\n",
       "0    25      3\n",
       "1    26     34\n",
       "2    27     57\n",
       "3    28     48\n",
       "4    29     44\n",
       "..  ...    ...\n",
       "72   97    220\n",
       "73   98    186\n",
       "74   99    199\n",
       "75  100    195\n",
       "76  101     31\n",
       "\n",
       "[77 rows x 2 columns]"
      ]
     },
     "execution_count": 259,
     "metadata": {},
     "output_type": "execute_result"
    }
   ],
   "source": [
    "inpatient.groupby('Age')['BeneID'].nunique().reset_index(name = 'count')"
   ]
  },
  {
   "cell_type": "code",
   "execution_count": 261,
   "id": "5c2a5062",
   "metadata": {},
   "outputs": [
    {
     "data": {
      "text/html": [
       "<div>\n",
       "<style scoped>\n",
       "    .dataframe tbody tr th:only-of-type {\n",
       "        vertical-align: middle;\n",
       "    }\n",
       "\n",
       "    .dataframe tbody tr th {\n",
       "        vertical-align: top;\n",
       "    }\n",
       "\n",
       "    .dataframe thead th {\n",
       "        text-align: right;\n",
       "    }\n",
       "</style>\n",
       "<table border=\"1\" class=\"dataframe\">\n",
       "  <thead>\n",
       "    <tr style=\"text-align: right;\">\n",
       "      <th></th>\n",
       "      <th>PotentialFraud</th>\n",
       "      <th>Unique Count</th>\n",
       "    </tr>\n",
       "  </thead>\n",
       "  <tbody>\n",
       "    <tr>\n",
       "      <th>0</th>\n",
       "      <td>No</td>\n",
       "      <td>14602</td>\n",
       "    </tr>\n",
       "    <tr>\n",
       "      <th>1</th>\n",
       "      <td>Yes</td>\n",
       "      <td>19284</td>\n",
       "    </tr>\n",
       "  </tbody>\n",
       "</table>\n",
       "</div>"
      ],
      "text/plain": [
       "  PotentialFraud  Unique Count\n",
       "0             No         14602\n",
       "1            Yes         19284"
      ]
     },
     "execution_count": 261,
     "metadata": {},
     "output_type": "execute_result"
    }
   ],
   "source": [
    "#total unique patients for potential fraud v not fraud provider\n",
    "inpatient.groupby('PotentialFraud')['BeneID'].nunique().reset_index(name = 'Unique Count')"
   ]
  },
  {
   "cell_type": "markdown",
   "id": "39deaeeb",
   "metadata": {},
   "source": [
    "#### is there a difference in overall distribution of num of days admitted (Fraud v No Fraud)"
   ]
  },
  {
   "cell_type": "code",
   "execution_count": null,
   "id": "a9949445",
   "metadata": {},
   "outputs": [],
   "source": [
    "days_admitted = inpatient[['Days_Admitted', 'PotentialFraud']]"
   ]
  },
  {
   "cell_type": "code",
   "execution_count": 284,
   "id": "f6b9fb40",
   "metadata": {},
   "outputs": [],
   "source": [
    "days_admitted = days_admitted.pivot_table(values='Days_Admitted', index=days_admitted.index, columns='PotentialFraud', aggfunc='first')"
   ]
  },
  {
   "cell_type": "code",
   "execution_count": 309,
   "id": "5d890300",
   "metadata": {},
   "outputs": [
    {
     "data": {
      "text/plain": [
       "<AxesSubplot:ylabel='Density'>"
      ]
     },
     "execution_count": 309,
     "metadata": {},
     "output_type": "execute_result"
    },
    {
     "data": {
      "image/png": "[encoded data removed]",
      "text/plain": [
       "<Figure size 1296x432 with 1 Axes>"
      ]
     },
     "metadata": {
      "needs_background": "light"
     },
     "output_type": "display_data"
    }
   ],
   "source": [
    "days_admitted.plot.density()\n",
    "#Distribution of days admitted"
   ]
  },
  {
   "cell_type": "markdown",
   "id": "19716546",
   "metadata": {},
   "source": [
    "#### Age and avg days admitted (Fraud v No Fraud)"
   ]
  },
  {
   "cell_type": "code",
   "execution_count": 330,
   "id": "70c7e970",
   "metadata": {},
   "outputs": [],
   "source": [
    "days_admitted_age = inpatient.groupby(['Age', 'PotentialFraud'])['Days_Admitted'].mean().reset_index(name = 'Mean')"
   ]
  },
  {
   "cell_type": "code",
   "execution_count": 331,
   "id": "5bbbf247",
   "metadata": {},
   "outputs": [
    {
     "data": {
      "text/html": [
       "<div>\n",
       "<style scoped>\n",
       "    .dataframe tbody tr th:only-of-type {\n",
       "        vertical-align: middle;\n",
       "    }\n",
       "\n",
       "    .dataframe tbody tr th {\n",
       "        vertical-align: top;\n",
       "    }\n",
       "\n",
       "    .dataframe thead th {\n",
       "        text-align: right;\n",
       "    }\n",
       "</style>\n",
       "<table border=\"1\" class=\"dataframe\">\n",
       "  <thead>\n",
       "    <tr style=\"text-align: right;\">\n",
       "      <th></th>\n",
       "      <th>Age</th>\n",
       "      <th>PotentialFraud</th>\n",
       "      <th>Mean</th>\n",
       "    </tr>\n",
       "  </thead>\n",
       "  <tbody>\n",
       "    <tr>\n",
       "      <th>0</th>\n",
       "      <td>25</td>\n",
       "      <td>No</td>\n",
       "      <td>12.000000</td>\n",
       "    </tr>\n",
       "    <tr>\n",
       "      <th>1</th>\n",
       "      <td>25</td>\n",
       "      <td>Yes</td>\n",
       "      <td>5.000000</td>\n",
       "    </tr>\n",
       "    <tr>\n",
       "      <th>2</th>\n",
       "      <td>26</td>\n",
       "      <td>No</td>\n",
       "      <td>6.571429</td>\n",
       "    </tr>\n",
       "    <tr>\n",
       "      <th>3</th>\n",
       "      <td>26</td>\n",
       "      <td>Yes</td>\n",
       "      <td>5.750000</td>\n",
       "    </tr>\n",
       "    <tr>\n",
       "      <th>4</th>\n",
       "      <td>27</td>\n",
       "      <td>No</td>\n",
       "      <td>4.950000</td>\n",
       "    </tr>\n",
       "    <tr>\n",
       "      <th>...</th>\n",
       "      <td>...</td>\n",
       "      <td>...</td>\n",
       "      <td>...</td>\n",
       "    </tr>\n",
       "    <tr>\n",
       "      <th>149</th>\n",
       "      <td>99</td>\n",
       "      <td>Yes</td>\n",
       "      <td>5.022727</td>\n",
       "    </tr>\n",
       "    <tr>\n",
       "      <th>150</th>\n",
       "      <td>100</td>\n",
       "      <td>No</td>\n",
       "      <td>6.389381</td>\n",
       "    </tr>\n",
       "    <tr>\n",
       "      <th>151</th>\n",
       "      <td>100</td>\n",
       "      <td>Yes</td>\n",
       "      <td>6.111111</td>\n",
       "    </tr>\n",
       "    <tr>\n",
       "      <th>152</th>\n",
       "      <td>101</td>\n",
       "      <td>No</td>\n",
       "      <td>5.200000</td>\n",
       "    </tr>\n",
       "    <tr>\n",
       "      <th>153</th>\n",
       "      <td>101</td>\n",
       "      <td>Yes</td>\n",
       "      <td>6.166667</td>\n",
       "    </tr>\n",
       "  </tbody>\n",
       "</table>\n",
       "<p>154 rows × 3 columns</p>\n",
       "</div>"
      ],
      "text/plain": [
       "     Age PotentialFraud       Mean\n",
       "0     25             No  12.000000\n",
       "1     25            Yes   5.000000\n",
       "2     26             No   6.571429\n",
       "3     26            Yes   5.750000\n",
       "4     27             No   4.950000\n",
       "..   ...            ...        ...\n",
       "149   99            Yes   5.022727\n",
       "150  100             No   6.389381\n",
       "151  100            Yes   6.111111\n",
       "152  101             No   5.200000\n",
       "153  101            Yes   6.166667\n",
       "\n",
       "[154 rows x 3 columns]"
      ]
     },
     "execution_count": 331,
     "metadata": {},
     "output_type": "execute_result"
    }
   ],
   "source": [
    "days_admitted_age"
   ]
  },
  {
   "cell_type": "code",
   "execution_count": 335,
   "id": "5da7232b",
   "metadata": {},
   "outputs": [
    {
     "data": {
      "text/html": [
       "<div>\n",
       "<style scoped>\n",
       "    .dataframe tbody tr th:only-of-type {\n",
       "        vertical-align: middle;\n",
       "    }\n",
       "\n",
       "    .dataframe tbody tr th {\n",
       "        vertical-align: top;\n",
       "    }\n",
       "\n",
       "    .dataframe thead th {\n",
       "        text-align: right;\n",
       "    }\n",
       "</style>\n",
       "<table border=\"1\" class=\"dataframe\">\n",
       "  <thead>\n",
       "    <tr style=\"text-align: right;\">\n",
       "      <th></th>\n",
       "      <th>Age</th>\n",
       "      <th>PotentialFraud</th>\n",
       "      <th>Mean</th>\n",
       "    </tr>\n",
       "  </thead>\n",
       "  <tbody>\n",
       "    <tr>\n",
       "      <th>0</th>\n",
       "      <td>25</td>\n",
       "      <td>No</td>\n",
       "      <td>12.000000</td>\n",
       "    </tr>\n",
       "    <tr>\n",
       "      <th>2</th>\n",
       "      <td>26</td>\n",
       "      <td>No</td>\n",
       "      <td>6.571429</td>\n",
       "    </tr>\n",
       "    <tr>\n",
       "      <th>4</th>\n",
       "      <td>27</td>\n",
       "      <td>No</td>\n",
       "      <td>4.950000</td>\n",
       "    </tr>\n",
       "    <tr>\n",
       "      <th>6</th>\n",
       "      <td>28</td>\n",
       "      <td>No</td>\n",
       "      <td>4.961538</td>\n",
       "    </tr>\n",
       "    <tr>\n",
       "      <th>8</th>\n",
       "      <td>29</td>\n",
       "      <td>No</td>\n",
       "      <td>5.171429</td>\n",
       "    </tr>\n",
       "    <tr>\n",
       "      <th>...</th>\n",
       "      <td>...</td>\n",
       "      <td>...</td>\n",
       "      <td>...</td>\n",
       "    </tr>\n",
       "    <tr>\n",
       "      <th>144</th>\n",
       "      <td>97</td>\n",
       "      <td>No</td>\n",
       "      <td>6.026786</td>\n",
       "    </tr>\n",
       "    <tr>\n",
       "      <th>146</th>\n",
       "      <td>98</td>\n",
       "      <td>No</td>\n",
       "      <td>4.781818</td>\n",
       "    </tr>\n",
       "    <tr>\n",
       "      <th>148</th>\n",
       "      <td>99</td>\n",
       "      <td>No</td>\n",
       "      <td>6.747664</td>\n",
       "    </tr>\n",
       "    <tr>\n",
       "      <th>150</th>\n",
       "      <td>100</td>\n",
       "      <td>No</td>\n",
       "      <td>6.389381</td>\n",
       "    </tr>\n",
       "    <tr>\n",
       "      <th>152</th>\n",
       "      <td>101</td>\n",
       "      <td>No</td>\n",
       "      <td>5.200000</td>\n",
       "    </tr>\n",
       "  </tbody>\n",
       "</table>\n",
       "<p>77 rows × 3 columns</p>\n",
       "</div>"
      ],
      "text/plain": [
       "     Age PotentialFraud       Mean\n",
       "0     25             No  12.000000\n",
       "2     26             No   6.571429\n",
       "4     27             No   4.950000\n",
       "6     28             No   4.961538\n",
       "8     29             No   5.171429\n",
       "..   ...            ...        ...\n",
       "144   97             No   6.026786\n",
       "146   98             No   4.781818\n",
       "148   99             No   6.747664\n",
       "150  100             No   6.389381\n",
       "152  101             No   5.200000\n",
       "\n",
       "[77 rows x 3 columns]"
      ]
     },
     "execution_count": 335,
     "metadata": {},
     "output_type": "execute_result"
    }
   ],
   "source": [
    "# days_admitted_age.pivot_table(values='Mean', index=days_admitted_age.index, columns=['PotentialFraud'], aggfunc='first')"
   ]
  },
  {
   "cell_type": "code",
   "execution_count": 336,
   "id": "0a8075ab",
   "metadata": {},
   "outputs": [],
   "source": [
    "days_admitted_age.to_csv('days_admitted_age.csv')"
   ]
  },
  {
   "cell_type": "code",
   "execution_count": 337,
   "id": "73b7b3a9",
   "metadata": {},
   "outputs": [],
   "source": [
    "inpatient.to_csv('inpatient_pd.csv')"
   ]
  },
  {
   "cell_type": "code",
   "execution_count": 328,
   "id": "1e1be5dc",
   "metadata": {},
   "outputs": [
    {
     "data": {
      "text/html": [
       "<div>\n",
       "<style scoped>\n",
       "    .dataframe tbody tr th:only-of-type {\n",
       "        vertical-align: middle;\n",
       "    }\n",
       "\n",
       "    .dataframe tbody tr th {\n",
       "        vertical-align: top;\n",
       "    }\n",
       "\n",
       "    .dataframe thead th {\n",
       "        text-align: right;\n",
       "    }\n",
       "</style>\n",
       "<table border=\"1\" class=\"dataframe\">\n",
       "  <thead>\n",
       "    <tr style=\"text-align: right;\">\n",
       "      <th></th>\n",
       "      <th>Age</th>\n",
       "      <th>PotentialFraud</th>\n",
       "      <th>Count</th>\n",
       "    </tr>\n",
       "  </thead>\n",
       "  <tbody>\n",
       "    <tr>\n",
       "      <th>82</th>\n",
       "      <td>66</td>\n",
       "      <td>No</td>\n",
       "      <td>5.074523</td>\n",
       "    </tr>\n",
       "    <tr>\n",
       "      <th>83</th>\n",
       "      <td>66</td>\n",
       "      <td>Yes</td>\n",
       "      <td>5.916335</td>\n",
       "    </tr>\n",
       "    <tr>\n",
       "      <th>84</th>\n",
       "      <td>67</td>\n",
       "      <td>No</td>\n",
       "      <td>5.489985</td>\n",
       "    </tr>\n",
       "    <tr>\n",
       "      <th>85</th>\n",
       "      <td>67</td>\n",
       "      <td>Yes</td>\n",
       "      <td>5.541379</td>\n",
       "    </tr>\n",
       "    <tr>\n",
       "      <th>86</th>\n",
       "      <td>68</td>\n",
       "      <td>No</td>\n",
       "      <td>5.681090</td>\n",
       "    </tr>\n",
       "    <tr>\n",
       "      <th>...</th>\n",
       "      <td>...</td>\n",
       "      <td>...</td>\n",
       "      <td>...</td>\n",
       "    </tr>\n",
       "    <tr>\n",
       "      <th>149</th>\n",
       "      <td>99</td>\n",
       "      <td>Yes</td>\n",
       "      <td>5.022727</td>\n",
       "    </tr>\n",
       "    <tr>\n",
       "      <th>150</th>\n",
       "      <td>100</td>\n",
       "      <td>No</td>\n",
       "      <td>6.389381</td>\n",
       "    </tr>\n",
       "    <tr>\n",
       "      <th>151</th>\n",
       "      <td>100</td>\n",
       "      <td>Yes</td>\n",
       "      <td>6.111111</td>\n",
       "    </tr>\n",
       "    <tr>\n",
       "      <th>152</th>\n",
       "      <td>101</td>\n",
       "      <td>No</td>\n",
       "      <td>5.200000</td>\n",
       "    </tr>\n",
       "    <tr>\n",
       "      <th>153</th>\n",
       "      <td>101</td>\n",
       "      <td>Yes</td>\n",
       "      <td>6.166667</td>\n",
       "    </tr>\n",
       "  </tbody>\n",
       "</table>\n",
       "<p>72 rows × 3 columns</p>\n",
       "</div>"
      ],
      "text/plain": [
       "     Age PotentialFraud     Count\n",
       "82    66             No  5.074523\n",
       "83    66            Yes  5.916335\n",
       "84    67             No  5.489985\n",
       "85    67            Yes  5.541379\n",
       "86    68             No  5.681090\n",
       "..   ...            ...       ...\n",
       "149   99            Yes  5.022727\n",
       "150  100             No  6.389381\n",
       "151  100            Yes  6.111111\n",
       "152  101             No  5.200000\n",
       "153  101            Yes  6.166667\n",
       "\n",
       "[72 rows x 3 columns]"
      ]
     },
     "execution_count": 328,
     "metadata": {},
     "output_type": "execute_result"
    }
   ],
   "source": [
    "days_admitted_age[days_admitted_age['Age'] > 65]"
   ]
  },
  {
   "cell_type": "code",
   "execution_count": null,
   "id": "271098cd",
   "metadata": {},
   "outputs": [],
   "source": []
  },
  {
   "cell_type": "code",
   "execution_count": null,
   "id": "755d710b",
   "metadata": {},
   "outputs": [],
   "source": []
  },
  {
   "cell_type": "code",
   "execution_count": null,
   "id": "bacaada7",
   "metadata": {},
   "outputs": [],
   "source": []
  },
  {
   "cell_type": "markdown",
   "id": "a412310a",
   "metadata": {},
   "source": [
    "### Outpatient"
   ]
  },
  {
   "cell_type": "code",
   "execution_count": 198,
   "id": "50b148e0",
   "metadata": {},
   "outputs": [
    {
     "data": {
      "text/plain": [
       "Index(['BeneID', 'ClaimID', 'ClaimStartDt', 'ClaimEndDt', 'Provider',\n",
       "       'AttendingPhysician', 'OperatingPhysician', 'OtherPhysician',\n",
       "       'ClmAdmitDiagnosisCode', 'total_chronic', 'DOB', 'Age',\n",
       "       'PotentialFraud', 'Claim Duration', 'ClmDiagnosisCode',\n",
       "       'Claim_Diag_Total', 'ClmProcedureCode', 'Claim_Procedure_Total',\n",
       "       'Total_Claims_Amount', 'Claim Type'],\n",
       "      dtype='object')"
      ]
     },
     "execution_count": 198,
     "metadata": {},
     "output_type": "execute_result"
    }
   ],
   "source": [
    "outpatient.columns"
   ]
  },
  {
   "cell_type": "code",
   "execution_count": 197,
   "id": "1c108c6a",
   "metadata": {},
   "outputs": [
    {
     "data": {
      "text/plain": [
       "Index(['BeneID', 'ClaimID', 'ClaimStartDt', 'ClaimEndDt', 'Provider',\n",
       "       'AttendingPhysician', 'OperatingPhysician', 'OtherPhysician',\n",
       "       'AdmissionDt', 'ClmAdmitDiagnosisCode', 'DischargeDt',\n",
       "       'DiagnosisGroupCode', 'Total_Chronic', 'DOB', 'Age', 'PotentialFraud',\n",
       "       'Days_Admitted', 'Claim_Diag_Total', 'Total_Claims_Amount',\n",
       "       'Claim Type', 'Claim Duration', 'ClmProcedureCode',\n",
       "       'Claim_Procedure_Total'],\n",
       "      dtype='object')"
      ]
     },
     "execution_count": 197,
     "metadata": {},
     "output_type": "execute_result"
    }
   ],
   "source": [
    "inpatient.columns\n",
    "#AdmissionDt, DischargeDt, DiagnosisGroupCode, Days_Admitted"
   ]
  },
  {
   "cell_type": "code",
   "execution_count": 170,
   "id": "ec532a04",
   "metadata": {},
   "outputs": [],
   "source": [
    "outpatient['ClaimStartDt']= pd.to_datetime(outpatient['ClaimStartDt'])\n",
    "outpatient['ClaimEndDt']= pd.to_datetime(outpatient['ClaimEndDt'])"
   ]
  },
  {
   "cell_type": "code",
   "execution_count": 171,
   "id": "b800c01c",
   "metadata": {},
   "outputs": [],
   "source": [
    "outpatient['Claim Duration'] = outpatient['ClaimEndDt'] - outpatient['ClaimStartDt']"
   ]
  },
  {
   "cell_type": "code",
   "execution_count": 172,
   "id": "f2ba5f69",
   "metadata": {},
   "outputs": [],
   "source": [
    "outpatient['ClmDiagnosisCode'] = outpatient['ClmDiagnosisCode_1']"
   ]
  },
  {
   "cell_type": "code",
   "execution_count": 173,
   "id": "c37246fa",
   "metadata": {},
   "outputs": [],
   "source": [
    "outpatient['ClmDiagnosisCode_1'] = np.where(outpatient.ClmDiagnosisCode_1.isnull(), 0, 1)\n",
    "outpatient['ClmDiagnosisCode_2'] = np.where(outpatient.ClmDiagnosisCode_2.isnull(), 0, 1)\n",
    "outpatient['ClmDiagnosisCode_3'] = np.where(outpatient.ClmDiagnosisCode_3.isnull(), 0, 1)\n",
    "outpatient['ClmDiagnosisCode_4'] = np.where(outpatient.ClmDiagnosisCode_4.isnull(), 0, 1)\n",
    "outpatient['ClmDiagnosisCode_5'] = np.where(outpatient.ClmDiagnosisCode_5.isnull(), 0, 1)\n",
    "outpatient['ClmDiagnosisCode_6'] = np.where(outpatient.ClmDiagnosisCode_6.isnull(), 0, 1)\n",
    "outpatient['ClmDiagnosisCode_7'] = np.where(outpatient.ClmDiagnosisCode_7.isnull(), 0, 1)\n",
    "outpatient['ClmDiagnosisCode_8'] = np.where(outpatient.ClmDiagnosisCode_8.isnull(), 0, 1)\n",
    "outpatient['ClmDiagnosisCode_9'] = np.where(outpatient.ClmDiagnosisCode_9.isnull(), 0, 1)\n",
    "outpatient['ClmDiagnosisCode_10'] = np.where(outpatient.ClmDiagnosisCode_10.isnull(), 0, 1)"
   ]
  },
  {
   "cell_type": "code",
   "execution_count": 174,
   "id": "38a622b6",
   "metadata": {},
   "outputs": [],
   "source": [
    "outpatient['Claim_Diag_Total'] = outpatient['ClmDiagnosisCode_1'] + outpatient['ClmDiagnosisCode_2'] + \\\n",
    "outpatient['ClmDiagnosisCode_3']+ outpatient['ClmDiagnosisCode_4'] + outpatient['ClmDiagnosisCode_5'] + \\\n",
    "outpatient['ClmDiagnosisCode_6']+ outpatient['ClmDiagnosisCode_7'] + outpatient['ClmDiagnosisCode_8'] + \\\n",
    "outpatient['ClmDiagnosisCode_9']+ outpatient['ClmDiagnosisCode_10']"
   ]
  },
  {
   "cell_type": "code",
   "execution_count": 175,
   "id": "a2c451f7",
   "metadata": {},
   "outputs": [],
   "source": [
    "outpatient = outpatient.drop(['ClmDiagnosisCode_1', 'ClmDiagnosisCode_2', 'ClmDiagnosisCode_3', 'ClmDiagnosisCode_4', 'ClmDiagnosisCode_5',\n",
    "                           'ClmDiagnosisCode_6', 'ClmDiagnosisCode_7', 'ClmDiagnosisCode_8', 'ClmDiagnosisCode_9', 'ClmDiagnosisCode_10'], axis=1)"
   ]
  },
  {
   "cell_type": "code",
   "execution_count": 176,
   "id": "fd0a9fee",
   "metadata": {},
   "outputs": [],
   "source": [
    "outpatient['ClmProcedureCode'] = outpatient['ClmProcedureCode_1']"
   ]
  },
  {
   "cell_type": "code",
   "execution_count": 177,
   "id": "69e097f3",
   "metadata": {},
   "outputs": [],
   "source": [
    "outpatient['ClmProcedureCode_1'] = np.where(outpatient.ClmProcedureCode_1.isnull(), 0, 1)\n",
    "outpatient['ClmProcedureCode_2'] = np.where(outpatient.ClmProcedureCode_2.isnull(), 0, 1)\n",
    "outpatient['ClmProcedureCode_3'] = np.where(outpatient.ClmProcedureCode_3.isnull(), 0, 1)\n",
    "outpatient['ClmProcedureCode_4'] = np.where(outpatient.ClmProcedureCode_4.isnull(), 0, 1)"
   ]
  },
  {
   "cell_type": "code",
   "execution_count": 178,
   "id": "6faf6010",
   "metadata": {},
   "outputs": [],
   "source": [
    "outpatient['Claim_Procedure_Total'] = outpatient['ClmProcedureCode_1'] + outpatient['ClmProcedureCode_2'] + \\\n",
    "outpatient['ClmProcedureCode_3'] + outpatient['ClmProcedureCode_4']"
   ]
  },
  {
   "cell_type": "code",
   "execution_count": 179,
   "id": "67869b07",
   "metadata": {},
   "outputs": [],
   "source": [
    "outpatient = outpatient.drop(['ClmProcedureCode_1', 'ClmProcedureCode_2', 'ClmProcedureCode_3', 'ClmProcedureCode_4'], axis=1)"
   ]
  },
  {
   "cell_type": "code",
   "execution_count": 187,
   "id": "e9aa0195",
   "metadata": {},
   "outputs": [],
   "source": [
    "outpatient = outpatient.drop(['ClmProcedureCode_5', 'ClmProcedureCode_6'], axis=1)"
   ]
  },
  {
   "cell_type": "code",
   "execution_count": 181,
   "id": "f384577b",
   "metadata": {},
   "outputs": [],
   "source": [
    "outpatient['Total_Claims_Amount'] = round((outpatient['DeductibleAmtPaid'] + outpatient['InscClaimAmtReimbursed']))"
   ]
  },
  {
   "cell_type": "code",
   "execution_count": 182,
   "id": "097fdb56",
   "metadata": {},
   "outputs": [],
   "source": [
    "outpatient = outpatient.drop(['DeductibleAmtPaid', 'InscClaimAmtReimbursed'], axis=1)"
   ]
  },
  {
   "cell_type": "code",
   "execution_count": 189,
   "id": "876100d3",
   "metadata": {},
   "outputs": [],
   "source": [
    "outpatient['Claim Type'] = 'Outpatient'"
   ]
  },
  {
   "cell_type": "code",
   "execution_count": 205,
   "id": "39e62bc1",
   "metadata": {},
   "outputs": [],
   "source": [
    "outpatient.rename(columns = {'total_chronic':'Total_Chronic'}, inplace = True)"
   ]
  },
  {
   "cell_type": "code",
   "execution_count": null,
   "id": "e6b09d76",
   "metadata": {},
   "outputs": [],
   "source": []
  },
  {
   "cell_type": "code",
   "execution_count": null,
   "id": "e20a3625",
   "metadata": {},
   "outputs": [],
   "source": []
  },
  {
   "cell_type": "code",
   "execution_count": null,
   "id": "c6f3037a",
   "metadata": {},
   "outputs": [],
   "source": []
  },
  {
   "cell_type": "code",
   "execution_count": null,
   "id": "0792c006",
   "metadata": {},
   "outputs": [],
   "source": []
  },
  {
   "cell_type": "code",
   "execution_count": null,
   "id": "5f15a123",
   "metadata": {},
   "outputs": [],
   "source": []
  },
  {
   "cell_type": "markdown",
   "id": "5ca422e6",
   "metadata": {},
   "source": [
    "### Master Patient Table"
   ]
  },
  {
   "cell_type": "code",
   "execution_count": 208,
   "id": "977a7863",
   "metadata": {},
   "outputs": [],
   "source": [
    "outpatient.columns\n",
    "op = outpatient[['BeneID', 'ClaimID', 'Claim Type', 'Provider', 'PotentialFraud', 'ClmAdmitDiagnosisCode', \n",
    "            'Claim_Diag_Total', 'ClaimStartDt', 'Claim Duration', 'ClmProcedureCode', \n",
    "            'Claim_Procedure_Total', 'Total_Chronic', 'DOB', 'Age', 'Total_Claims_Amount']]"
   ]
  },
  {
   "cell_type": "code",
   "execution_count": 213,
   "id": "b43b04d9",
   "metadata": {},
   "outputs": [],
   "source": [
    "inpatient.columns\n",
    "ip = inpatient[['BeneID', 'ClaimID', 'Claim Type', 'Provider', 'PotentialFraud', 'ClmAdmitDiagnosisCode', \n",
    "            'Claim_Diag_Total', 'ClaimStartDt', 'Claim Duration', 'ClmProcedureCode', \n",
    "            'Claim_Procedure_Total', 'Total_Chronic', 'DOB', 'Age', 'Total_Claims_Amount']]"
   ]
  },
  {
   "cell_type": "code",
   "execution_count": 351,
   "id": "e0e7d3c7",
   "metadata": {},
   "outputs": [],
   "source": [
    "patient = pd.concat([ip, op])"
   ]
  },
  {
   "cell_type": "markdown",
   "id": "69109736",
   "metadata": {},
   "source": [
    "#### On Avg, Providers that are flagged as Fraudulent, make more claim diag, more procedure diag, and higher claims amount"
   ]
  },
  {
   "cell_type": "code",
   "execution_count": 352,
   "id": "8c7706f5",
   "metadata": {},
   "outputs": [
    {
     "data": {
      "text/html": [
       "<div>\n",
       "<style scoped>\n",
       "    .dataframe tbody tr th:only-of-type {\n",
       "        vertical-align: middle;\n",
       "    }\n",
       "\n",
       "    .dataframe tbody tr th {\n",
       "        vertical-align: top;\n",
       "    }\n",
       "\n",
       "    .dataframe thead th {\n",
       "        text-align: right;\n",
       "    }\n",
       "</style>\n",
       "<table border=\"1\" class=\"dataframe\">\n",
       "  <thead>\n",
       "    <tr style=\"text-align: right;\">\n",
       "      <th></th>\n",
       "      <th>Claim_Diag_Total</th>\n",
       "      <th>ClmProcedureCode</th>\n",
       "      <th>Claim_Procedure_Total</th>\n",
       "      <th>Total_Chronic</th>\n",
       "      <th>Age</th>\n",
       "      <th>Total_Claims_Amount</th>\n",
       "    </tr>\n",
       "    <tr>\n",
       "      <th>PotentialFraud</th>\n",
       "      <th></th>\n",
       "      <th></th>\n",
       "      <th></th>\n",
       "      <th></th>\n",
       "      <th></th>\n",
       "      <th></th>\n",
       "    </tr>\n",
       "  </thead>\n",
       "  <tbody>\n",
       "    <tr>\n",
       "      <th>No</th>\n",
       "      <td>2.884988</td>\n",
       "      <td>5866.282240</td>\n",
       "      <td>0.036133</td>\n",
       "      <td>4.471734</td>\n",
       "      <td>73.215671</td>\n",
       "      <td>796.612876</td>\n",
       "    </tr>\n",
       "    <tr>\n",
       "      <th>Yes</th>\n",
       "      <td>3.215277</td>\n",
       "      <td>5917.770334</td>\n",
       "      <td>0.081839</td>\n",
       "      <td>4.542252</td>\n",
       "      <td>73.433288</td>\n",
       "      <td>1482.455867</td>\n",
       "    </tr>\n",
       "  </tbody>\n",
       "</table>\n",
       "</div>"
      ],
      "text/plain": [
       "                Claim_Diag_Total  ClmProcedureCode  Claim_Procedure_Total  \\\n",
       "PotentialFraud                                                              \n",
       "No                      2.884988       5866.282240               0.036133   \n",
       "Yes                     3.215277       5917.770334               0.081839   \n",
       "\n",
       "                Total_Chronic        Age  Total_Claims_Amount  \n",
       "PotentialFraud                                                 \n",
       "No                   4.471734  73.215671           796.612876  \n",
       "Yes                  4.542252  73.433288          1482.455867  "
      ]
     },
     "execution_count": 352,
     "metadata": {},
     "output_type": "execute_result"
    }
   ],
   "source": [
    "patient.groupby(['PotentialFraud']).mean()"
   ]
  },
  {
   "cell_type": "code",
   "execution_count": 469,
   "id": "49ed1b3a",
   "metadata": {},
   "outputs": [
    {
     "data": {
      "text/plain": [
       "<AxesSubplot:xlabel='Provider Flag', ylabel='Avg # of Diagnosis Claims'>"
      ]
     },
     "execution_count": 469,
     "metadata": {},
     "output_type": "execute_result"
    },
    {
     "data": {
      "image/png": "[encoded data removed]",
      "text/plain": [
       "<Figure size 360x360 with 1 Axes>"
      ]
     },
     "metadata": {
      "needs_background": "light"
     },
     "output_type": "display_data"
    }
   ],
   "source": [
    "#Avg Number of Diagnosis Claims\n",
    "patient.groupby(['PotentialFraud'])['Claim_Diag_Total'].mean().plot.bar(figsize=(5,5), color=['#1f77b4', 'orange'], xlabel='Provider Flag', ylabel='Avg # of Diagnosis Claims')"
   ]
  },
  {
   "cell_type": "code",
   "execution_count": null,
   "id": "90a1d924",
   "metadata": {},
   "outputs": [],
   "source": []
  },
  {
   "cell_type": "code",
   "execution_count": 470,
   "id": "9f06e753",
   "metadata": {},
   "outputs": [
    {
     "data": {
      "text/plain": [
       "<AxesSubplot:xlabel='Provider Flag', ylabel='Avg # of Procedure Claims'>"
      ]
     },
     "execution_count": 470,
     "metadata": {},
     "output_type": "execute_result"
    },
    {
     "data": {
      "image/png": "[encoded data removed]",
      "text/plain": [
       "<Figure size 360x360 with 1 Axes>"
      ]
     },
     "metadata": {
      "needs_background": "light"
     },
     "output_type": "display_data"
    }
   ],
   "source": [
    "#Avg Number of Procedure Claims\n",
    "patient.groupby(['PotentialFraud'])['Claim_Procedure_Total'].mean().plot.bar(figsize=(5,5), color=['#1f77b4', 'orange'], xlabel='Provider Flag', ylabel='Avg # of Procedure Claims')"
   ]
  },
  {
   "cell_type": "code",
   "execution_count": 471,
   "id": "04e8a2e3",
   "metadata": {},
   "outputs": [
    {
     "data": {
      "text/plain": [
       "<AxesSubplot:xlabel='Provider Flag', ylabel='Avg Total Cost of Claims'>"
      ]
     },
     "execution_count": 471,
     "metadata": {},
     "output_type": "execute_result"
    },
    {
     "data": {
      "image/png": "[encoded data removed]",
      "text/plain": [
       "<Figure size 360x360 with 1 Axes>"
      ]
     },
     "metadata": {
      "needs_background": "light"
     },
     "output_type": "display_data"
    }
   ],
   "source": [
    "#Avg Claims Amount\n",
    "patient.groupby(['PotentialFraud'])['Total_Claims_Amount'].mean().plot.bar(figsize=(5,5), color=['#1f77b4', 'orange'], xlabel='Provider Flag', ylabel='Avg Total Cost of Claims')"
   ]
  },
  {
   "cell_type": "code",
   "execution_count": 371,
   "id": "f5c04018",
   "metadata": {},
   "outputs": [
    {
     "data": {
      "text/plain": [
       "Index(['BeneID', 'ClaimID', 'Claim Type', 'Provider', 'PotentialFraud',\n",
       "       'ClmAdmitDiagnosisCode', 'Claim_Diag_Total', 'ClaimStartDt',\n",
       "       'Claim Duration', 'ClmProcedureCode', 'Claim_Procedure_Total',\n",
       "       'Total_Chronic', 'DOB', 'Age', 'Total_Claims_Amount'],\n",
       "      dtype='object')"
      ]
     },
     "execution_count": 371,
     "metadata": {},
     "output_type": "execute_result"
    }
   ],
   "source": [
    "patient.columns"
   ]
  },
  {
   "cell_type": "markdown",
   "id": "771475ee",
   "metadata": {},
   "source": [
    "#### Avg claims per provider per patient"
   ]
  },
  {
   "cell_type": "code",
   "execution_count": 413,
   "id": "eb589d69",
   "metadata": {},
   "outputs": [],
   "source": [
    "provider_claims = patient.groupby(['Provider'])['BeneID'].agg(['count', 'nunique']).reset_index()"
   ]
  },
  {
   "cell_type": "code",
   "execution_count": 414,
   "id": "ca3eb40e",
   "metadata": {},
   "outputs": [],
   "source": [
    "provider_claims['Avg Claims'] = provider_claims['count'] / provider_claims['nunique']"
   ]
  },
  {
   "cell_type": "code",
   "execution_count": 421,
   "id": "ed6a9472",
   "metadata": {},
   "outputs": [
    {
     "data": {
      "text/html": [
       "<div>\n",
       "<style scoped>\n",
       "    .dataframe tbody tr th:only-of-type {\n",
       "        vertical-align: middle;\n",
       "    }\n",
       "\n",
       "    .dataframe tbody tr th {\n",
       "        vertical-align: top;\n",
       "    }\n",
       "\n",
       "    .dataframe thead th {\n",
       "        text-align: right;\n",
       "    }\n",
       "</style>\n",
       "<table border=\"1\" class=\"dataframe\">\n",
       "  <thead>\n",
       "    <tr style=\"text-align: right;\">\n",
       "      <th></th>\n",
       "      <th>Provider</th>\n",
       "      <th>count</th>\n",
       "      <th>nunique</th>\n",
       "      <th>Avg Claims</th>\n",
       "    </tr>\n",
       "  </thead>\n",
       "  <tbody>\n",
       "    <tr>\n",
       "      <th>3510</th>\n",
       "      <td>PRV55405</td>\n",
       "      <td>10</td>\n",
       "      <td>1</td>\n",
       "      <td>10.0</td>\n",
       "    </tr>\n",
       "    <tr>\n",
       "      <th>4305</th>\n",
       "      <td>PRV56381</td>\n",
       "      <td>8</td>\n",
       "      <td>1</td>\n",
       "      <td>8.0</td>\n",
       "    </tr>\n",
       "    <tr>\n",
       "      <th>3084</th>\n",
       "      <td>PRV54862</td>\n",
       "      <td>7</td>\n",
       "      <td>1</td>\n",
       "      <td>7.0</td>\n",
       "    </tr>\n",
       "    <tr>\n",
       "      <th>1756</th>\n",
       "      <td>PRV53191</td>\n",
       "      <td>15</td>\n",
       "      <td>3</td>\n",
       "      <td>5.0</td>\n",
       "    </tr>\n",
       "    <tr>\n",
       "      <th>4781</th>\n",
       "      <td>PRV56990</td>\n",
       "      <td>55</td>\n",
       "      <td>11</td>\n",
       "      <td>5.0</td>\n",
       "    </tr>\n",
       "    <tr>\n",
       "      <th>...</th>\n",
       "      <td>...</td>\n",
       "      <td>...</td>\n",
       "      <td>...</td>\n",
       "      <td>...</td>\n",
       "    </tr>\n",
       "    <tr>\n",
       "      <th>916</th>\n",
       "      <td>PRV52147</td>\n",
       "      <td>211</td>\n",
       "      <td>211</td>\n",
       "      <td>1.0</td>\n",
       "    </tr>\n",
       "    <tr>\n",
       "      <th>2978</th>\n",
       "      <td>PRV54710</td>\n",
       "      <td>2</td>\n",
       "      <td>2</td>\n",
       "      <td>1.0</td>\n",
       "    </tr>\n",
       "    <tr>\n",
       "      <th>2979</th>\n",
       "      <td>PRV54711</td>\n",
       "      <td>2</td>\n",
       "      <td>2</td>\n",
       "      <td>1.0</td>\n",
       "    </tr>\n",
       "    <tr>\n",
       "      <th>4080</th>\n",
       "      <td>PRV56106</td>\n",
       "      <td>2</td>\n",
       "      <td>2</td>\n",
       "      <td>1.0</td>\n",
       "    </tr>\n",
       "    <tr>\n",
       "      <th>2809</th>\n",
       "      <td>PRV54502</td>\n",
       "      <td>3</td>\n",
       "      <td>3</td>\n",
       "      <td>1.0</td>\n",
       "    </tr>\n",
       "  </tbody>\n",
       "</table>\n",
       "<p>5410 rows × 4 columns</p>\n",
       "</div>"
      ],
      "text/plain": [
       "      Provider  count  nunique  Avg Claims\n",
       "3510  PRV55405     10        1        10.0\n",
       "4305  PRV56381      8        1         8.0\n",
       "3084  PRV54862      7        1         7.0\n",
       "1756  PRV53191     15        3         5.0\n",
       "4781  PRV56990     55       11         5.0\n",
       "...        ...    ...      ...         ...\n",
       "916   PRV52147    211      211         1.0\n",
       "2978  PRV54710      2        2         1.0\n",
       "2979  PRV54711      2        2         1.0\n",
       "4080  PRV56106      2        2         1.0\n",
       "2809  PRV54502      3        3         1.0\n",
       "\n",
       "[5410 rows x 4 columns]"
      ]
     },
     "execution_count": 421,
     "metadata": {},
     "output_type": "execute_result"
    }
   ],
   "source": [
    "provider_claims.sort_values(by='Avg Claims', ascending=False)"
   ]
  },
  {
   "cell_type": "code",
   "execution_count": 422,
   "id": "0a790144",
   "metadata": {
    "scrolled": true
   },
   "outputs": [
    {
     "data": {
      "text/plain": [
       "<AxesSubplot:ylabel='Frequency'>"
      ]
     },
     "execution_count": 422,
     "metadata": {},
     "output_type": "execute_result"
    },
    {
     "data": {
      "image/png": "[encoded data removed]",
      "text/plain": [
       "<Figure size 1296x432 with 1 Axes>"
      ]
     },
     "metadata": {
      "needs_background": "light"
     },
     "output_type": "display_data"
    }
   ],
   "source": [
    "provider_claims[['Provider', 'Avg Claims']].plot.hist()"
   ]
  },
  {
   "cell_type": "code",
   "execution_count": null,
   "id": "7d09a307",
   "metadata": {},
   "outputs": [],
   "source": [
    "#most providers process 1-3 claims per patient but there are a few that process 5+"
   ]
  },
  {
   "cell_type": "code",
   "execution_count": 424,
   "id": "2fddef9d",
   "metadata": {},
   "outputs": [
    {
     "data": {
      "text/plain": [
       "0         25\n",
       "1        132\n",
       "2        149\n",
       "3       1165\n",
       "4         72\n",
       "        ... \n",
       "5405      28\n",
       "5406      22\n",
       "5407      82\n",
       "5408       1\n",
       "5409     118\n",
       "Name: count, Length: 5410, dtype: int64"
      ]
     },
     "execution_count": 424,
     "metadata": {},
     "output_type": "execute_result"
    }
   ],
   "source": [
    "provider_claims['count']"
   ]
  },
  {
   "cell_type": "code",
   "execution_count": 432,
   "id": "e9800293",
   "metadata": {},
   "outputs": [],
   "source": [
    "provider_claims = pd.merge(provider_claims, provider_potential, on= \"Provider\")"
   ]
  },
  {
   "cell_type": "code",
   "execution_count": 433,
   "id": "54fba9c7",
   "metadata": {},
   "outputs": [
    {
     "data": {
      "text/html": [
       "<div>\n",
       "<style scoped>\n",
       "    .dataframe tbody tr th:only-of-type {\n",
       "        vertical-align: middle;\n",
       "    }\n",
       "\n",
       "    .dataframe tbody tr th {\n",
       "        vertical-align: top;\n",
       "    }\n",
       "\n",
       "    .dataframe thead th {\n",
       "        text-align: right;\n",
       "    }\n",
       "</style>\n",
       "<table border=\"1\" class=\"dataframe\">\n",
       "  <thead>\n",
       "    <tr style=\"text-align: right;\">\n",
       "      <th></th>\n",
       "      <th>Provider</th>\n",
       "      <th>count</th>\n",
       "      <th>nunique</th>\n",
       "      <th>Avg Claims</th>\n",
       "      <th>PotentialFraud</th>\n",
       "    </tr>\n",
       "  </thead>\n",
       "  <tbody>\n",
       "    <tr>\n",
       "      <th>0</th>\n",
       "      <td>PRV51001</td>\n",
       "      <td>25</td>\n",
       "      <td>24</td>\n",
       "      <td>1.041667</td>\n",
       "      <td>No</td>\n",
       "    </tr>\n",
       "    <tr>\n",
       "      <th>1</th>\n",
       "      <td>PRV51003</td>\n",
       "      <td>132</td>\n",
       "      <td>117</td>\n",
       "      <td>1.128205</td>\n",
       "      <td>Yes</td>\n",
       "    </tr>\n",
       "    <tr>\n",
       "      <th>2</th>\n",
       "      <td>PRV51004</td>\n",
       "      <td>149</td>\n",
       "      <td>138</td>\n",
       "      <td>1.079710</td>\n",
       "      <td>No</td>\n",
       "    </tr>\n",
       "    <tr>\n",
       "      <th>3</th>\n",
       "      <td>PRV51005</td>\n",
       "      <td>1165</td>\n",
       "      <td>495</td>\n",
       "      <td>2.353535</td>\n",
       "      <td>Yes</td>\n",
       "    </tr>\n",
       "    <tr>\n",
       "      <th>4</th>\n",
       "      <td>PRV51007</td>\n",
       "      <td>72</td>\n",
       "      <td>58</td>\n",
       "      <td>1.241379</td>\n",
       "      <td>No</td>\n",
       "    </tr>\n",
       "    <tr>\n",
       "      <th>...</th>\n",
       "      <td>...</td>\n",
       "      <td>...</td>\n",
       "      <td>...</td>\n",
       "      <td>...</td>\n",
       "      <td>...</td>\n",
       "    </tr>\n",
       "    <tr>\n",
       "      <th>5405</th>\n",
       "      <td>PRV57759</td>\n",
       "      <td>28</td>\n",
       "      <td>24</td>\n",
       "      <td>1.166667</td>\n",
       "      <td>No</td>\n",
       "    </tr>\n",
       "    <tr>\n",
       "      <th>5406</th>\n",
       "      <td>PRV57760</td>\n",
       "      <td>22</td>\n",
       "      <td>9</td>\n",
       "      <td>2.444444</td>\n",
       "      <td>No</td>\n",
       "    </tr>\n",
       "    <tr>\n",
       "      <th>5407</th>\n",
       "      <td>PRV57761</td>\n",
       "      <td>82</td>\n",
       "      <td>67</td>\n",
       "      <td>1.223881</td>\n",
       "      <td>No</td>\n",
       "    </tr>\n",
       "    <tr>\n",
       "      <th>5408</th>\n",
       "      <td>PRV57762</td>\n",
       "      <td>1</td>\n",
       "      <td>1</td>\n",
       "      <td>1.000000</td>\n",
       "      <td>No</td>\n",
       "    </tr>\n",
       "    <tr>\n",
       "      <th>5409</th>\n",
       "      <td>PRV57763</td>\n",
       "      <td>118</td>\n",
       "      <td>70</td>\n",
       "      <td>1.685714</td>\n",
       "      <td>No</td>\n",
       "    </tr>\n",
       "  </tbody>\n",
       "</table>\n",
       "<p>5410 rows × 5 columns</p>\n",
       "</div>"
      ],
      "text/plain": [
       "      Provider  count  nunique  Avg Claims PotentialFraud\n",
       "0     PRV51001     25       24    1.041667             No\n",
       "1     PRV51003    132      117    1.128205            Yes\n",
       "2     PRV51004    149      138    1.079710             No\n",
       "3     PRV51005   1165      495    2.353535            Yes\n",
       "4     PRV51007     72       58    1.241379             No\n",
       "...        ...    ...      ...         ...            ...\n",
       "5405  PRV57759     28       24    1.166667             No\n",
       "5406  PRV57760     22        9    2.444444             No\n",
       "5407  PRV57761     82       67    1.223881             No\n",
       "5408  PRV57762      1        1    1.000000             No\n",
       "5409  PRV57763    118       70    1.685714             No\n",
       "\n",
       "[5410 rows x 5 columns]"
      ]
     },
     "execution_count": 433,
     "metadata": {},
     "output_type": "execute_result"
    }
   ],
   "source": [
    "provider_claims"
   ]
  },
  {
   "cell_type": "code",
   "execution_count": 449,
   "id": "d18d9f08",
   "metadata": {},
   "outputs": [
    {
     "data": {
      "text/plain": [
       "array([[<AxesSubplot:title={'center':'Avg Claims'}>]], dtype=object)"
      ]
     },
     "execution_count": 449,
     "metadata": {},
     "output_type": "execute_result"
    },
    {
     "data": {
      "image/png": "[encoded data removed]",
      "text/plain": [
       "<Figure size 1296x432 with 1 Axes>"
      ]
     },
     "metadata": {
      "needs_background": "light"
     },
     "output_type": "display_data"
    },
    {
     "data": {
      "image/png": "[encoded data removed]",
      "text/plain": [
       "<Figure size 1296x432 with 1 Axes>"
      ]
     },
     "metadata": {
      "needs_background": "light"
     },
     "output_type": "display_data"
    }
   ],
   "source": [
    "provider_claims[provider_claims['PotentialFraud'] == 'No'][['Avg Claims']].hist()\n",
    "provider_claims[provider_claims['PotentialFraud'] == 'Yes'][['Avg Claims']].hist()\n",
    "\n",
    "#potential fraud providers process more claims per patient"
   ]
  },
  {
   "cell_type": "code",
   "execution_count": null,
   "id": "47a38baa",
   "metadata": {},
   "outputs": [],
   "source": []
  },
  {
   "cell_type": "code",
   "execution_count": null,
   "id": "de99ecbb",
   "metadata": {},
   "outputs": [],
   "source": [
    "How are the service durations related to the total claim amounts, i.e. InscClaimAmtReimbursed+DeductibleAmtPaid?"
   ]
  },
  {
   "cell_type": "markdown",
   "id": "816b0724",
   "metadata": {},
   "source": [
    "### Beneficiary"
   ]
  },
  {
   "cell_type": "code",
   "execution_count": 368,
   "id": "51d5c6ba",
   "metadata": {},
   "outputs": [
    {
     "data": {
      "text/html": [
       "<div>\n",
       "<style scoped>\n",
       "    .dataframe tbody tr th:only-of-type {\n",
       "        vertical-align: middle;\n",
       "    }\n",
       "\n",
       "    .dataframe tbody tr th {\n",
       "        vertical-align: top;\n",
       "    }\n",
       "\n",
       "    .dataframe thead th {\n",
       "        text-align: right;\n",
       "    }\n",
       "</style>\n",
       "<table border=\"1\" class=\"dataframe\">\n",
       "  <thead>\n",
       "    <tr style=\"text-align: right;\">\n",
       "      <th></th>\n",
       "      <th>BeneID</th>\n",
       "      <th>Gender</th>\n",
       "      <th>Race</th>\n",
       "      <th>RenalDiseaseIndicator</th>\n",
       "      <th>State</th>\n",
       "      <th>County</th>\n",
       "      <th>ChronicCond_Alzheimer</th>\n",
       "      <th>ChronicCond_Heartfailure</th>\n",
       "      <th>ChronicCond_KidneyDisease</th>\n",
       "      <th>ChronicCond_Cancer</th>\n",
       "      <th>...</th>\n",
       "      <th>ChronicCond_Diabetes</th>\n",
       "      <th>ChronicCond_IschemicHeart</th>\n",
       "      <th>ChronicCond_Osteoporasis</th>\n",
       "      <th>ChronicCond_rheumatoidarthritis</th>\n",
       "      <th>ChronicCond_stroke</th>\n",
       "      <th>IPAnnualReimbursementAmt</th>\n",
       "      <th>IPAnnualDeductibleAmt</th>\n",
       "      <th>OPAnnualReimbursementAmt</th>\n",
       "      <th>OPAnnualDeductibleAmt</th>\n",
       "      <th>total_chronic</th>\n",
       "    </tr>\n",
       "  </thead>\n",
       "  <tbody>\n",
       "    <tr>\n",
       "      <th>0</th>\n",
       "      <td>BENE11001</td>\n",
       "      <td>1</td>\n",
       "      <td>1</td>\n",
       "      <td>0</td>\n",
       "      <td>39</td>\n",
       "      <td>230</td>\n",
       "      <td>1</td>\n",
       "      <td>0</td>\n",
       "      <td>1</td>\n",
       "      <td>0</td>\n",
       "      <td>...</td>\n",
       "      <td>1</td>\n",
       "      <td>1</td>\n",
       "      <td>0</td>\n",
       "      <td>1</td>\n",
       "      <td>1</td>\n",
       "      <td>36000</td>\n",
       "      <td>3204</td>\n",
       "      <td>60</td>\n",
       "      <td>70</td>\n",
       "      <td>7</td>\n",
       "    </tr>\n",
       "    <tr>\n",
       "      <th>1</th>\n",
       "      <td>BENE11002</td>\n",
       "      <td>2</td>\n",
       "      <td>1</td>\n",
       "      <td>0</td>\n",
       "      <td>39</td>\n",
       "      <td>280</td>\n",
       "      <td>0</td>\n",
       "      <td>0</td>\n",
       "      <td>0</td>\n",
       "      <td>0</td>\n",
       "      <td>...</td>\n",
       "      <td>0</td>\n",
       "      <td>0</td>\n",
       "      <td>0</td>\n",
       "      <td>0</td>\n",
       "      <td>0</td>\n",
       "      <td>0</td>\n",
       "      <td>0</td>\n",
       "      <td>30</td>\n",
       "      <td>50</td>\n",
       "      <td>0</td>\n",
       "    </tr>\n",
       "    <tr>\n",
       "      <th>2</th>\n",
       "      <td>BENE11003</td>\n",
       "      <td>1</td>\n",
       "      <td>1</td>\n",
       "      <td>0</td>\n",
       "      <td>52</td>\n",
       "      <td>590</td>\n",
       "      <td>1</td>\n",
       "      <td>0</td>\n",
       "      <td>0</td>\n",
       "      <td>0</td>\n",
       "      <td>...</td>\n",
       "      <td>0</td>\n",
       "      <td>1</td>\n",
       "      <td>0</td>\n",
       "      <td>0</td>\n",
       "      <td>0</td>\n",
       "      <td>0</td>\n",
       "      <td>0</td>\n",
       "      <td>90</td>\n",
       "      <td>40</td>\n",
       "      <td>2</td>\n",
       "    </tr>\n",
       "    <tr>\n",
       "      <th>3</th>\n",
       "      <td>BENE11004</td>\n",
       "      <td>1</td>\n",
       "      <td>1</td>\n",
       "      <td>0</td>\n",
       "      <td>39</td>\n",
       "      <td>270</td>\n",
       "      <td>1</td>\n",
       "      <td>1</td>\n",
       "      <td>0</td>\n",
       "      <td>0</td>\n",
       "      <td>...</td>\n",
       "      <td>1</td>\n",
       "      <td>1</td>\n",
       "      <td>1</td>\n",
       "      <td>1</td>\n",
       "      <td>0</td>\n",
       "      <td>0</td>\n",
       "      <td>0</td>\n",
       "      <td>1810</td>\n",
       "      <td>760</td>\n",
       "      <td>6</td>\n",
       "    </tr>\n",
       "    <tr>\n",
       "      <th>4</th>\n",
       "      <td>BENE11005</td>\n",
       "      <td>1</td>\n",
       "      <td>1</td>\n",
       "      <td>0</td>\n",
       "      <td>24</td>\n",
       "      <td>680</td>\n",
       "      <td>0</td>\n",
       "      <td>0</td>\n",
       "      <td>0</td>\n",
       "      <td>0</td>\n",
       "      <td>...</td>\n",
       "      <td>1</td>\n",
       "      <td>0</td>\n",
       "      <td>0</td>\n",
       "      <td>0</td>\n",
       "      <td>0</td>\n",
       "      <td>0</td>\n",
       "      <td>0</td>\n",
       "      <td>1790</td>\n",
       "      <td>1200</td>\n",
       "      <td>2</td>\n",
       "    </tr>\n",
       "  </tbody>\n",
       "</table>\n",
       "<p>5 rows × 22 columns</p>\n",
       "</div>"
      ],
      "text/plain": [
       "      BeneID  Gender  Race  RenalDiseaseIndicator  State  County  \\\n",
       "0  BENE11001       1     1                      0     39     230   \n",
       "1  BENE11002       2     1                      0     39     280   \n",
       "2  BENE11003       1     1                      0     52     590   \n",
       "3  BENE11004       1     1                      0     39     270   \n",
       "4  BENE11005       1     1                      0     24     680   \n",
       "\n",
       "   ChronicCond_Alzheimer  ChronicCond_Heartfailure  ChronicCond_KidneyDisease  \\\n",
       "0                      1                         0                          1   \n",
       "1                      0                         0                          0   \n",
       "2                      1                         0                          0   \n",
       "3                      1                         1                          0   \n",
       "4                      0                         0                          0   \n",
       "\n",
       "   ChronicCond_Cancer  ...  ChronicCond_Diabetes  ChronicCond_IschemicHeart  \\\n",
       "0                   0  ...                     1                          1   \n",
       "1                   0  ...                     0                          0   \n",
       "2                   0  ...                     0                          1   \n",
       "3                   0  ...                     1                          1   \n",
       "4                   0  ...                     1                          0   \n",
       "\n",
       "   ChronicCond_Osteoporasis  ChronicCond_rheumatoidarthritis  \\\n",
       "0                         0                                1   \n",
       "1                         0                                0   \n",
       "2                         0                                0   \n",
       "3                         1                                1   \n",
       "4                         0                                0   \n",
       "\n",
       "   ChronicCond_stroke  IPAnnualReimbursementAmt  IPAnnualDeductibleAmt  \\\n",
       "0                   1                     36000                   3204   \n",
       "1                   0                         0                      0   \n",
       "2                   0                         0                      0   \n",
       "3                   0                         0                      0   \n",
       "4                   0                         0                      0   \n",
       "\n",
       "   OPAnnualReimbursementAmt  OPAnnualDeductibleAmt  total_chronic  \n",
       "0                        60                     70              7  \n",
       "1                        30                     50              0  \n",
       "2                        90                     40              2  \n",
       "3                      1810                    760              6  \n",
       "4                      1790                   1200              2  \n",
       "\n",
       "[5 rows x 22 columns]"
      ]
     },
     "execution_count": 368,
     "metadata": {},
     "output_type": "execute_result"
    }
   ],
   "source": [
    "bene.head()"
   ]
  },
  {
   "cell_type": "code",
   "execution_count": 372,
   "id": "21f859b1",
   "metadata": {},
   "outputs": [],
   "source": [
    "bene_merge = bene[['BeneID', 'Gender', 'Race']]"
   ]
  },
  {
   "cell_type": "code",
   "execution_count": 374,
   "id": "2a83beba",
   "metadata": {},
   "outputs": [],
   "source": [
    "patients = pd.merge(patient, bene_merge, on='BeneID', how='left')"
   ]
  },
  {
   "cell_type": "code",
   "execution_count": 375,
   "id": "0d2a39be",
   "metadata": {},
   "outputs": [],
   "source": [
    "patient.to_csv('patient.csv')"
   ]
  }
 ],
 "metadata": {
  "kernelspec": {
   "display_name": "Python 3 (ipykernel)",
   "language": "python",
   "name": "python3"
  },
  "language_info": {
   "codemirror_mode": {
    "name": "ipython",
    "version": 3
   },
   "file_extension": ".py",
   "mimetype": "text/x-python",
   "name": "python",
   "nbconvert_exporter": "python",
   "pygments_lexer": "ipython3",
   "version": "3.9.7"
  }
 },
 "nbformat": 4,
 "nbformat_minor": 5
}
